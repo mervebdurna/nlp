{
 "cells": [
  {
   "cell_type": "markdown",
   "metadata": {
    "colab_type": "text",
    "id": "XbfeYqCSJFm5"
   },
   "source": [
    "Suppose, We're in a situation to create a Sentiment analysis model, we have the dataset available but the problem here is machine will not going to understand the sentences of any languages, we have to clean those dataset by using stopwords, deleting punctuation and many more irrelevant things inside the data and We have to make it upto that level where we can feed those data to our machine or deep learning algorithms from that we can get some output with it.\n",
    "\n",
    "We are assuming you have a knowledge of Python, and if not, nothing to worry, we will give you some overview of it.\n",
    "\n",
    "## 1.Python String\n",
    "\n",
    "A String is like a sequence of Characters.\n",
    "\n",
    "A character is just a symbol.Like, the English language has 26 characters.\n",
    "\n",
    "Computers don't deal with characters,they deal with binary(numbers) only. Even though you seen characters but internally it is stored and manipulated with the combination of 0's and 1's.\n",
    "The conversion of character to a number is known as encoding, and the reverse is decoding.\n",
    "\n",
    "String literally surrounded by a single or double quotations like:"
   ]
  },
  {
   "cell_type": "code",
   "execution_count": 1,
   "metadata": {
    "colab": {
     "base_uri": "https://localhost:8080/",
     "height": 34
    },
    "colab_type": "code",
    "executionInfo": {
     "elapsed": 2473,
     "status": "ok",
     "timestamp": 1587308620144,
     "user": {
      "displayName": "Plaban Nayak",
      "photoUrl": "https://lh3.googleusercontent.com/a-/AOh14GhpiPuIKtntBPYdHxwHUqqujeyZU8kubjFK_d6IAg=s64",
      "userId": "08012991239448816971"
     },
     "user_tz": -330
    },
    "id": "lqH5og0gJFm8",
    "outputId": "e92cb9d6-524c-4c3c-a92f-103a559df39c"
   },
   "outputs": [
    {
     "name": "stdout",
     "output_type": "stream",
     "text": [
      "iNeuron\n"
     ]
    }
   ],
   "source": [
    "a = \"iNeuron\"\n",
    "print(a)"
   ]
  },
  {
   "cell_type": "markdown",
   "metadata": {
    "colab_type": "text",
    "id": "1RCXneoOJFnJ"
   },
   "source": [
    "### Strings are arrays\n",
    "\n",
    "Like in other popular programming languages, strings in Python are arrays of bytes represents unicode characters.\n",
    "\n",
    "However, Python doesn't have the character as the datatype, single character is just simply a string with length of 1.\n",
    "\n",
    "We used square bracket to access elements from the string."
   ]
  },
  {
   "cell_type": "code",
   "execution_count": 0,
   "metadata": {
    "colab": {
     "base_uri": "https://localhost:8080/",
     "height": 34
    },
    "colab_type": "code",
    "executionInfo": {
     "elapsed": 4758,
     "status": "ok",
     "timestamp": 1587308636792,
     "user": {
      "displayName": "Plaban Nayak",
      "photoUrl": "https://lh3.googleusercontent.com/a-/AOh14GhpiPuIKtntBPYdHxwHUqqujeyZU8kubjFK_d6IAg=s64",
      "userId": "08012991239448816971"
     },
     "user_tz": -330
    },
    "id": "gNB6lImmJFnK",
    "outputId": "5dbe17be-a2b0-4396-a01d-eea70538baa2"
   },
   "outputs": [
    {
     "name": "stdout",
     "output_type": "stream",
     "text": [
      "r\n"
     ]
    }
   ],
   "source": [
    "#Get the character at position 4(Here, indexing starts from 0)\n",
    "a = \"iNeuron\"\n",
    "print(a[4])  "
   ]
  },
  {
   "cell_type": "markdown",
   "metadata": {
    "colab_type": "text",
    "id": "Dfs-JIeSJFnS"
   },
   "source": [
    "### Slicing\n",
    "\n",
    "You can get the output upto certain range of characters by using the slicing index.\n",
    "\n",
    "Specify the start index and end index, which is separated by colon, to return a part of the string."
   ]
  },
  {
   "cell_type": "code",
   "execution_count": 0,
   "metadata": {
    "colab": {},
    "colab_type": "code",
    "id": "I6T0u262JFnT",
    "outputId": "a74326eb-02d8-4bb5-a521-4ed94c2beefe"
   },
   "outputs": [
    {
     "name": "stdout",
     "output_type": "stream",
     "text": [
      "uro\n",
      "--------------------------------------------------\n",
      "Neur\n",
      "--------------------------------------------------\n",
      "er\n"
     ]
    }
   ],
   "source": [
    "#To get the output from the position 3 to 6(not included)\n",
    "a = \"iNeuron\"\n",
    "print(a[3:6])\n",
    "print(\"-\" * 50)\n",
    "\n",
    "#To get the output by negative indexing from -6 position to -2 position.\n",
    "print(a[-6:-2])\n",
    "print(\"-\" * 50)\n",
    "\n",
    "#Get the results from position 2 to 6 but give result with the increment of 2.\n",
    "print(a[2:6:2])"
   ]
  },
  {
   "cell_type": "markdown",
   "metadata": {
    "colab_type": "text",
    "id": "JHou4XVkJFnc"
   },
   "source": [
    "### String Methods \n",
    "\n",
    "Python have set of built-in methods that you can use on strings."
   ]
  },
  {
   "cell_type": "code",
   "execution_count": 0,
   "metadata": {
    "colab": {
     "base_uri": "https://localhost:8080/",
     "height": 34
    },
    "colab_type": "code",
    "executionInfo": {
     "elapsed": 2267,
     "status": "ok",
     "timestamp": 1587308653748,
     "user": {
      "displayName": "Plaban Nayak",
      "photoUrl": "https://lh3.googleusercontent.com/a-/AOh14GhpiPuIKtntBPYdHxwHUqqujeyZU8kubjFK_d6IAg=s64",
      "userId": "08012991239448816971"
     },
     "user_tz": -330
    },
    "id": "AaM_dDq7JFnd",
    "outputId": "cc397064-ed5f-43fe-a7b4-b65e6df20418"
   },
   "outputs": [
    {
     "name": "stdout",
     "output_type": "stream",
     "text": [
      "['iNeuron']\n"
     ]
    }
   ],
   "source": [
    "#strip() will remove whitespace in the string from begining to the end.\n",
    "a = \" iNeuron \"\n",
    "print(a.split())"
   ]
  },
  {
   "cell_type": "code",
   "execution_count": 0,
   "metadata": {
    "colab": {
     "base_uri": "https://localhost:8080/",
     "height": 51
    },
    "colab_type": "code",
    "executionInfo": {
     "elapsed": 1091,
     "status": "ok",
     "timestamp": 1587308668621,
     "user": {
      "displayName": "Plaban Nayak",
      "photoUrl": "https://lh3.googleusercontent.com/a-/AOh14GhpiPuIKtntBPYdHxwHUqqujeyZU8kubjFK_d6IAg=s64",
      "userId": "08012991239448816971"
     },
     "user_tz": -330
    },
    "id": "YiVPNNB2JFnm",
    "outputId": "c60724b2-ab81-4b64-ce6b-fa129e1ee371"
   },
   "outputs": [
    {
     "name": "stdout",
     "output_type": "stream",
     "text": [
      "ineuron\n",
      "INEURON\n"
     ]
    }
   ],
   "source": [
    "#lower() will lowercase the words which are upper in the sentences.\n",
    "a = \"iNeuron\"\n",
    "print(a.lower())\n",
    "\n",
    "#upper() will transform lowercase into upper.\n",
    "print(a.upper())"
   ]
  },
  {
   "cell_type": "code",
   "execution_count": 0,
   "metadata": {
    "colab": {
     "base_uri": "https://localhost:8080/",
     "height": 34
    },
    "colab_type": "code",
    "executionInfo": {
     "elapsed": 1096,
     "status": "ok",
     "timestamp": 1587308671430,
     "user": {
      "displayName": "Plaban Nayak",
      "photoUrl": "https://lh3.googleusercontent.com/a-/AOh14GhpiPuIKtntBPYdHxwHUqqujeyZU8kubjFK_d6IAg=s64",
      "userId": "08012991239448816971"
     },
     "user_tz": -330
    },
    "id": "JxWGgRs6JFnv",
    "outputId": "00e70199-9020-45a2-b8c2-77f6d6a55933"
   },
   "outputs": [
    {
     "name": "stdout",
     "output_type": "stream",
     "text": [
      "meNeuron\n"
     ]
    }
   ],
   "source": [
    "#replace() will work like replace one string with another string.\n",
    "a = \"iNeuron\"\n",
    "print(a.replace(\"i\", \"me\"))"
   ]
  },
  {
   "cell_type": "code",
   "execution_count": 0,
   "metadata": {
    "colab": {
     "base_uri": "https://localhost:8080/",
     "height": 34
    },
    "colab_type": "code",
    "executionInfo": {
     "elapsed": 1399,
     "status": "ok",
     "timestamp": 1587308679315,
     "user": {
      "displayName": "Plaban Nayak",
      "photoUrl": "https://lh3.googleusercontent.com/a-/AOh14GhpiPuIKtntBPYdHxwHUqqujeyZU8kubjFK_d6IAg=s64",
      "userId": "08012991239448816971"
     },
     "user_tz": -330
    },
    "id": "p11MMZuUJFn4",
    "outputId": "a2262cc8-76c7-4cde-da79-d0952d12db3e"
   },
   "outputs": [
    {
     "name": "stdout",
     "output_type": "stream",
     "text": [
      "['iNeur', 'n']\n"
     ]
    }
   ],
   "source": [
    "#split() will split the strings into substrings if it finds any instances of seprator.\n",
    "a = \"iNeuron\"\n",
    "print(a.split(\"o\"))"
   ]
  },
  {
   "cell_type": "markdown",
   "metadata": {
    "colab_type": "text",
    "id": "N3xSmTR6JFoA"
   },
   "source": [
    "### String Concatenation\n",
    "\n",
    "To concatenate or combine two strings by use of + operator."
   ]
  },
  {
   "cell_type": "code",
   "execution_count": 0,
   "metadata": {
    "colab": {
     "base_uri": "https://localhost:8080/",
     "height": 34
    },
    "colab_type": "code",
    "executionInfo": {
     "elapsed": 1245,
     "status": "ok",
     "timestamp": 1587308684316,
     "user": {
      "displayName": "Plaban Nayak",
      "photoUrl": "https://lh3.googleusercontent.com/a-/AOh14GhpiPuIKtntBPYdHxwHUqqujeyZU8kubjFK_d6IAg=s64",
      "userId": "08012991239448816971"
     },
     "user_tz": -330
    },
    "id": "s_olPIBHJFoB",
    "outputId": "5e0ab97c-6436-4e56-a613-98dc22ceeb99"
   },
   "outputs": [
    {
     "name": "stdout",
     "output_type": "stream",
     "text": [
      "iNeuron Data\n"
     ]
    }
   ],
   "source": [
    "a = \"iNeuron\"\n",
    "b = \"Data\"\n",
    "print(a +\" \"+ b)"
   ]
  },
  {
   "cell_type": "markdown",
   "metadata": {
    "colab_type": "text",
    "id": "E4ncmQyZJFoI"
   },
   "source": [
    "## Import text\n",
    "\n",
    "In NLP your dataset would be in .txt, .csv type of format, you need to import it and try to clean the irrelevant datas from the dataset.Here we'll going to understand Python file handling:create,open,read,append,write.\n",
    "\n",
    "### Create a text file \n",
    "With the use of python you can create the text files by using code,we have demostrated here how you can do this."
   ]
  },
  {
   "cell_type": "code",
   "execution_count": 6,
   "metadata": {
    "colab": {
     "base_uri": "https://localhost:8080/",
     "height": 74,
     "resources": {
      "http://localhost:8080/nbextensions/google.colab/files.js": {
       "data": "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",
       "headers": [
        [
         "content-type",
         "application/javascript"
        ]
       ],
       "ok": true,
       "status": 200,
       "status_text": ""
      }
     }
    },
    "colab_type": "code",
    "collapsed": true,
    "executionInfo": {
     "elapsed": 8943,
     "status": "ok",
     "timestamp": 1587308886028,
     "user": {
      "displayName": "Plaban Nayak",
      "photoUrl": "https://lh3.googleusercontent.com/a-/AOh14GhpiPuIKtntBPYdHxwHUqqujeyZU8kubjFK_d6IAg=s64",
      "userId": "08012991239448816971"
     },
     "user_tz": -330
    },
    "id": "SBkimiN0JFoK",
    "outputId": "25917268-5204-40f0-cd49-db202dc1f997"
   },
   "outputs": [
    {
     "name": "stderr",
     "output_type": "stream",
     "text": [
      "WARNING: Ignoring invalid distribution -ymongo (c:\\users\\merve\\appdata\\roaming\\python\\python39\\site-packages)\n",
      "WARNING: Ignoring invalid distribution -ymongo (c:\\users\\merve\\appdata\\roaming\\python\\python39\\site-packages)\n",
      "  ERROR: Command errored out with exit status 1:\n",
      "   command: 'C:\\ProgramData\\Anaconda3\\python.exe' -u -c 'import io, os, sys, setuptools, tokenize; sys.argv[0] = '\"'\"'C:\\\\Users\\\\merve\\\\AppData\\\\Local\\\\Temp\\\\pip-install-2gfjzisu\\\\pandas_ccb4b316be4e49f7b86fdf9d14b48849\\\\setup.py'\"'\"'; __file__='\"'\"'C:\\\\Users\\\\merve\\\\AppData\\\\Local\\\\Temp\\\\pip-install-2gfjzisu\\\\pandas_ccb4b316be4e49f7b86fdf9d14b48849\\\\setup.py'\"'\"';f = getattr(tokenize, '\"'\"'open'\"'\"', open)(__file__) if os.path.exists(__file__) else io.StringIO('\"'\"'from setuptools import setup; setup()'\"'\"');code = f.read().replace('\"'\"'\\r\\n'\"'\"', '\"'\"'\\n'\"'\"');f.close();exec(compile(code, __file__, '\"'\"'exec'\"'\"'))' bdist_wheel -d 'C:\\Users\\merve\\AppData\\Local\\Temp\\pip-wheel-gzoa9rr_'\n",
      "       cwd: C:\\Users\\merve\\AppData\\Local\\Temp\\pip-install-2gfjzisu\\pandas_ccb4b316be4e49f7b86fdf9d14b48849\\\n",
      "  Complete output (843 lines):\n",
      "  C:\\Users\\merve\\AppData\\Local\\Temp\\pip-install-2gfjzisu\\pandas_ccb4b316be4e49f7b86fdf9d14b48849\\setup.py:50: DeprecationWarning: distutils Version classes are deprecated. Use packaging.version instead.\n",
      "    _CYTHON_INSTALLED = ver >= LooseVersion(min_cython_ver)\n",
      "  running bdist_wheel\n",
      "  running build\n",
      "  running build_py\n",
      "  creating build\n",
      "  creating build\\lib.win-amd64-3.9\n",
      "  creating build\\lib.win-amd64-3.9\\pandas\n",
      "  copying pandas\\conftest.py -> build\\lib.win-amd64-3.9\\pandas\n",
      "  copying pandas\\testing.py -> build\\lib.win-amd64-3.9\\pandas\n",
      "  copying pandas\\_version.py -> build\\lib.win-amd64-3.9\\pandas\n",
      "  copying pandas\\__init__.py -> build\\lib.win-amd64-3.9\\pandas\n",
      "  creating build\\lib.win-amd64-3.9\\pandas\\api\n",
      "  copying pandas\\api\\__init__.py -> build\\lib.win-amd64-3.9\\pandas\\api\n",
      "  creating build\\lib.win-amd64-3.9\\pandas\\arrays\n",
      "  copying pandas\\arrays\\__init__.py -> build\\lib.win-amd64-3.9\\pandas\\arrays\n",
      "  creating build\\lib.win-amd64-3.9\\pandas\\compat\n",
      "  copying pandas\\compat\\chainmap.py -> build\\lib.win-amd64-3.9\\pandas\\compat\n",
      "  copying pandas\\compat\\chainmap_impl.py -> build\\lib.win-amd64-3.9\\pandas\\compat\n",
      "  copying pandas\\compat\\pickle_compat.py -> build\\lib.win-amd64-3.9\\pandas\\compat\n",
      "  copying pandas\\compat\\__init__.py -> build\\lib.win-amd64-3.9\\pandas\\compat\n",
      "  creating build\\lib.win-amd64-3.9\\pandas\\core\n",
      "  copying pandas\\core\\accessor.py -> build\\lib.win-amd64-3.9\\pandas\\core\n",
      "  copying pandas\\core\\algorithms.py -> build\\lib.win-amd64-3.9\\pandas\\core\n",
      "  copying pandas\\core\\api.py -> build\\lib.win-amd64-3.9\\pandas\\core\n",
      "  copying pandas\\core\\apply.py -> build\\lib.win-amd64-3.9\\pandas\\core\n",
      "  copying pandas\\core\\base.py -> build\\lib.win-amd64-3.9\\pandas\\core\n",
      "  copying pandas\\core\\categorical.py -> build\\lib.win-amd64-3.9\\pandas\\core\n",
      "  copying pandas\\core\\common.py -> build\\lib.win-amd64-3.9\\pandas\\core\n",
      "  copying pandas\\core\\config.py -> build\\lib.win-amd64-3.9\\pandas\\core\n",
      "  copying pandas\\core\\config_init.py -> build\\lib.win-amd64-3.9\\pandas\\core\n",
      "  copying pandas\\core\\frame.py -> build\\lib.win-amd64-3.9\\pandas\\core\n",
      "  copying pandas\\core\\generic.py -> build\\lib.win-amd64-3.9\\pandas\\core\n",
      "  copying pandas\\core\\index.py -> build\\lib.win-amd64-3.9\\pandas\\core\n",
      "  copying pandas\\core\\indexing.py -> build\\lib.win-amd64-3.9\\pandas\\core\n",
      "  copying pandas\\core\\missing.py -> build\\lib.win-amd64-3.9\\pandas\\core\n",
      "  copying pandas\\core\\nanops.py -> build\\lib.win-amd64-3.9\\pandas\\core\n",
      "  copying pandas\\core\\ops.py -> build\\lib.win-amd64-3.9\\pandas\\core\n",
      "  copying pandas\\core\\panel.py -> build\\lib.win-amd64-3.9\\pandas\\core\n",
      "  copying pandas\\core\\resample.py -> build\\lib.win-amd64-3.9\\pandas\\core\n",
      "  copying pandas\\core\\series.py -> build\\lib.win-amd64-3.9\\pandas\\core\n",
      "  copying pandas\\core\\sorting.py -> build\\lib.win-amd64-3.9\\pandas\\core\n",
      "  copying pandas\\core\\strings.py -> build\\lib.win-amd64-3.9\\pandas\\core\n",
      "  copying pandas\\core\\window.py -> build\\lib.win-amd64-3.9\\pandas\\core\n",
      "  copying pandas\\core\\__init__.py -> build\\lib.win-amd64-3.9\\pandas\\core\n",
      "  creating build\\lib.win-amd64-3.9\\pandas\\errors\n",
      "  copying pandas\\errors\\__init__.py -> build\\lib.win-amd64-3.9\\pandas\\errors\n",
      "  creating build\\lib.win-amd64-3.9\\pandas\\io\n",
      "  copying pandas\\io\\api.py -> build\\lib.win-amd64-3.9\\pandas\\io\n",
      "  copying pandas\\io\\clipboards.py -> build\\lib.win-amd64-3.9\\pandas\\io\n",
      "  copying pandas\\io\\common.py -> build\\lib.win-amd64-3.9\\pandas\\io\n",
      "  copying pandas\\io\\date_converters.py -> build\\lib.win-amd64-3.9\\pandas\\io\n",
      "  copying pandas\\io\\excel.py -> build\\lib.win-amd64-3.9\\pandas\\io\n",
      "  copying pandas\\io\\feather_format.py -> build\\lib.win-amd64-3.9\\pandas\\io\n",
      "  copying pandas\\io\\gbq.py -> build\\lib.win-amd64-3.9\\pandas\\io\n",
      "  copying pandas\\io\\gcs.py -> build\\lib.win-amd64-3.9\\pandas\\io\n",
      "  copying pandas\\io\\html.py -> build\\lib.win-amd64-3.9\\pandas\\io\n",
      "  copying pandas\\io\\packers.py -> build\\lib.win-amd64-3.9\\pandas\\io\n",
      "  copying pandas\\io\\parquet.py -> build\\lib.win-amd64-3.9\\pandas\\io\n",
      "  copying pandas\\io\\parsers.py -> build\\lib.win-amd64-3.9\\pandas\\io\n",
      "  copying pandas\\io\\pickle.py -> build\\lib.win-amd64-3.9\\pandas\\io\n",
      "  copying pandas\\io\\pytables.py -> build\\lib.win-amd64-3.9\\pandas\\io\n",
      "  copying pandas\\io\\s3.py -> build\\lib.win-amd64-3.9\\pandas\\io\n",
      "  copying pandas\\io\\sql.py -> build\\lib.win-amd64-3.9\\pandas\\io\n",
      "  copying pandas\\io\\stata.py -> build\\lib.win-amd64-3.9\\pandas\\io\n",
      "  copying pandas\\io\\__init__.py -> build\\lib.win-amd64-3.9\\pandas\\io\n",
      "  creating build\\lib.win-amd64-3.9\\pandas\\plotting\n",
      "  copying pandas\\plotting\\_compat.py -> build\\lib.win-amd64-3.9\\pandas\\plotting\n",
      "  copying pandas\\plotting\\_converter.py -> build\\lib.win-amd64-3.9\\pandas\\plotting\n",
      "  copying pandas\\plotting\\_core.py -> build\\lib.win-amd64-3.9\\pandas\\plotting\n",
      "  copying pandas\\plotting\\_misc.py -> build\\lib.win-amd64-3.9\\pandas\\plotting\n",
      "  copying pandas\\plotting\\_style.py -> build\\lib.win-amd64-3.9\\pandas\\plotting\n",
      "  copying pandas\\plotting\\_timeseries.py -> build\\lib.win-amd64-3.9\\pandas\\plotting\n",
      "  copying pandas\\plotting\\_tools.py -> build\\lib.win-amd64-3.9\\pandas\\plotting\n",
      "  copying pandas\\plotting\\__init__.py -> build\\lib.win-amd64-3.9\\pandas\\plotting\n",
      "  creating build\\lib.win-amd64-3.9\\pandas\\tests\n",
      "  copying pandas\\tests\\test_algos.py -> build\\lib.win-amd64-3.9\\pandas\\tests\n",
      "  copying pandas\\tests\\test_base.py -> build\\lib.win-amd64-3.9\\pandas\\tests\n",
      "  copying pandas\\tests\\test_common.py -> build\\lib.win-amd64-3.9\\pandas\\tests\n",
      "  copying pandas\\tests\\test_compat.py -> build\\lib.win-amd64-3.9\\pandas\\tests\n",
      "  copying pandas\\tests\\test_config.py -> build\\lib.win-amd64-3.9\\pandas\\tests\n",
      "  copying pandas\\tests\\test_downstream.py -> build\\lib.win-amd64-3.9\\pandas\\tests\n",
      "  copying pandas\\tests\\test_errors.py -> build\\lib.win-amd64-3.9\\pandas\\tests\n",
      "  copying pandas\\tests\\test_expressions.py -> build\\lib.win-amd64-3.9\\pandas\\tests\n",
      "  copying pandas\\tests\\test_join.py -> build\\lib.win-amd64-3.9\\pandas\\tests\n",
      "  copying pandas\\tests\\test_lib.py -> build\\lib.win-amd64-3.9\\pandas\\tests\n",
      "  copying pandas\\tests\\test_multilevel.py -> build\\lib.win-amd64-3.9\\pandas\\tests\n",
      "  copying pandas\\tests\\test_nanops.py -> build\\lib.win-amd64-3.9\\pandas\\tests\n",
      "  copying pandas\\tests\\test_panel.py -> build\\lib.win-amd64-3.9\\pandas\\tests\n",
      "  copying pandas\\tests\\test_register_accessor.py -> build\\lib.win-amd64-3.9\\pandas\\tests\n",
      "  copying pandas\\tests\\test_sorting.py -> build\\lib.win-amd64-3.9\\pandas\\tests\n",
      "  copying pandas\\tests\\test_strings.py -> build\\lib.win-amd64-3.9\\pandas\\tests\n",
      "  copying pandas\\tests\\test_take.py -> build\\lib.win-amd64-3.9\\pandas\\tests\n",
      "  copying pandas\\tests\\test_window.py -> build\\lib.win-amd64-3.9\\pandas\\tests\n",
      "  copying pandas\\tests\\__init__.py -> build\\lib.win-amd64-3.9\\pandas\\tests\n",
      "  creating build\\lib.win-amd64-3.9\\pandas\\tseries\n",
      "  copying pandas\\tseries\\api.py -> build\\lib.win-amd64-3.9\\pandas\\tseries\n",
      "  copying pandas\\tseries\\converter.py -> build\\lib.win-amd64-3.9\\pandas\\tseries\n",
      "  copying pandas\\tseries\\frequencies.py -> build\\lib.win-amd64-3.9\\pandas\\tseries\n",
      "  copying pandas\\tseries\\holiday.py -> build\\lib.win-amd64-3.9\\pandas\\tseries\n",
      "  copying pandas\\tseries\\offsets.py -> build\\lib.win-amd64-3.9\\pandas\\tseries\n",
      "  copying pandas\\tseries\\plotting.py -> build\\lib.win-amd64-3.9\\pandas\\tseries\n",
      "  copying pandas\\tseries\\__init__.py -> build\\lib.win-amd64-3.9\\pandas\\tseries\n",
      "  creating build\\lib.win-amd64-3.9\\pandas\\util\n",
      "  copying pandas\\util\\testing.py -> build\\lib.win-amd64-3.9\\pandas\\util\n",
      "  copying pandas\\util\\_decorators.py -> build\\lib.win-amd64-3.9\\pandas\\util\n",
      "  copying pandas\\util\\_depr_module.py -> build\\lib.win-amd64-3.9\\pandas\\util\n",
      "  copying pandas\\util\\_doctools.py -> build\\lib.win-amd64-3.9\\pandas\\util\n",
      "  copying pandas\\util\\_exceptions.py -> build\\lib.win-amd64-3.9\\pandas\\util\n",
      "  copying pandas\\util\\_print_versions.py -> build\\lib.win-amd64-3.9\\pandas\\util\n",
      "  copying pandas\\util\\_tester.py -> build\\lib.win-amd64-3.9\\pandas\\util\n",
      "  copying pandas\\util\\_test_decorators.py -> build\\lib.win-amd64-3.9\\pandas\\util\n",
      "  copying pandas\\util\\_validators.py -> build\\lib.win-amd64-3.9\\pandas\\util\n",
      "  copying pandas\\util\\__init__.py -> build\\lib.win-amd64-3.9\\pandas\\util\n",
      "  creating build\\lib.win-amd64-3.9\\pandas\\_libs\n",
      "  copying pandas\\_libs\\__init__.py -> build\\lib.win-amd64-3.9\\pandas\\_libs\n",
      "  creating build\\lib.win-amd64-3.9\\pandas\\api\\extensions\n",
      "  copying pandas\\api\\extensions\\__init__.py -> build\\lib.win-amd64-3.9\\pandas\\api\\extensions\n",
      "  creating build\\lib.win-amd64-3.9\\pandas\\api\\types\n",
      "  copying pandas\\api\\types\\__init__.py -> build\\lib.win-amd64-3.9\\pandas\\api\\types\n",
      "  creating build\\lib.win-amd64-3.9\\pandas\\compat\\numpy\n",
      "  copying pandas\\compat\\numpy\\function.py -> build\\lib.win-amd64-3.9\\pandas\\compat\\numpy\n",
      "  copying pandas\\compat\\numpy\\__init__.py -> build\\lib.win-amd64-3.9\\pandas\\compat\\numpy\n",
      "  creating build\\lib.win-amd64-3.9\\pandas\\core\\arrays\n",
      "  copying pandas\\core\\arrays\\array_.py -> build\\lib.win-amd64-3.9\\pandas\\core\\arrays\n",
      "  copying pandas\\core\\arrays\\base.py -> build\\lib.win-amd64-3.9\\pandas\\core\\arrays\n",
      "  copying pandas\\core\\arrays\\categorical.py -> build\\lib.win-amd64-3.9\\pandas\\core\\arrays\n",
      "  copying pandas\\core\\arrays\\datetimelike.py -> build\\lib.win-amd64-3.9\\pandas\\core\\arrays\n",
      "  copying pandas\\core\\arrays\\datetimes.py -> build\\lib.win-amd64-3.9\\pandas\\core\\arrays\n",
      "  copying pandas\\core\\arrays\\integer.py -> build\\lib.win-amd64-3.9\\pandas\\core\\arrays\n",
      "  copying pandas\\core\\arrays\\interval.py -> build\\lib.win-amd64-3.9\\pandas\\core\\arrays\n",
      "  copying pandas\\core\\arrays\\numpy_.py -> build\\lib.win-amd64-3.9\\pandas\\core\\arrays\n",
      "  copying pandas\\core\\arrays\\period.py -> build\\lib.win-amd64-3.9\\pandas\\core\\arrays\n",
      "  copying pandas\\core\\arrays\\sparse.py -> build\\lib.win-amd64-3.9\\pandas\\core\\arrays\n",
      "  copying pandas\\core\\arrays\\timedeltas.py -> build\\lib.win-amd64-3.9\\pandas\\core\\arrays\n",
      "  copying pandas\\core\\arrays\\_ranges.py -> build\\lib.win-amd64-3.9\\pandas\\core\\arrays\n",
      "  copying pandas\\core\\arrays\\__init__.py -> build\\lib.win-amd64-3.9\\pandas\\core\\arrays\n",
      "  creating build\\lib.win-amd64-3.9\\pandas\\core\\computation\n",
      "  copying pandas\\core\\computation\\align.py -> build\\lib.win-amd64-3.9\\pandas\\core\\computation\n",
      "  copying pandas\\core\\computation\\api.py -> build\\lib.win-amd64-3.9\\pandas\\core\\computation\n",
      "  copying pandas\\core\\computation\\check.py -> build\\lib.win-amd64-3.9\\pandas\\core\\computation\n",
      "  copying pandas\\core\\computation\\common.py -> build\\lib.win-amd64-3.9\\pandas\\core\\computation\n",
      "  copying pandas\\core\\computation\\engines.py -> build\\lib.win-amd64-3.9\\pandas\\core\\computation\n",
      "  copying pandas\\core\\computation\\eval.py -> build\\lib.win-amd64-3.9\\pandas\\core\\computation\n",
      "  copying pandas\\core\\computation\\expr.py -> build\\lib.win-amd64-3.9\\pandas\\core\\computation\n",
      "  copying pandas\\core\\computation\\expressions.py -> build\\lib.win-amd64-3.9\\pandas\\core\\computation\n",
      "  copying pandas\\core\\computation\\ops.py -> build\\lib.win-amd64-3.9\\pandas\\core\\computation\n",
      "  copying pandas\\core\\computation\\pytables.py -> build\\lib.win-amd64-3.9\\pandas\\core\\computation\n",
      "  copying pandas\\core\\computation\\scope.py -> build\\lib.win-amd64-3.9\\pandas\\core\\computation\n",
      "  copying pandas\\core\\computation\\__init__.py -> build\\lib.win-amd64-3.9\\pandas\\core\\computation\n",
      "  creating build\\lib.win-amd64-3.9\\pandas\\core\\dtypes\n",
      "  copying pandas\\core\\dtypes\\api.py -> build\\lib.win-amd64-3.9\\pandas\\core\\dtypes\n",
      "  copying pandas\\core\\dtypes\\base.py -> build\\lib.win-amd64-3.9\\pandas\\core\\dtypes\n",
      "  copying pandas\\core\\dtypes\\cast.py -> build\\lib.win-amd64-3.9\\pandas\\core\\dtypes\n",
      "  copying pandas\\core\\dtypes\\common.py -> build\\lib.win-amd64-3.9\\pandas\\core\\dtypes\n",
      "  copying pandas\\core\\dtypes\\concat.py -> build\\lib.win-amd64-3.9\\pandas\\core\\dtypes\n",
      "  copying pandas\\core\\dtypes\\dtypes.py -> build\\lib.win-amd64-3.9\\pandas\\core\\dtypes\n",
      "  copying pandas\\core\\dtypes\\generic.py -> build\\lib.win-amd64-3.9\\pandas\\core\\dtypes\n",
      "  copying pandas\\core\\dtypes\\inference.py -> build\\lib.win-amd64-3.9\\pandas\\core\\dtypes\n",
      "  copying pandas\\core\\dtypes\\missing.py -> build\\lib.win-amd64-3.9\\pandas\\core\\dtypes\n",
      "  copying pandas\\core\\dtypes\\__init__.py -> build\\lib.win-amd64-3.9\\pandas\\core\\dtypes\n",
      "  creating build\\lib.win-amd64-3.9\\pandas\\core\\groupby\n",
      "  copying pandas\\core\\groupby\\base.py -> build\\lib.win-amd64-3.9\\pandas\\core\\groupby\n",
      "  copying pandas\\core\\groupby\\categorical.py -> build\\lib.win-amd64-3.9\\pandas\\core\\groupby\n",
      "  copying pandas\\core\\groupby\\generic.py -> build\\lib.win-amd64-3.9\\pandas\\core\\groupby\n",
      "  copying pandas\\core\\groupby\\groupby.py -> build\\lib.win-amd64-3.9\\pandas\\core\\groupby\n",
      "  copying pandas\\core\\groupby\\grouper.py -> build\\lib.win-amd64-3.9\\pandas\\core\\groupby\n",
      "  copying pandas\\core\\groupby\\ops.py -> build\\lib.win-amd64-3.9\\pandas\\core\\groupby\n",
      "  copying pandas\\core\\groupby\\__init__.py -> build\\lib.win-amd64-3.9\\pandas\\core\\groupby\n",
      "  creating build\\lib.win-amd64-3.9\\pandas\\core\\indexes\n",
      "  copying pandas\\core\\indexes\\accessors.py -> build\\lib.win-amd64-3.9\\pandas\\core\\indexes\n",
      "  copying pandas\\core\\indexes\\api.py -> build\\lib.win-amd64-3.9\\pandas\\core\\indexes\n",
      "  copying pandas\\core\\indexes\\base.py -> build\\lib.win-amd64-3.9\\pandas\\core\\indexes\n",
      "  copying pandas\\core\\indexes\\category.py -> build\\lib.win-amd64-3.9\\pandas\\core\\indexes\n",
      "  copying pandas\\core\\indexes\\datetimelike.py -> build\\lib.win-amd64-3.9\\pandas\\core\\indexes\n",
      "  copying pandas\\core\\indexes\\datetimes.py -> build\\lib.win-amd64-3.9\\pandas\\core\\indexes\n",
      "  copying pandas\\core\\indexes\\frozen.py -> build\\lib.win-amd64-3.9\\pandas\\core\\indexes\n",
      "  copying pandas\\core\\indexes\\interval.py -> build\\lib.win-amd64-3.9\\pandas\\core\\indexes\n",
      "  copying pandas\\core\\indexes\\multi.py -> build\\lib.win-amd64-3.9\\pandas\\core\\indexes\n",
      "  copying pandas\\core\\indexes\\numeric.py -> build\\lib.win-amd64-3.9\\pandas\\core\\indexes\n",
      "  copying pandas\\core\\indexes\\period.py -> build\\lib.win-amd64-3.9\\pandas\\core\\indexes\n",
      "  copying pandas\\core\\indexes\\range.py -> build\\lib.win-amd64-3.9\\pandas\\core\\indexes\n",
      "  copying pandas\\core\\indexes\\timedeltas.py -> build\\lib.win-amd64-3.9\\pandas\\core\\indexes\n",
      "  copying pandas\\core\\indexes\\__init__.py -> build\\lib.win-amd64-3.9\\pandas\\core\\indexes\n",
      "  creating build\\lib.win-amd64-3.9\\pandas\\core\\internals\n",
      "  copying pandas\\core\\internals\\arrays.py -> build\\lib.win-amd64-3.9\\pandas\\core\\internals\n",
      "  copying pandas\\core\\internals\\blocks.py -> build\\lib.win-amd64-3.9\\pandas\\core\\internals\n",
      "  copying pandas\\core\\internals\\concat.py -> build\\lib.win-amd64-3.9\\pandas\\core\\internals\n",
      "  copying pandas\\core\\internals\\construction.py -> build\\lib.win-amd64-3.9\\pandas\\core\\internals\n",
      "  copying pandas\\core\\internals\\managers.py -> build\\lib.win-amd64-3.9\\pandas\\core\\internals\n",
      "  copying pandas\\core\\internals\\__init__.py -> build\\lib.win-amd64-3.9\\pandas\\core\\internals\n",
      "  creating build\\lib.win-amd64-3.9\\pandas\\core\\reshape\n",
      "  copying pandas\\core\\reshape\\api.py -> build\\lib.win-amd64-3.9\\pandas\\core\\reshape\n",
      "  copying pandas\\core\\reshape\\concat.py -> build\\lib.win-amd64-3.9\\pandas\\core\\reshape\n",
      "  copying pandas\\core\\reshape\\melt.py -> build\\lib.win-amd64-3.9\\pandas\\core\\reshape\n",
      "  copying pandas\\core\\reshape\\merge.py -> build\\lib.win-amd64-3.9\\pandas\\core\\reshape\n",
      "  copying pandas\\core\\reshape\\pivot.py -> build\\lib.win-amd64-3.9\\pandas\\core\\reshape\n",
      "  copying pandas\\core\\reshape\\reshape.py -> build\\lib.win-amd64-3.9\\pandas\\core\\reshape\n",
      "  copying pandas\\core\\reshape\\tile.py -> build\\lib.win-amd64-3.9\\pandas\\core\\reshape\n",
      "  copying pandas\\core\\reshape\\util.py -> build\\lib.win-amd64-3.9\\pandas\\core\\reshape\n",
      "  copying pandas\\core\\reshape\\__init__.py -> build\\lib.win-amd64-3.9\\pandas\\core\\reshape\n",
      "  creating build\\lib.win-amd64-3.9\\pandas\\core\\sparse\n",
      "  copying pandas\\core\\sparse\\api.py -> build\\lib.win-amd64-3.9\\pandas\\core\\sparse\n",
      "  copying pandas\\core\\sparse\\frame.py -> build\\lib.win-amd64-3.9\\pandas\\core\\sparse\n",
      "  copying pandas\\core\\sparse\\scipy_sparse.py -> build\\lib.win-amd64-3.9\\pandas\\core\\sparse\n",
      "  copying pandas\\core\\sparse\\series.py -> build\\lib.win-amd64-3.9\\pandas\\core\\sparse\n",
      "  copying pandas\\core\\sparse\\__init__.py -> build\\lib.win-amd64-3.9\\pandas\\core\\sparse\n",
      "  creating build\\lib.win-amd64-3.9\\pandas\\core\\tools\n",
      "  copying pandas\\core\\tools\\datetimes.py -> build\\lib.win-amd64-3.9\\pandas\\core\\tools\n",
      "  copying pandas\\core\\tools\\numeric.py -> build\\lib.win-amd64-3.9\\pandas\\core\\tools\n",
      "  copying pandas\\core\\tools\\timedeltas.py -> build\\lib.win-amd64-3.9\\pandas\\core\\tools\n",
      "  copying pandas\\core\\tools\\__init__.py -> build\\lib.win-amd64-3.9\\pandas\\core\\tools\n",
      "  creating build\\lib.win-amd64-3.9\\pandas\\core\\util\n",
      "  copying pandas\\core\\util\\hashing.py -> build\\lib.win-amd64-3.9\\pandas\\core\\util\n",
      "  copying pandas\\core\\util\\__init__.py -> build\\lib.win-amd64-3.9\\pandas\\core\\util\n",
      "  creating build\\lib.win-amd64-3.9\\pandas\\io\\clipboard\n",
      "  copying pandas\\io\\clipboard\\clipboards.py -> build\\lib.win-amd64-3.9\\pandas\\io\\clipboard\n",
      "  copying pandas\\io\\clipboard\\exceptions.py -> build\\lib.win-amd64-3.9\\pandas\\io\\clipboard\n",
      "  copying pandas\\io\\clipboard\\windows.py -> build\\lib.win-amd64-3.9\\pandas\\io\\clipboard\n",
      "  copying pandas\\io\\clipboard\\__init__.py -> build\\lib.win-amd64-3.9\\pandas\\io\\clipboard\n",
      "  creating build\\lib.win-amd64-3.9\\pandas\\io\\formats\n",
      "  copying pandas\\io\\formats\\console.py -> build\\lib.win-amd64-3.9\\pandas\\io\\formats\n",
      "  copying pandas\\io\\formats\\css.py -> build\\lib.win-amd64-3.9\\pandas\\io\\formats\n",
      "  copying pandas\\io\\formats\\csvs.py -> build\\lib.win-amd64-3.9\\pandas\\io\\formats\n",
      "  copying pandas\\io\\formats\\excel.py -> build\\lib.win-amd64-3.9\\pandas\\io\\formats\n",
      "  copying pandas\\io\\formats\\format.py -> build\\lib.win-amd64-3.9\\pandas\\io\\formats\n",
      "  copying pandas\\io\\formats\\html.py -> build\\lib.win-amd64-3.9\\pandas\\io\\formats\n",
      "  copying pandas\\io\\formats\\latex.py -> build\\lib.win-amd64-3.9\\pandas\\io\\formats\n",
      "  copying pandas\\io\\formats\\printing.py -> build\\lib.win-amd64-3.9\\pandas\\io\\formats\n",
      "  copying pandas\\io\\formats\\style.py -> build\\lib.win-amd64-3.9\\pandas\\io\\formats\n",
      "  copying pandas\\io\\formats\\terminal.py -> build\\lib.win-amd64-3.9\\pandas\\io\\formats\n",
      "  copying pandas\\io\\formats\\__init__.py -> build\\lib.win-amd64-3.9\\pandas\\io\\formats\n",
      "  creating build\\lib.win-amd64-3.9\\pandas\\io\\json\n",
      "  copying pandas\\io\\json\\json.py -> build\\lib.win-amd64-3.9\\pandas\\io\\json\n",
      "  copying pandas\\io\\json\\normalize.py -> build\\lib.win-amd64-3.9\\pandas\\io\\json\n",
      "  copying pandas\\io\\json\\table_schema.py -> build\\lib.win-amd64-3.9\\pandas\\io\\json\n",
      "  copying pandas\\io\\json\\__init__.py -> build\\lib.win-amd64-3.9\\pandas\\io\\json\n",
      "  creating build\\lib.win-amd64-3.9\\pandas\\io\\msgpack\n",
      "  copying pandas\\io\\msgpack\\exceptions.py -> build\\lib.win-amd64-3.9\\pandas\\io\\msgpack\n",
      "  copying pandas\\io\\msgpack\\_version.py -> build\\lib.win-amd64-3.9\\pandas\\io\\msgpack\n",
      "  copying pandas\\io\\msgpack\\__init__.py -> build\\lib.win-amd64-3.9\\pandas\\io\\msgpack\n",
      "  creating build\\lib.win-amd64-3.9\\pandas\\io\\sas\n",
      "  copying pandas\\io\\sas\\sas7bdat.py -> build\\lib.win-amd64-3.9\\pandas\\io\\sas\n",
      "  copying pandas\\io\\sas\\sasreader.py -> build\\lib.win-amd64-3.9\\pandas\\io\\sas\n",
      "  copying pandas\\io\\sas\\sas_constants.py -> build\\lib.win-amd64-3.9\\pandas\\io\\sas\n",
      "  copying pandas\\io\\sas\\sas_xport.py -> build\\lib.win-amd64-3.9\\pandas\\io\\sas\n",
      "  copying pandas\\io\\sas\\__init__.py -> build\\lib.win-amd64-3.9\\pandas\\io\\sas\n",
      "  creating build\\lib.win-amd64-3.9\\pandas\\tests\\api\n",
      "  copying pandas\\tests\\api\\test_api.py -> build\\lib.win-amd64-3.9\\pandas\\tests\\api\n",
      "  copying pandas\\tests\\api\\test_types.py -> build\\lib.win-amd64-3.9\\pandas\\tests\\api\n",
      "  copying pandas\\tests\\api\\__init__.py -> build\\lib.win-amd64-3.9\\pandas\\tests\\api\n",
      "  creating build\\lib.win-amd64-3.9\\pandas\\tests\\arithmetic\n",
      "  copying pandas\\tests\\arithmetic\\conftest.py -> build\\lib.win-amd64-3.9\\pandas\\tests\\arithmetic\n",
      "  copying pandas\\tests\\arithmetic\\test_datetime64.py -> build\\lib.win-amd64-3.9\\pandas\\tests\\arithmetic\n",
      "  copying pandas\\tests\\arithmetic\\test_numeric.py -> build\\lib.win-amd64-3.9\\pandas\\tests\\arithmetic\n",
      "  copying pandas\\tests\\arithmetic\\test_object.py -> build\\lib.win-amd64-3.9\\pandas\\tests\\arithmetic\n",
      "  copying pandas\\tests\\arithmetic\\test_period.py -> build\\lib.win-amd64-3.9\\pandas\\tests\\arithmetic\n",
      "  copying pandas\\tests\\arithmetic\\test_timedelta64.py -> build\\lib.win-amd64-3.9\\pandas\\tests\\arithmetic\n",
      "  copying pandas\\tests\\arithmetic\\__init__.py -> build\\lib.win-amd64-3.9\\pandas\\tests\\arithmetic\n",
      "  creating build\\lib.win-amd64-3.9\\pandas\\tests\\arrays\n",
      "  copying pandas\\tests\\arrays\\test_array.py -> build\\lib.win-amd64-3.9\\pandas\\tests\\arrays\n",
      "  copying pandas\\tests\\arrays\\test_datetimelike.py -> build\\lib.win-amd64-3.9\\pandas\\tests\\arrays\n",
      "  copying pandas\\tests\\arrays\\test_datetimes.py -> build\\lib.win-amd64-3.9\\pandas\\tests\\arrays\n",
      "  copying pandas\\tests\\arrays\\test_integer.py -> build\\lib.win-amd64-3.9\\pandas\\tests\\arrays\n",
      "  copying pandas\\tests\\arrays\\test_numpy.py -> build\\lib.win-amd64-3.9\\pandas\\tests\\arrays\n",
      "  copying pandas\\tests\\arrays\\test_period.py -> build\\lib.win-amd64-3.9\\pandas\\tests\\arrays\n",
      "  copying pandas\\tests\\arrays\\test_timedeltas.py -> build\\lib.win-amd64-3.9\\pandas\\tests\\arrays\n",
      "  copying pandas\\tests\\arrays\\__init__.py -> build\\lib.win-amd64-3.9\\pandas\\tests\\arrays\n",
      "  creating build\\lib.win-amd64-3.9\\pandas\\tests\\computation\n",
      "  copying pandas\\tests\\computation\\test_compat.py -> build\\lib.win-amd64-3.9\\pandas\\tests\\computation\n",
      "  copying pandas\\tests\\computation\\test_eval.py -> build\\lib.win-amd64-3.9\\pandas\\tests\\computation\n",
      "  copying pandas\\tests\\computation\\__init__.py -> build\\lib.win-amd64-3.9\\pandas\\tests\\computation\n",
      "  creating build\\lib.win-amd64-3.9\\pandas\\tests\\dtypes\n",
      "  copying pandas\\tests\\dtypes\\test_common.py -> build\\lib.win-amd64-3.9\\pandas\\tests\\dtypes\n",
      "  copying pandas\\tests\\dtypes\\test_concat.py -> build\\lib.win-amd64-3.9\\pandas\\tests\\dtypes\n",
      "  copying pandas\\tests\\dtypes\\test_dtypes.py -> build\\lib.win-amd64-3.9\\pandas\\tests\\dtypes\n",
      "  copying pandas\\tests\\dtypes\\test_generic.py -> build\\lib.win-amd64-3.9\\pandas\\tests\\dtypes\n",
      "  copying pandas\\tests\\dtypes\\test_inference.py -> build\\lib.win-amd64-3.9\\pandas\\tests\\dtypes\n",
      "  copying pandas\\tests\\dtypes\\test_missing.py -> build\\lib.win-amd64-3.9\\pandas\\tests\\dtypes\n",
      "  copying pandas\\tests\\dtypes\\__init__.py -> build\\lib.win-amd64-3.9\\pandas\\tests\\dtypes\n",
      "  creating build\\lib.win-amd64-3.9\\pandas\\tests\\extension\n",
      "  copying pandas\\tests\\extension\\conftest.py -> build\\lib.win-amd64-3.9\\pandas\\tests\\extension\n",
      "  copying pandas\\tests\\extension\\test_categorical.py -> build\\lib.win-amd64-3.9\\pandas\\tests\\extension\n",
      "  copying pandas\\tests\\extension\\test_common.py -> build\\lib.win-amd64-3.9\\pandas\\tests\\extension\n",
      "  copying pandas\\tests\\extension\\test_datetime.py -> build\\lib.win-amd64-3.9\\pandas\\tests\\extension\n",
      "  copying pandas\\tests\\extension\\test_external_block.py -> build\\lib.win-amd64-3.9\\pandas\\tests\\extension\n",
      "  copying pandas\\tests\\extension\\test_integer.py -> build\\lib.win-amd64-3.9\\pandas\\tests\\extension\n",
      "  copying pandas\\tests\\extension\\test_interval.py -> build\\lib.win-amd64-3.9\\pandas\\tests\\extension\n",
      "  copying pandas\\tests\\extension\\test_period.py -> build\\lib.win-amd64-3.9\\pandas\\tests\\extension\n",
      "  copying pandas\\tests\\extension\\test_sparse.py -> build\\lib.win-amd64-3.9\\pandas\\tests\\extension\n",
      "  copying pandas\\tests\\extension\\__init__.py -> build\\lib.win-amd64-3.9\\pandas\\tests\\extension\n",
      "  creating build\\lib.win-amd64-3.9\\pandas\\tests\\frame\n",
      "  copying pandas\\tests\\frame\\common.py -> build\\lib.win-amd64-3.9\\pandas\\tests\\frame\n",
      "  copying pandas\\tests\\frame\\conftest.py -> build\\lib.win-amd64-3.9\\pandas\\tests\\frame\n",
      "  copying pandas\\tests\\frame\\test_alter_axes.py -> build\\lib.win-amd64-3.9\\pandas\\tests\\frame\n",
      "  copying pandas\\tests\\frame\\test_analytics.py -> build\\lib.win-amd64-3.9\\pandas\\tests\\frame\n",
      "  copying pandas\\tests\\frame\\test_api.py -> build\\lib.win-amd64-3.9\\pandas\\tests\\frame\n",
      "  copying pandas\\tests\\frame\\test_apply.py -> build\\lib.win-amd64-3.9\\pandas\\tests\\frame\n",
      "  copying pandas\\tests\\frame\\test_arithmetic.py -> build\\lib.win-amd64-3.9\\pandas\\tests\\frame\n",
      "  copying pandas\\tests\\frame\\test_asof.py -> build\\lib.win-amd64-3.9\\pandas\\tests\\frame\n",
      "  copying pandas\\tests\\frame\\test_axis_select_reindex.py -> build\\lib.win-amd64-3.9\\pandas\\tests\\frame\n",
      "  copying pandas\\tests\\frame\\test_block_internals.py -> build\\lib.win-amd64-3.9\\pandas\\tests\\frame\n",
      "  copying pandas\\tests\\frame\\test_combine_concat.py -> build\\lib.win-amd64-3.9\\pandas\\tests\\frame\n",
      "  copying pandas\\tests\\frame\\test_constructors.py -> build\\lib.win-amd64-3.9\\pandas\\tests\\frame\n",
      "  copying pandas\\tests\\frame\\test_convert_to.py -> build\\lib.win-amd64-3.9\\pandas\\tests\\frame\n",
      "  copying pandas\\tests\\frame\\test_dtypes.py -> build\\lib.win-amd64-3.9\\pandas\\tests\\frame\n",
      "  copying pandas\\tests\\frame\\test_duplicates.py -> build\\lib.win-amd64-3.9\\pandas\\tests\\frame\n",
      "  copying pandas\\tests\\frame\\test_indexing.py -> build\\lib.win-amd64-3.9\\pandas\\tests\\frame\n",
      "  copying pandas\\tests\\frame\\test_join.py -> build\\lib.win-amd64-3.9\\pandas\\tests\\frame\n",
      "  copying pandas\\tests\\frame\\test_missing.py -> build\\lib.win-amd64-3.9\\pandas\\tests\\frame\n",
      "  copying pandas\\tests\\frame\\test_mutate_columns.py -> build\\lib.win-amd64-3.9\\pandas\\tests\\frame\n",
      "  copying pandas\\tests\\frame\\test_nonunique_indexes.py -> build\\lib.win-amd64-3.9\\pandas\\tests\\frame\n",
      "  copying pandas\\tests\\frame\\test_operators.py -> build\\lib.win-amd64-3.9\\pandas\\tests\\frame\n",
      "  copying pandas\\tests\\frame\\test_period.py -> build\\lib.win-amd64-3.9\\pandas\\tests\\frame\n",
      "  copying pandas\\tests\\frame\\test_quantile.py -> build\\lib.win-amd64-3.9\\pandas\\tests\\frame\n",
      "  copying pandas\\tests\\frame\\test_query_eval.py -> build\\lib.win-amd64-3.9\\pandas\\tests\\frame\n",
      "  copying pandas\\tests\\frame\\test_rank.py -> build\\lib.win-amd64-3.9\\pandas\\tests\\frame\n",
      "  copying pandas\\tests\\frame\\test_replace.py -> build\\lib.win-amd64-3.9\\pandas\\tests\\frame\n",
      "  copying pandas\\tests\\frame\\test_repr_info.py -> build\\lib.win-amd64-3.9\\pandas\\tests\\frame\n",
      "  copying pandas\\tests\\frame\\test_reshape.py -> build\\lib.win-amd64-3.9\\pandas\\tests\\frame\n",
      "  copying pandas\\tests\\frame\\test_sorting.py -> build\\lib.win-amd64-3.9\\pandas\\tests\\frame\n",
      "  copying pandas\\tests\\frame\\test_sort_values_level_as_str.py -> build\\lib.win-amd64-3.9\\pandas\\tests\\frame\n",
      "  copying pandas\\tests\\frame\\test_subclass.py -> build\\lib.win-amd64-3.9\\pandas\\tests\\frame\n",
      "  copying pandas\\tests\\frame\\test_timeseries.py -> build\\lib.win-amd64-3.9\\pandas\\tests\\frame\n",
      "  copying pandas\\tests\\frame\\test_timezones.py -> build\\lib.win-amd64-3.9\\pandas\\tests\\frame\n",
      "  copying pandas\\tests\\frame\\test_to_csv.py -> build\\lib.win-amd64-3.9\\pandas\\tests\\frame\n",
      "  copying pandas\\tests\\frame\\test_validate.py -> build\\lib.win-amd64-3.9\\pandas\\tests\\frame\n",
      "  copying pandas\\tests\\frame\\__init__.py -> build\\lib.win-amd64-3.9\\pandas\\tests\\frame\n",
      "  creating build\\lib.win-amd64-3.9\\pandas\\tests\\generic\n",
      "  copying pandas\\tests\\generic\\test_frame.py -> build\\lib.win-amd64-3.9\\pandas\\tests\\generic\n",
      "  copying pandas\\tests\\generic\\test_generic.py -> build\\lib.win-amd64-3.9\\pandas\\tests\\generic\n",
      "  copying pandas\\tests\\generic\\test_label_or_level_utils.py -> build\\lib.win-amd64-3.9\\pandas\\tests\\generic\n",
      "  copying pandas\\tests\\generic\\test_panel.py -> build\\lib.win-amd64-3.9\\pandas\\tests\\generic\n",
      "  copying pandas\\tests\\generic\\test_series.py -> build\\lib.win-amd64-3.9\\pandas\\tests\\generic\n",
      "  copying pandas\\tests\\generic\\__init__.py -> build\\lib.win-amd64-3.9\\pandas\\tests\\generic\n",
      "  creating build\\lib.win-amd64-3.9\\pandas\\tests\\groupby\n",
      "  copying pandas\\tests\\groupby\\conftest.py -> build\\lib.win-amd64-3.9\\pandas\\tests\\groupby\n",
      "  copying pandas\\tests\\groupby\\test_apply.py -> build\\lib.win-amd64-3.9\\pandas\\tests\\groupby\n",
      "  copying pandas\\tests\\groupby\\test_bin_groupby.py -> build\\lib.win-amd64-3.9\\pandas\\tests\\groupby\n",
      "  copying pandas\\tests\\groupby\\test_categorical.py -> build\\lib.win-amd64-3.9\\pandas\\tests\\groupby\n",
      "  copying pandas\\tests\\groupby\\test_counting.py -> build\\lib.win-amd64-3.9\\pandas\\tests\\groupby\n",
      "  copying pandas\\tests\\groupby\\test_filters.py -> build\\lib.win-amd64-3.9\\pandas\\tests\\groupby\n",
      "  copying pandas\\tests\\groupby\\test_function.py -> build\\lib.win-amd64-3.9\\pandas\\tests\\groupby\n",
      "  copying pandas\\tests\\groupby\\test_groupby.py -> build\\lib.win-amd64-3.9\\pandas\\tests\\groupby\n",
      "  copying pandas\\tests\\groupby\\test_grouping.py -> build\\lib.win-amd64-3.9\\pandas\\tests\\groupby\n",
      "  copying pandas\\tests\\groupby\\test_index_as_string.py -> build\\lib.win-amd64-3.9\\pandas\\tests\\groupby\n",
      "  copying pandas\\tests\\groupby\\test_nth.py -> build\\lib.win-amd64-3.9\\pandas\\tests\\groupby\n",
      "  copying pandas\\tests\\groupby\\test_rank.py -> build\\lib.win-amd64-3.9\\pandas\\tests\\groupby\n",
      "  copying pandas\\tests\\groupby\\test_timegrouper.py -> build\\lib.win-amd64-3.9\\pandas\\tests\\groupby\n",
      "  copying pandas\\tests\\groupby\\test_transform.py -> build\\lib.win-amd64-3.9\\pandas\\tests\\groupby\n",
      "  copying pandas\\tests\\groupby\\test_value_counts.py -> build\\lib.win-amd64-3.9\\pandas\\tests\\groupby\n",
      "  copying pandas\\tests\\groupby\\test_whitelist.py -> build\\lib.win-amd64-3.9\\pandas\\tests\\groupby\n",
      "  copying pandas\\tests\\groupby\\__init__.py -> build\\lib.win-amd64-3.9\\pandas\\tests\\groupby\n",
      "  creating build\\lib.win-amd64-3.9\\pandas\\tests\\indexes\n",
      "  copying pandas\\tests\\indexes\\common.py -> build\\lib.win-amd64-3.9\\pandas\\tests\\indexes\n",
      "  copying pandas\\tests\\indexes\\conftest.py -> build\\lib.win-amd64-3.9\\pandas\\tests\\indexes\n",
      "  copying pandas\\tests\\indexes\\datetimelike.py -> build\\lib.win-amd64-3.9\\pandas\\tests\\indexes\n",
      "  copying pandas\\tests\\indexes\\test_base.py -> build\\lib.win-amd64-3.9\\pandas\\tests\\indexes\n",
      "  copying pandas\\tests\\indexes\\test_category.py -> build\\lib.win-amd64-3.9\\pandas\\tests\\indexes\n",
      "  copying pandas\\tests\\indexes\\test_common.py -> build\\lib.win-amd64-3.9\\pandas\\tests\\indexes\n",
      "  copying pandas\\tests\\indexes\\test_frozen.py -> build\\lib.win-amd64-3.9\\pandas\\tests\\indexes\n",
      "  copying pandas\\tests\\indexes\\test_numeric.py -> build\\lib.win-amd64-3.9\\pandas\\tests\\indexes\n",
      "  copying pandas\\tests\\indexes\\test_range.py -> build\\lib.win-amd64-3.9\\pandas\\tests\\indexes\n",
      "  copying pandas\\tests\\indexes\\__init__.py -> build\\lib.win-amd64-3.9\\pandas\\tests\\indexes\n",
      "  creating build\\lib.win-amd64-3.9\\pandas\\tests\\indexing\n",
      "  copying pandas\\tests\\indexing\\common.py -> build\\lib.win-amd64-3.9\\pandas\\tests\\indexing\n",
      "  copying pandas\\tests\\indexing\\conftest.py -> build\\lib.win-amd64-3.9\\pandas\\tests\\indexing\n",
      "  copying pandas\\tests\\indexing\\test_callable.py -> build\\lib.win-amd64-3.9\\pandas\\tests\\indexing\n",
      "  copying pandas\\tests\\indexing\\test_categorical.py -> build\\lib.win-amd64-3.9\\pandas\\tests\\indexing\n",
      "  copying pandas\\tests\\indexing\\test_chaining_and_caching.py -> build\\lib.win-amd64-3.9\\pandas\\tests\\indexing\n",
      "  copying pandas\\tests\\indexing\\test_coercion.py -> build\\lib.win-amd64-3.9\\pandas\\tests\\indexing\n",
      "  copying pandas\\tests\\indexing\\test_datetime.py -> build\\lib.win-amd64-3.9\\pandas\\tests\\indexing\n",
      "  copying pandas\\tests\\indexing\\test_floats.py -> build\\lib.win-amd64-3.9\\pandas\\tests\\indexing\n",
      "  copying pandas\\tests\\indexing\\test_iloc.py -> build\\lib.win-amd64-3.9\\pandas\\tests\\indexing\n",
      "  copying pandas\\tests\\indexing\\test_indexing.py -> build\\lib.win-amd64-3.9\\pandas\\tests\\indexing\n",
      "  copying pandas\\tests\\indexing\\test_indexing_engines.py -> build\\lib.win-amd64-3.9\\pandas\\tests\\indexing\n",
      "  copying pandas\\tests\\indexing\\test_indexing_slow.py -> build\\lib.win-amd64-3.9\\pandas\\tests\\indexing\n",
      "  copying pandas\\tests\\indexing\\test_ix.py -> build\\lib.win-amd64-3.9\\pandas\\tests\\indexing\n",
      "  copying pandas\\tests\\indexing\\test_loc.py -> build\\lib.win-amd64-3.9\\pandas\\tests\\indexing\n",
      "  copying pandas\\tests\\indexing\\test_panel.py -> build\\lib.win-amd64-3.9\\pandas\\tests\\indexing\n",
      "  copying pandas\\tests\\indexing\\test_partial.py -> build\\lib.win-amd64-3.9\\pandas\\tests\\indexing\n",
      "  copying pandas\\tests\\indexing\\test_scalar.py -> build\\lib.win-amd64-3.9\\pandas\\tests\\indexing\n",
      "  copying pandas\\tests\\indexing\\test_timedelta.py -> build\\lib.win-amd64-3.9\\pandas\\tests\\indexing\n",
      "  copying pandas\\tests\\indexing\\__init__.py -> build\\lib.win-amd64-3.9\\pandas\\tests\\indexing\n",
      "  creating build\\lib.win-amd64-3.9\\pandas\\tests\\internals\n",
      "  copying pandas\\tests\\internals\\test_internals.py -> build\\lib.win-amd64-3.9\\pandas\\tests\\internals\n",
      "  copying pandas\\tests\\internals\\__init__.py -> build\\lib.win-amd64-3.9\\pandas\\tests\\internals\n",
      "  creating build\\lib.win-amd64-3.9\\pandas\\tests\\io\n",
      "  copying pandas\\tests\\io\\conftest.py -> build\\lib.win-amd64-3.9\\pandas\\tests\\io\n",
      "  copying pandas\\tests\\io\\generate_legacy_storage_files.py -> build\\lib.win-amd64-3.9\\pandas\\tests\\io\n",
      "  copying pandas\\tests\\io\\test_clipboard.py -> build\\lib.win-amd64-3.9\\pandas\\tests\\io\n",
      "  copying pandas\\tests\\io\\test_common.py -> build\\lib.win-amd64-3.9\\pandas\\tests\\io\n",
      "  copying pandas\\tests\\io\\test_compression.py -> build\\lib.win-amd64-3.9\\pandas\\tests\\io\n",
      "  copying pandas\\tests\\io\\test_date_converters.py -> build\\lib.win-amd64-3.9\\pandas\\tests\\io\n",
      "  copying pandas\\tests\\io\\test_excel.py -> build\\lib.win-amd64-3.9\\pandas\\tests\\io\n",
      "  copying pandas\\tests\\io\\test_feather.py -> build\\lib.win-amd64-3.9\\pandas\\tests\\io\n",
      "  copying pandas\\tests\\io\\test_gbq.py -> build\\lib.win-amd64-3.9\\pandas\\tests\\io\n",
      "  copying pandas\\tests\\io\\test_gcs.py -> build\\lib.win-amd64-3.9\\pandas\\tests\\io\n",
      "  copying pandas\\tests\\io\\test_html.py -> build\\lib.win-amd64-3.9\\pandas\\tests\\io\n",
      "  copying pandas\\tests\\io\\test_packers.py -> build\\lib.win-amd64-3.9\\pandas\\tests\\io\n",
      "  copying pandas\\tests\\io\\test_parquet.py -> build\\lib.win-amd64-3.9\\pandas\\tests\\io\n",
      "  copying pandas\\tests\\io\\test_pickle.py -> build\\lib.win-amd64-3.9\\pandas\\tests\\io\n",
      "  copying pandas\\tests\\io\\test_pytables.py -> build\\lib.win-amd64-3.9\\pandas\\tests\\io\n",
      "  copying pandas\\tests\\io\\test_s3.py -> build\\lib.win-amd64-3.9\\pandas\\tests\\io\n",
      "  copying pandas\\tests\\io\\test_sql.py -> build\\lib.win-amd64-3.9\\pandas\\tests\\io\n",
      "  copying pandas\\tests\\io\\test_stata.py -> build\\lib.win-amd64-3.9\\pandas\\tests\\io\n",
      "  copying pandas\\tests\\io\\__init__.py -> build\\lib.win-amd64-3.9\\pandas\\tests\\io\n",
      "  creating build\\lib.win-amd64-3.9\\pandas\\tests\\plotting\n",
      "  copying pandas\\tests\\plotting\\common.py -> build\\lib.win-amd64-3.9\\pandas\\tests\\plotting\n",
      "  copying pandas\\tests\\plotting\\test_boxplot_method.py -> build\\lib.win-amd64-3.9\\pandas\\tests\\plotting\n",
      "  copying pandas\\tests\\plotting\\test_converter.py -> build\\lib.win-amd64-3.9\\pandas\\tests\\plotting\n",
      "  copying pandas\\tests\\plotting\\test_datetimelike.py -> build\\lib.win-amd64-3.9\\pandas\\tests\\plotting\n",
      "  copying pandas\\tests\\plotting\\test_frame.py -> build\\lib.win-amd64-3.9\\pandas\\tests\\plotting\n",
      "  copying pandas\\tests\\plotting\\test_groupby.py -> build\\lib.win-amd64-3.9\\pandas\\tests\\plotting\n",
      "  copying pandas\\tests\\plotting\\test_hist_method.py -> build\\lib.win-amd64-3.9\\pandas\\tests\\plotting\n",
      "  copying pandas\\tests\\plotting\\test_misc.py -> build\\lib.win-amd64-3.9\\pandas\\tests\\plotting\n",
      "  copying pandas\\tests\\plotting\\test_series.py -> build\\lib.win-amd64-3.9\\pandas\\tests\\plotting\n",
      "  copying pandas\\tests\\plotting\\__init__.py -> build\\lib.win-amd64-3.9\\pandas\\tests\\plotting\n",
      "  creating build\\lib.win-amd64-3.9\\pandas\\tests\\reductions\n",
      "  copying pandas\\tests\\reductions\\test_reductions.py -> build\\lib.win-amd64-3.9\\pandas\\tests\\reductions\n",
      "  copying pandas\\tests\\reductions\\test_stat_reductions.py -> build\\lib.win-amd64-3.9\\pandas\\tests\\reductions\n",
      "  copying pandas\\tests\\reductions\\__init__.py -> build\\lib.win-amd64-3.9\\pandas\\tests\\reductions\n",
      "  creating build\\lib.win-amd64-3.9\\pandas\\tests\\resample\n",
      "  copying pandas\\tests\\resample\\conftest.py -> build\\lib.win-amd64-3.9\\pandas\\tests\\resample\n",
      "  copying pandas\\tests\\resample\\test_base.py -> build\\lib.win-amd64-3.9\\pandas\\tests\\resample\n",
      "  copying pandas\\tests\\resample\\test_datetime_index.py -> build\\lib.win-amd64-3.9\\pandas\\tests\\resample\n",
      "  copying pandas\\tests\\resample\\test_period_index.py -> build\\lib.win-amd64-3.9\\pandas\\tests\\resample\n",
      "  copying pandas\\tests\\resample\\test_resampler_grouper.py -> build\\lib.win-amd64-3.9\\pandas\\tests\\resample\n",
      "  copying pandas\\tests\\resample\\test_resample_api.py -> build\\lib.win-amd64-3.9\\pandas\\tests\\resample\n",
      "  copying pandas\\tests\\resample\\test_timedelta.py -> build\\lib.win-amd64-3.9\\pandas\\tests\\resample\n",
      "  copying pandas\\tests\\resample\\test_time_grouper.py -> build\\lib.win-amd64-3.9\\pandas\\tests\\resample\n",
      "  copying pandas\\tests\\resample\\__init__.py -> build\\lib.win-amd64-3.9\\pandas\\tests\\resample\n",
      "  creating build\\lib.win-amd64-3.9\\pandas\\tests\\reshape\n",
      "  copying pandas\\tests\\reshape\\test_concat.py -> build\\lib.win-amd64-3.9\\pandas\\tests\\reshape\n",
      "  copying pandas\\tests\\reshape\\test_cut.py -> build\\lib.win-amd64-3.9\\pandas\\tests\\reshape\n",
      "  copying pandas\\tests\\reshape\\test_melt.py -> build\\lib.win-amd64-3.9\\pandas\\tests\\reshape\n",
      "  copying pandas\\tests\\reshape\\test_pivot.py -> build\\lib.win-amd64-3.9\\pandas\\tests\\reshape\n",
      "  copying pandas\\tests\\reshape\\test_qcut.py -> build\\lib.win-amd64-3.9\\pandas\\tests\\reshape\n",
      "  copying pandas\\tests\\reshape\\test_reshape.py -> build\\lib.win-amd64-3.9\\pandas\\tests\\reshape\n",
      "  copying pandas\\tests\\reshape\\test_union_categoricals.py -> build\\lib.win-amd64-3.9\\pandas\\tests\\reshape\n",
      "  copying pandas\\tests\\reshape\\test_util.py -> build\\lib.win-amd64-3.9\\pandas\\tests\\reshape\n",
      "  copying pandas\\tests\\reshape\\__init__.py -> build\\lib.win-amd64-3.9\\pandas\\tests\\reshape\n",
      "  creating build\\lib.win-amd64-3.9\\pandas\\tests\\scalar\n",
      "  copying pandas\\tests\\scalar\\test_nat.py -> build\\lib.win-amd64-3.9\\pandas\\tests\\scalar\n",
      "  copying pandas\\tests\\scalar\\__init__.py -> build\\lib.win-amd64-3.9\\pandas\\tests\\scalar\n",
      "  creating build\\lib.win-amd64-3.9\\pandas\\tests\\series\n",
      "  copying pandas\\tests\\series\\common.py -> build\\lib.win-amd64-3.9\\pandas\\tests\\series\n",
      "  copying pandas\\tests\\series\\conftest.py -> build\\lib.win-amd64-3.9\\pandas\\tests\\series\n",
      "  copying pandas\\tests\\series\\test_alter_axes.py -> build\\lib.win-amd64-3.9\\pandas\\tests\\series\n",
      "  copying pandas\\tests\\series\\test_analytics.py -> build\\lib.win-amd64-3.9\\pandas\\tests\\series\n",
      "  copying pandas\\tests\\series\\test_api.py -> build\\lib.win-amd64-3.9\\pandas\\tests\\series\n",
      "  copying pandas\\tests\\series\\test_apply.py -> build\\lib.win-amd64-3.9\\pandas\\tests\\series\n",
      "  copying pandas\\tests\\series\\test_arithmetic.py -> build\\lib.win-amd64-3.9\\pandas\\tests\\series\n",
      "  copying pandas\\tests\\series\\test_asof.py -> build\\lib.win-amd64-3.9\\pandas\\tests\\series\n",
      "  copying pandas\\tests\\series\\test_block_internals.py -> build\\lib.win-amd64-3.9\\pandas\\tests\\series\n",
      "  copying pandas\\tests\\series\\test_combine_concat.py -> build\\lib.win-amd64-3.9\\pandas\\tests\\series\n",
      "  copying pandas\\tests\\series\\test_constructors.py -> build\\lib.win-amd64-3.9\\pandas\\tests\\series\n",
      "  copying pandas\\tests\\series\\test_datetime_values.py -> build\\lib.win-amd64-3.9\\pandas\\tests\\series\n",
      "  copying pandas\\tests\\series\\test_dtypes.py -> build\\lib.win-amd64-3.9\\pandas\\tests\\series\n",
      "  copying pandas\\tests\\series\\test_duplicates.py -> build\\lib.win-amd64-3.9\\pandas\\tests\\series\n",
      "  copying pandas\\tests\\series\\test_internals.py -> build\\lib.win-amd64-3.9\\pandas\\tests\\series\n",
      "  copying pandas\\tests\\series\\test_io.py -> build\\lib.win-amd64-3.9\\pandas\\tests\\series\n",
      "  copying pandas\\tests\\series\\test_missing.py -> build\\lib.win-amd64-3.9\\pandas\\tests\\series\n",
      "  copying pandas\\tests\\series\\test_operators.py -> build\\lib.win-amd64-3.9\\pandas\\tests\\series\n",
      "  copying pandas\\tests\\series\\test_period.py -> build\\lib.win-amd64-3.9\\pandas\\tests\\series\n",
      "  copying pandas\\tests\\series\\test_quantile.py -> build\\lib.win-amd64-3.9\\pandas\\tests\\series\n",
      "  copying pandas\\tests\\series\\test_rank.py -> build\\lib.win-amd64-3.9\\pandas\\tests\\series\n",
      "  copying pandas\\tests\\series\\test_replace.py -> build\\lib.win-amd64-3.9\\pandas\\tests\\series\n",
      "  copying pandas\\tests\\series\\test_repr.py -> build\\lib.win-amd64-3.9\\pandas\\tests\\series\n",
      "  copying pandas\\tests\\series\\test_sorting.py -> build\\lib.win-amd64-3.9\\pandas\\tests\\series\n",
      "  copying pandas\\tests\\series\\test_subclass.py -> build\\lib.win-amd64-3.9\\pandas\\tests\\series\n",
      "  copying pandas\\tests\\series\\test_timeseries.py -> build\\lib.win-amd64-3.9\\pandas\\tests\\series\n",
      "  copying pandas\\tests\\series\\test_timezones.py -> build\\lib.win-amd64-3.9\\pandas\\tests\\series\n",
      "  copying pandas\\tests\\series\\test_validate.py -> build\\lib.win-amd64-3.9\\pandas\\tests\\series\n",
      "  copying pandas\\tests\\series\\__init__.py -> build\\lib.win-amd64-3.9\\pandas\\tests\\series\n",
      "  creating build\\lib.win-amd64-3.9\\pandas\\tests\\sparse\n",
      "  copying pandas\\tests\\sparse\\common.py -> build\\lib.win-amd64-3.9\\pandas\\tests\\sparse\n",
      "  copying pandas\\tests\\sparse\\test_combine_concat.py -> build\\lib.win-amd64-3.9\\pandas\\tests\\sparse\n",
      "  copying pandas\\tests\\sparse\\test_format.py -> build\\lib.win-amd64-3.9\\pandas\\tests\\sparse\n",
      "  copying pandas\\tests\\sparse\\test_groupby.py -> build\\lib.win-amd64-3.9\\pandas\\tests\\sparse\n",
      "  copying pandas\\tests\\sparse\\test_indexing.py -> build\\lib.win-amd64-3.9\\pandas\\tests\\sparse\n",
      "  copying pandas\\tests\\sparse\\test_pivot.py -> build\\lib.win-amd64-3.9\\pandas\\tests\\sparse\n",
      "  copying pandas\\tests\\sparse\\test_reshape.py -> build\\lib.win-amd64-3.9\\pandas\\tests\\sparse\n",
      "  copying pandas\\tests\\sparse\\__init__.py -> build\\lib.win-amd64-3.9\\pandas\\tests\\sparse\n",
      "  creating build\\lib.win-amd64-3.9\\pandas\\tests\\tools\n",
      "  copying pandas\\tests\\tools\\test_numeric.py -> build\\lib.win-amd64-3.9\\pandas\\tests\\tools\n",
      "  copying pandas\\tests\\tools\\__init__.py -> build\\lib.win-amd64-3.9\\pandas\\tests\\tools\n",
      "  creating build\\lib.win-amd64-3.9\\pandas\\tests\\tseries\n",
      "  copying pandas\\tests\\tseries\\test_frequencies.py -> build\\lib.win-amd64-3.9\\pandas\\tests\\tseries\n",
      "  copying pandas\\tests\\tseries\\test_holiday.py -> build\\lib.win-amd64-3.9\\pandas\\tests\\tseries\n",
      "  copying pandas\\tests\\tseries\\__init__.py -> build\\lib.win-amd64-3.9\\pandas\\tests\\tseries\n",
      "  creating build\\lib.win-amd64-3.9\\pandas\\tests\\tslibs\n",
      "  copying pandas\\tests\\tslibs\\test_api.py -> build\\lib.win-amd64-3.9\\pandas\\tests\\tslibs\n",
      "  copying pandas\\tests\\tslibs\\test_array_to_datetime.py -> build\\lib.win-amd64-3.9\\pandas\\tests\\tslibs\n",
      "  copying pandas\\tests\\tslibs\\test_ccalendar.py -> build\\lib.win-amd64-3.9\\pandas\\tests\\tslibs\n",
      "  copying pandas\\tests\\tslibs\\test_conversion.py -> build\\lib.win-amd64-3.9\\pandas\\tests\\tslibs\n",
      "  copying pandas\\tests\\tslibs\\test_libfrequencies.py -> build\\lib.win-amd64-3.9\\pandas\\tests\\tslibs\n",
      "  copying pandas\\tests\\tslibs\\test_liboffsets.py -> build\\lib.win-amd64-3.9\\pandas\\tests\\tslibs\n",
      "  copying pandas\\tests\\tslibs\\test_normalize_date.py -> build\\lib.win-amd64-3.9\\pandas\\tests\\tslibs\n",
      "  copying pandas\\tests\\tslibs\\test_parse_iso8601.py -> build\\lib.win-amd64-3.9\\pandas\\tests\\tslibs\n",
      "  copying pandas\\tests\\tslibs\\test_parsing.py -> build\\lib.win-amd64-3.9\\pandas\\tests\\tslibs\n",
      "  copying pandas\\tests\\tslibs\\test_period_asfreq.py -> build\\lib.win-amd64-3.9\\pandas\\tests\\tslibs\n",
      "  copying pandas\\tests\\tslibs\\test_timedeltas.py -> build\\lib.win-amd64-3.9\\pandas\\tests\\tslibs\n",
      "  copying pandas\\tests\\tslibs\\test_timezones.py -> build\\lib.win-amd64-3.9\\pandas\\tests\\tslibs\n",
      "  copying pandas\\tests\\tslibs\\__init__.py -> build\\lib.win-amd64-3.9\\pandas\\tests\\tslibs\n",
      "  creating build\\lib.win-amd64-3.9\\pandas\\tests\\util\n",
      "  copying pandas\\tests\\util\\conftest.py -> build\\lib.win-amd64-3.9\\pandas\\tests\\util\n",
      "  copying pandas\\tests\\util\\test_assert_almost_equal.py -> build\\lib.win-amd64-3.9\\pandas\\tests\\util\n",
      "  copying pandas\\tests\\util\\test_assert_categorical_equal.py -> build\\lib.win-amd64-3.9\\pandas\\tests\\util\n",
      "  copying pandas\\tests\\util\\test_assert_extension_array_equal.py -> build\\lib.win-amd64-3.9\\pandas\\tests\\util\n",
      "  copying pandas\\tests\\util\\test_assert_frame_equal.py -> build\\lib.win-amd64-3.9\\pandas\\tests\\util\n",
      "  copying pandas\\tests\\util\\test_assert_index_equal.py -> build\\lib.win-amd64-3.9\\pandas\\tests\\util\n",
      "  copying pandas\\tests\\util\\test_assert_interval_array_equal.py -> build\\lib.win-amd64-3.9\\pandas\\tests\\util\n",
      "  copying pandas\\tests\\util\\test_assert_numpy_array_equal.py -> build\\lib.win-amd64-3.9\\pandas\\tests\\util\n",
      "  copying pandas\\tests\\util\\test_assert_series_equal.py -> build\\lib.win-amd64-3.9\\pandas\\tests\\util\n",
      "  copying pandas\\tests\\util\\test_deprecate.py -> build\\lib.win-amd64-3.9\\pandas\\tests\\util\n",
      "  copying pandas\\tests\\util\\test_deprecate_kwarg.py -> build\\lib.win-amd64-3.9\\pandas\\tests\\util\n",
      "  copying pandas\\tests\\util\\test_hashing.py -> build\\lib.win-amd64-3.9\\pandas\\tests\\util\n",
      "  copying pandas\\tests\\util\\test_locale.py -> build\\lib.win-amd64-3.9\\pandas\\tests\\util\n",
      "  copying pandas\\tests\\util\\test_move.py -> build\\lib.win-amd64-3.9\\pandas\\tests\\util\n",
      "  copying pandas\\tests\\util\\test_safe_import.py -> build\\lib.win-amd64-3.9\\pandas\\tests\\util\n",
      "  copying pandas\\tests\\util\\test_util.py -> build\\lib.win-amd64-3.9\\pandas\\tests\\util\n",
      "  copying pandas\\tests\\util\\test_validate_args.py -> build\\lib.win-amd64-3.9\\pandas\\tests\\util\n",
      "  copying pandas\\tests\\util\\test_validate_args_and_kwargs.py -> build\\lib.win-amd64-3.9\\pandas\\tests\\util\n",
      "  copying pandas\\tests\\util\\test_validate_kwargs.py -> build\\lib.win-amd64-3.9\\pandas\\tests\\util\n",
      "  copying pandas\\tests\\util\\__init__.py -> build\\lib.win-amd64-3.9\\pandas\\tests\\util\n",
      "  creating build\\lib.win-amd64-3.9\\pandas\\tests\\arrays\\categorical\n",
      "  copying pandas\\tests\\arrays\\categorical\\common.py -> build\\lib.win-amd64-3.9\\pandas\\tests\\arrays\\categorical\n",
      "  copying pandas\\tests\\arrays\\categorical\\conftest.py -> build\\lib.win-amd64-3.9\\pandas\\tests\\arrays\\categorical\n",
      "  copying pandas\\tests\\arrays\\categorical\\test_algos.py -> build\\lib.win-amd64-3.9\\pandas\\tests\\arrays\\categorical\n",
      "  copying pandas\\tests\\arrays\\categorical\\test_analytics.py -> build\\lib.win-amd64-3.9\\pandas\\tests\\arrays\\categorical\n",
      "  copying pandas\\tests\\arrays\\categorical\\test_api.py -> build\\lib.win-amd64-3.9\\pandas\\tests\\arrays\\categorical\n",
      "  copying pandas\\tests\\arrays\\categorical\\test_constructors.py -> build\\lib.win-amd64-3.9\\pandas\\tests\\arrays\\categorical\n",
      "  copying pandas\\tests\\arrays\\categorical\\test_dtypes.py -> build\\lib.win-amd64-3.9\\pandas\\tests\\arrays\\categorical\n",
      "  copying pandas\\tests\\arrays\\categorical\\test_indexing.py -> build\\lib.win-amd64-3.9\\pandas\\tests\\arrays\\categorical\n",
      "  copying pandas\\tests\\arrays\\categorical\\test_missing.py -> build\\lib.win-amd64-3.9\\pandas\\tests\\arrays\\categorical\n",
      "  copying pandas\\tests\\arrays\\categorical\\test_operators.py -> build\\lib.win-amd64-3.9\\pandas\\tests\\arrays\\categorical\n",
      "  copying pandas\\tests\\arrays\\categorical\\test_repr.py -> build\\lib.win-amd64-3.9\\pandas\\tests\\arrays\\categorical\n",
      "  copying pandas\\tests\\arrays\\categorical\\test_sorting.py -> build\\lib.win-amd64-3.9\\pandas\\tests\\arrays\\categorical\n",
      "  copying pandas\\tests\\arrays\\categorical\\test_subclass.py -> build\\lib.win-amd64-3.9\\pandas\\tests\\arrays\\categorical\n",
      "  copying pandas\\tests\\arrays\\categorical\\test_warnings.py -> build\\lib.win-amd64-3.9\\pandas\\tests\\arrays\\categorical\n",
      "  copying pandas\\tests\\arrays\\categorical\\__init__.py -> build\\lib.win-amd64-3.9\\pandas\\tests\\arrays\\categorical\n",
      "  creating build\\lib.win-amd64-3.9\\pandas\\tests\\arrays\\interval\n",
      "  copying pandas\\tests\\arrays\\interval\\test_interval.py -> build\\lib.win-amd64-3.9\\pandas\\tests\\arrays\\interval\n",
      "  copying pandas\\tests\\arrays\\interval\\test_ops.py -> build\\lib.win-amd64-3.9\\pandas\\tests\\arrays\\interval\n",
      "  copying pandas\\tests\\arrays\\interval\\__init__.py -> build\\lib.win-amd64-3.9\\pandas\\tests\\arrays\\interval\n",
      "  creating build\\lib.win-amd64-3.9\\pandas\\tests\\arrays\\sparse\n",
      "  copying pandas\\tests\\arrays\\sparse\\test_arithmetics.py -> build\\lib.win-amd64-3.9\\pandas\\tests\\arrays\\sparse\n",
      "  copying pandas\\tests\\arrays\\sparse\\test_array.py -> build\\lib.win-amd64-3.9\\pandas\\tests\\arrays\\sparse\n",
      "  copying pandas\\tests\\arrays\\sparse\\test_dtype.py -> build\\lib.win-amd64-3.9\\pandas\\tests\\arrays\\sparse\n",
      "  copying pandas\\tests\\arrays\\sparse\\test_libsparse.py -> build\\lib.win-amd64-3.9\\pandas\\tests\\arrays\\sparse\n",
      "  copying pandas\\tests\\arrays\\sparse\\__init__.py -> build\\lib.win-amd64-3.9\\pandas\\tests\\arrays\\sparse\n",
      "  creating build\\lib.win-amd64-3.9\\pandas\\tests\\dtypes\\cast\n",
      "  copying pandas\\tests\\dtypes\\cast\\test_construct_from_scalar.py -> build\\lib.win-amd64-3.9\\pandas\\tests\\dtypes\\cast\n",
      "  copying pandas\\tests\\dtypes\\cast\\test_construct_ndarray.py -> build\\lib.win-amd64-3.9\\pandas\\tests\\dtypes\\cast\n",
      "  copying pandas\\tests\\dtypes\\cast\\test_construct_object_arr.py -> build\\lib.win-amd64-3.9\\pandas\\tests\\dtypes\\cast\n",
      "  copying pandas\\tests\\dtypes\\cast\\test_convert_objects.py -> build\\lib.win-amd64-3.9\\pandas\\tests\\dtypes\\cast\n",
      "  copying pandas\\tests\\dtypes\\cast\\test_downcast.py -> build\\lib.win-amd64-3.9\\pandas\\tests\\dtypes\\cast\n",
      "  copying pandas\\tests\\dtypes\\cast\\test_find_common_type.py -> build\\lib.win-amd64-3.9\\pandas\\tests\\dtypes\\cast\n",
      "  copying pandas\\tests\\dtypes\\cast\\test_infer_datetimelike.py -> build\\lib.win-amd64-3.9\\pandas\\tests\\dtypes\\cast\n",
      "  copying pandas\\tests\\dtypes\\cast\\test_infer_dtype.py -> build\\lib.win-amd64-3.9\\pandas\\tests\\dtypes\\cast\n",
      "  copying pandas\\tests\\dtypes\\cast\\__init__.py -> build\\lib.win-amd64-3.9\\pandas\\tests\\dtypes\\cast\n",
      "  creating build\\lib.win-amd64-3.9\\pandas\\tests\\extension\\arrow\n",
      "  copying pandas\\tests\\extension\\arrow\\bool.py -> build\\lib.win-amd64-3.9\\pandas\\tests\\extension\\arrow\n",
      "  copying pandas\\tests\\extension\\arrow\\test_bool.py -> build\\lib.win-amd64-3.9\\pandas\\tests\\extension\\arrow\n",
      "  copying pandas\\tests\\extension\\arrow\\__init__.py -> build\\lib.win-amd64-3.9\\pandas\\tests\\extension\\arrow\n",
      "  creating build\\lib.win-amd64-3.9\\pandas\\tests\\extension\\base\n",
      "  copying pandas\\tests\\extension\\base\\base.py -> build\\lib.win-amd64-3.9\\pandas\\tests\\extension\\base\n",
      "  copying pandas\\tests\\extension\\base\\casting.py -> build\\lib.win-amd64-3.9\\pandas\\tests\\extension\\base\n",
      "  copying pandas\\tests\\extension\\base\\constructors.py -> build\\lib.win-amd64-3.9\\pandas\\tests\\extension\\base\n",
      "  copying pandas\\tests\\extension\\base\\dtype.py -> build\\lib.win-amd64-3.9\\pandas\\tests\\extension\\base\n",
      "  copying pandas\\tests\\extension\\base\\getitem.py -> build\\lib.win-amd64-3.9\\pandas\\tests\\extension\\base\n",
      "  copying pandas\\tests\\extension\\base\\groupby.py -> build\\lib.win-amd64-3.9\\pandas\\tests\\extension\\base\n",
      "  copying pandas\\tests\\extension\\base\\interface.py -> build\\lib.win-amd64-3.9\\pandas\\tests\\extension\\base\n",
      "  copying pandas\\tests\\extension\\base\\io.py -> build\\lib.win-amd64-3.9\\pandas\\tests\\extension\\base\n",
      "  copying pandas\\tests\\extension\\base\\methods.py -> build\\lib.win-amd64-3.9\\pandas\\tests\\extension\\base\n",
      "  copying pandas\\tests\\extension\\base\\missing.py -> build\\lib.win-amd64-3.9\\pandas\\tests\\extension\\base\n",
      "  copying pandas\\tests\\extension\\base\\ops.py -> build\\lib.win-amd64-3.9\\pandas\\tests\\extension\\base\n",
      "  copying pandas\\tests\\extension\\base\\printing.py -> build\\lib.win-amd64-3.9\\pandas\\tests\\extension\\base\n",
      "  copying pandas\\tests\\extension\\base\\reduce.py -> build\\lib.win-amd64-3.9\\pandas\\tests\\extension\\base\n",
      "  copying pandas\\tests\\extension\\base\\reshaping.py -> build\\lib.win-amd64-3.9\\pandas\\tests\\extension\\base\n",
      "  copying pandas\\tests\\extension\\base\\setitem.py -> build\\lib.win-amd64-3.9\\pandas\\tests\\extension\\base\n",
      "  copying pandas\\tests\\extension\\base\\__init__.py -> build\\lib.win-amd64-3.9\\pandas\\tests\\extension\\base\n",
      "  creating build\\lib.win-amd64-3.9\\pandas\\tests\\extension\\decimal\n",
      "  copying pandas\\tests\\extension\\decimal\\array.py -> build\\lib.win-amd64-3.9\\pandas\\tests\\extension\\decimal\n",
      "  copying pandas\\tests\\extension\\decimal\\test_decimal.py -> build\\lib.win-amd64-3.9\\pandas\\tests\\extension\\decimal\n",
      "  copying pandas\\tests\\extension\\decimal\\__init__.py -> build\\lib.win-amd64-3.9\\pandas\\tests\\extension\\decimal\n",
      "  creating build\\lib.win-amd64-3.9\\pandas\\tests\\extension\\json\n",
      "  copying pandas\\tests\\extension\\json\\array.py -> build\\lib.win-amd64-3.9\\pandas\\tests\\extension\\json\n",
      "  copying pandas\\tests\\extension\\json\\test_json.py -> build\\lib.win-amd64-3.9\\pandas\\tests\\extension\\json\n",
      "  copying pandas\\tests\\extension\\json\\__init__.py -> build\\lib.win-amd64-3.9\\pandas\\tests\\extension\\json\n",
      "  creating build\\lib.win-amd64-3.9\\pandas\\tests\\extension\\numpy_\n",
      "  copying pandas\\tests\\extension\\numpy_\\conftest.py -> build\\lib.win-amd64-3.9\\pandas\\tests\\extension\\numpy_\n",
      "  copying pandas\\tests\\extension\\numpy_\\test_numpy.py -> build\\lib.win-amd64-3.9\\pandas\\tests\\extension\\numpy_\n",
      "  copying pandas\\tests\\extension\\numpy_\\test_numpy_nested.py -> build\\lib.win-amd64-3.9\\pandas\\tests\\extension\\numpy_\n",
      "  copying pandas\\tests\\extension\\numpy_\\__init__.py -> build\\lib.win-amd64-3.9\\pandas\\tests\\extension\\numpy_\n",
      "  creating build\\lib.win-amd64-3.9\\pandas\\tests\\groupby\\aggregate\n",
      "  copying pandas\\tests\\groupby\\aggregate\\test_aggregate.py -> build\\lib.win-amd64-3.9\\pandas\\tests\\groupby\\aggregate\n",
      "  copying pandas\\tests\\groupby\\aggregate\\test_cython.py -> build\\lib.win-amd64-3.9\\pandas\\tests\\groupby\\aggregate\n",
      "  copying pandas\\tests\\groupby\\aggregate\\test_other.py -> build\\lib.win-amd64-3.9\\pandas\\tests\\groupby\\aggregate\n",
      "  copying pandas\\tests\\groupby\\aggregate\\__init__.py -> build\\lib.win-amd64-3.9\\pandas\\tests\\groupby\\aggregate\n",
      "  creating build\\lib.win-amd64-3.9\\pandas\\tests\\indexes\\datetimes\n",
      "  copying pandas\\tests\\indexes\\datetimes\\test_arithmetic.py -> build\\lib.win-amd64-3.9\\pandas\\tests\\indexes\\datetimes\n",
      "  copying pandas\\tests\\indexes\\datetimes\\test_astype.py -> build\\lib.win-amd64-3.9\\pandas\\tests\\indexes\\datetimes\n",
      "  copying pandas\\tests\\indexes\\datetimes\\test_construction.py -> build\\lib.win-amd64-3.9\\pandas\\tests\\indexes\\datetimes\n",
      "  copying pandas\\tests\\indexes\\datetimes\\test_datetime.py -> build\\lib.win-amd64-3.9\\pandas\\tests\\indexes\\datetimes\n",
      "  copying pandas\\tests\\indexes\\datetimes\\test_datetimelike.py -> build\\lib.win-amd64-3.9\\pandas\\tests\\indexes\\datetimes\n",
      "  copying pandas\\tests\\indexes\\datetimes\\test_date_range.py -> build\\lib.win-amd64-3.9\\pandas\\tests\\indexes\\datetimes\n",
      "  copying pandas\\tests\\indexes\\datetimes\\test_formats.py -> build\\lib.win-amd64-3.9\\pandas\\tests\\indexes\\datetimes\n",
      "  copying pandas\\tests\\indexes\\datetimes\\test_indexing.py -> build\\lib.win-amd64-3.9\\pandas\\tests\\indexes\\datetimes\n",
      "  copying pandas\\tests\\indexes\\datetimes\\test_misc.py -> build\\lib.win-amd64-3.9\\pandas\\tests\\indexes\\datetimes\n",
      "  copying pandas\\tests\\indexes\\datetimes\\test_missing.py -> build\\lib.win-amd64-3.9\\pandas\\tests\\indexes\\datetimes\n",
      "  copying pandas\\tests\\indexes\\datetimes\\test_ops.py -> build\\lib.win-amd64-3.9\\pandas\\tests\\indexes\\datetimes\n",
      "  copying pandas\\tests\\indexes\\datetimes\\test_partial_slicing.py -> build\\lib.win-amd64-3.9\\pandas\\tests\\indexes\\datetimes\n",
      "  copying pandas\\tests\\indexes\\datetimes\\test_scalar_compat.py -> build\\lib.win-amd64-3.9\\pandas\\tests\\indexes\\datetimes\n",
      "  copying pandas\\tests\\indexes\\datetimes\\test_setops.py -> build\\lib.win-amd64-3.9\\pandas\\tests\\indexes\\datetimes\n",
      "  copying pandas\\tests\\indexes\\datetimes\\test_timezones.py -> build\\lib.win-amd64-3.9\\pandas\\tests\\indexes\\datetimes\n",
      "  copying pandas\\tests\\indexes\\datetimes\\test_tools.py -> build\\lib.win-amd64-3.9\\pandas\\tests\\indexes\\datetimes\n",
      "  copying pandas\\tests\\indexes\\datetimes\\__init__.py -> build\\lib.win-amd64-3.9\\pandas\\tests\\indexes\\datetimes\n",
      "  creating build\\lib.win-amd64-3.9\\pandas\\tests\\indexes\\interval\n",
      "  copying pandas\\tests\\indexes\\interval\\test_astype.py -> build\\lib.win-amd64-3.9\\pandas\\tests\\indexes\\interval\n",
      "  copying pandas\\tests\\indexes\\interval\\test_construction.py -> build\\lib.win-amd64-3.9\\pandas\\tests\\indexes\\interval\n",
      "  copying pandas\\tests\\indexes\\interval\\test_interval.py -> build\\lib.win-amd64-3.9\\pandas\\tests\\indexes\\interval\n",
      "  copying pandas\\tests\\indexes\\interval\\test_interval_new.py -> build\\lib.win-amd64-3.9\\pandas\\tests\\indexes\\interval\n",
      "  copying pandas\\tests\\indexes\\interval\\test_interval_range.py -> build\\lib.win-amd64-3.9\\pandas\\tests\\indexes\\interval\n",
      "  copying pandas\\tests\\indexes\\interval\\test_interval_tree.py -> build\\lib.win-amd64-3.9\\pandas\\tests\\indexes\\interval\n",
      "  copying pandas\\tests\\indexes\\interval\\__init__.py -> build\\lib.win-amd64-3.9\\pandas\\tests\\indexes\\interval\n",
      "  creating build\\lib.win-amd64-3.9\\pandas\\tests\\indexes\\multi\n",
      "  copying pandas\\tests\\indexes\\multi\\conftest.py -> build\\lib.win-amd64-3.9\\pandas\\tests\\indexes\\multi\n",
      "  copying pandas\\tests\\indexes\\multi\\test_analytics.py -> build\\lib.win-amd64-3.9\\pandas\\tests\\indexes\\multi\n",
      "  copying pandas\\tests\\indexes\\multi\\test_astype.py -> build\\lib.win-amd64-3.9\\pandas\\tests\\indexes\\multi\n",
      "  copying pandas\\tests\\indexes\\multi\\test_compat.py -> build\\lib.win-amd64-3.9\\pandas\\tests\\indexes\\multi\n",
      "  copying pandas\\tests\\indexes\\multi\\test_constructor.py -> build\\lib.win-amd64-3.9\\pandas\\tests\\indexes\\multi\n",
      "  copying pandas\\tests\\indexes\\multi\\test_contains.py -> build\\lib.win-amd64-3.9\\pandas\\tests\\indexes\\multi\n",
      "  copying pandas\\tests\\indexes\\multi\\test_conversion.py -> build\\lib.win-amd64-3.9\\pandas\\tests\\indexes\\multi\n",
      "  copying pandas\\tests\\indexes\\multi\\test_copy.py -> build\\lib.win-amd64-3.9\\pandas\\tests\\indexes\\multi\n",
      "  copying pandas\\tests\\indexes\\multi\\test_drop.py -> build\\lib.win-amd64-3.9\\pandas\\tests\\indexes\\multi\n",
      "  copying pandas\\tests\\indexes\\multi\\test_duplicates.py -> build\\lib.win-amd64-3.9\\pandas\\tests\\indexes\\multi\n",
      "  copying pandas\\tests\\indexes\\multi\\test_equivalence.py -> build\\lib.win-amd64-3.9\\pandas\\tests\\indexes\\multi\n",
      "  copying pandas\\tests\\indexes\\multi\\test_format.py -> build\\lib.win-amd64-3.9\\pandas\\tests\\indexes\\multi\n",
      "  copying pandas\\tests\\indexes\\multi\\test_get_set.py -> build\\lib.win-amd64-3.9\\pandas\\tests\\indexes\\multi\n",
      "  copying pandas\\tests\\indexes\\multi\\test_indexing.py -> build\\lib.win-amd64-3.9\\pandas\\tests\\indexes\\multi\n",
      "  copying pandas\\tests\\indexes\\multi\\test_integrity.py -> build\\lib.win-amd64-3.9\\pandas\\tests\\indexes\\multi\n",
      "  copying pandas\\tests\\indexes\\multi\\test_join.py -> build\\lib.win-amd64-3.9\\pandas\\tests\\indexes\\multi\n",
      "  copying pandas\\tests\\indexes\\multi\\test_missing.py -> build\\lib.win-amd64-3.9\\pandas\\tests\\indexes\\multi\n",
      "  copying pandas\\tests\\indexes\\multi\\test_monotonic.py -> build\\lib.win-amd64-3.9\\pandas\\tests\\indexes\\multi\n",
      "  copying pandas\\tests\\indexes\\multi\\test_names.py -> build\\lib.win-amd64-3.9\\pandas\\tests\\indexes\\multi\n",
      "  copying pandas\\tests\\indexes\\multi\\test_partial_indexing.py -> build\\lib.win-amd64-3.9\\pandas\\tests\\indexes\\multi\n",
      "  copying pandas\\tests\\indexes\\multi\\test_reindex.py -> build\\lib.win-amd64-3.9\\pandas\\tests\\indexes\\multi\n",
      "  copying pandas\\tests\\indexes\\multi\\test_reshape.py -> build\\lib.win-amd64-3.9\\pandas\\tests\\indexes\\multi\n",
      "  copying pandas\\tests\\indexes\\multi\\test_set_ops.py -> build\\lib.win-amd64-3.9\\pandas\\tests\\indexes\\multi\n",
      "  copying pandas\\tests\\indexes\\multi\\test_sorting.py -> build\\lib.win-amd64-3.9\\pandas\\tests\\indexes\\multi\n",
      "  copying pandas\\tests\\indexes\\multi\\__init__.py -> build\\lib.win-amd64-3.9\\pandas\\tests\\indexes\\multi\n",
      "  creating build\\lib.win-amd64-3.9\\pandas\\tests\\indexes\\period\n",
      "  copying pandas\\tests\\indexes\\period\\test_arithmetic.py -> build\\lib.win-amd64-3.9\\pandas\\tests\\indexes\\period\n",
      "  copying pandas\\tests\\indexes\\period\\test_asfreq.py -> build\\lib.win-amd64-3.9\\pandas\\tests\\indexes\\period\n",
      "  copying pandas\\tests\\indexes\\period\\test_astype.py -> build\\lib.win-amd64-3.9\\pandas\\tests\\indexes\\period\n",
      "  copying pandas\\tests\\indexes\\period\\test_construction.py -> build\\lib.win-amd64-3.9\\pandas\\tests\\indexes\\period\n",
      "  copying pandas\\tests\\indexes\\period\\test_formats.py -> build\\lib.win-amd64-3.9\\pandas\\tests\\indexes\\period\n",
      "  copying pandas\\tests\\indexes\\period\\test_indexing.py -> build\\lib.win-amd64-3.9\\pandas\\tests\\indexes\\period\n",
      "  copying pandas\\tests\\indexes\\period\\test_ops.py -> build\\lib.win-amd64-3.9\\pandas\\tests\\indexes\\period\n",
      "  copying pandas\\tests\\indexes\\period\\test_partial_slicing.py -> build\\lib.win-amd64-3.9\\pandas\\tests\\indexes\\period\n",
      "  copying pandas\\tests\\indexes\\period\\test_period.py -> build\\lib.win-amd64-3.9\\pandas\\tests\\indexes\\period\n",
      "  copying pandas\\tests\\indexes\\period\\test_period_range.py -> build\\lib.win-amd64-3.9\\pandas\\tests\\indexes\\period\n",
      "  copying pandas\\tests\\indexes\\period\\test_scalar_compat.py -> build\\lib.win-amd64-3.9\\pandas\\tests\\indexes\\period\n",
      "  copying pandas\\tests\\indexes\\period\\test_setops.py -> build\\lib.win-amd64-3.9\\pandas\\tests\\indexes\\period\n",
      "  copying pandas\\tests\\indexes\\period\\test_tools.py -> build\\lib.win-amd64-3.9\\pandas\\tests\\indexes\\period\n",
      "  copying pandas\\tests\\indexes\\period\\__init__.py -> build\\lib.win-amd64-3.9\\pandas\\tests\\indexes\\period\n",
      "  creating build\\lib.win-amd64-3.9\\pandas\\tests\\indexes\\timedeltas\n",
      "  copying pandas\\tests\\indexes\\timedeltas\\test_arithmetic.py -> build\\lib.win-amd64-3.9\\pandas\\tests\\indexes\\timedeltas\n",
      "  copying pandas\\tests\\indexes\\timedeltas\\test_astype.py -> build\\lib.win-amd64-3.9\\pandas\\tests\\indexes\\timedeltas\n",
      "  copying pandas\\tests\\indexes\\timedeltas\\test_construction.py -> build\\lib.win-amd64-3.9\\pandas\\tests\\indexes\\timedeltas\n",
      "  copying pandas\\tests\\indexes\\timedeltas\\test_formats.py -> build\\lib.win-amd64-3.9\\pandas\\tests\\indexes\\timedeltas\n",
      "  copying pandas\\tests\\indexes\\timedeltas\\test_indexing.py -> build\\lib.win-amd64-3.9\\pandas\\tests\\indexes\\timedeltas\n",
      "  copying pandas\\tests\\indexes\\timedeltas\\test_ops.py -> build\\lib.win-amd64-3.9\\pandas\\tests\\indexes\\timedeltas\n",
      "  copying pandas\\tests\\indexes\\timedeltas\\test_partial_slicing.py -> build\\lib.win-amd64-3.9\\pandas\\tests\\indexes\\timedeltas\n",
      "  copying pandas\\tests\\indexes\\timedeltas\\test_scalar_compat.py -> build\\lib.win-amd64-3.9\\pandas\\tests\\indexes\\timedeltas\n",
      "  copying pandas\\tests\\indexes\\timedeltas\\test_setops.py -> build\\lib.win-amd64-3.9\\pandas\\tests\\indexes\\timedeltas\n",
      "  copying pandas\\tests\\indexes\\timedeltas\\test_timedelta.py -> build\\lib.win-amd64-3.9\\pandas\\tests\\indexes\\timedeltas\n",
      "  copying pandas\\tests\\indexes\\timedeltas\\test_timedelta_range.py -> build\\lib.win-amd64-3.9\\pandas\\tests\\indexes\\timedeltas\n",
      "  copying pandas\\tests\\indexes\\timedeltas\\test_tools.py -> build\\lib.win-amd64-3.9\\pandas\\tests\\indexes\\timedeltas\n",
      "  copying pandas\\tests\\indexes\\timedeltas\\__init__.py -> build\\lib.win-amd64-3.9\\pandas\\tests\\indexes\\timedeltas\n",
      "  creating build\\lib.win-amd64-3.9\\pandas\\tests\\indexing\\interval\n",
      "  copying pandas\\tests\\indexing\\interval\\test_interval.py -> build\\lib.win-amd64-3.9\\pandas\\tests\\indexing\\interval\n",
      "  copying pandas\\tests\\indexing\\interval\\test_interval_new.py -> build\\lib.win-amd64-3.9\\pandas\\tests\\indexing\\interval\n",
      "  copying pandas\\tests\\indexing\\interval\\__init__.py -> build\\lib.win-amd64-3.9\\pandas\\tests\\indexing\\interval\n",
      "  creating build\\lib.win-amd64-3.9\\pandas\\tests\\indexing\\multiindex\n",
      "  copying pandas\\tests\\indexing\\multiindex\\conftest.py -> build\\lib.win-amd64-3.9\\pandas\\tests\\indexing\\multiindex\n",
      "  copying pandas\\tests\\indexing\\multiindex\\test_chaining_and_caching.py -> build\\lib.win-amd64-3.9\\pandas\\tests\\indexing\\multiindex\n",
      "  copying pandas\\tests\\indexing\\multiindex\\test_datetime.py -> build\\lib.win-amd64-3.9\\pandas\\tests\\indexing\\multiindex\n",
      "  copying pandas\\tests\\indexing\\multiindex\\test_getitem.py -> build\\lib.win-amd64-3.9\\pandas\\tests\\indexing\\multiindex\n",
      "  copying pandas\\tests\\indexing\\multiindex\\test_iloc.py -> build\\lib.win-amd64-3.9\\pandas\\tests\\indexing\\multiindex\n",
      "  copying pandas\\tests\\indexing\\multiindex\\test_indexing_slow.py -> build\\lib.win-amd64-3.9\\pandas\\tests\\indexing\\multiindex\n",
      "  copying pandas\\tests\\indexing\\multiindex\\test_ix.py -> build\\lib.win-amd64-3.9\\pandas\\tests\\indexing\\multiindex\n",
      "  copying pandas\\tests\\indexing\\multiindex\\test_loc.py -> build\\lib.win-amd64-3.9\\pandas\\tests\\indexing\\multiindex\n",
      "  copying pandas\\tests\\indexing\\multiindex\\test_multiindex.py -> build\\lib.win-amd64-3.9\\pandas\\tests\\indexing\\multiindex\n",
      "  copying pandas\\tests\\indexing\\multiindex\\test_panel.py -> build\\lib.win-amd64-3.9\\pandas\\tests\\indexing\\multiindex\n",
      "  copying pandas\\tests\\indexing\\multiindex\\test_partial.py -> build\\lib.win-amd64-3.9\\pandas\\tests\\indexing\\multiindex\n",
      "  copying pandas\\tests\\indexing\\multiindex\\test_setitem.py -> build\\lib.win-amd64-3.9\\pandas\\tests\\indexing\\multiindex\n",
      "  copying pandas\\tests\\indexing\\multiindex\\test_set_ops.py -> build\\lib.win-amd64-3.9\\pandas\\tests\\indexing\\multiindex\n",
      "  copying pandas\\tests\\indexing\\multiindex\\test_slice.py -> build\\lib.win-amd64-3.9\\pandas\\tests\\indexing\\multiindex\n",
      "  copying pandas\\tests\\indexing\\multiindex\\test_sorted.py -> build\\lib.win-amd64-3.9\\pandas\\tests\\indexing\\multiindex\n",
      "  copying pandas\\tests\\indexing\\multiindex\\test_xs.py -> build\\lib.win-amd64-3.9\\pandas\\tests\\indexing\\multiindex\n",
      "  copying pandas\\tests\\indexing\\multiindex\\__init__.py -> build\\lib.win-amd64-3.9\\pandas\\tests\\indexing\\multiindex\n",
      "  creating build\\lib.win-amd64-3.9\\pandas\\tests\\io\\formats\n",
      "  copying pandas\\tests\\io\\formats\\test_console.py -> build\\lib.win-amd64-3.9\\pandas\\tests\\io\\formats\n",
      "  copying pandas\\tests\\io\\formats\\test_css.py -> build\\lib.win-amd64-3.9\\pandas\\tests\\io\\formats\n",
      "  copying pandas\\tests\\io\\formats\\test_eng_formatting.py -> build\\lib.win-amd64-3.9\\pandas\\tests\\io\\formats\n",
      "  copying pandas\\tests\\io\\formats\\test_format.py -> build\\lib.win-amd64-3.9\\pandas\\tests\\io\\formats\n",
      "  copying pandas\\tests\\io\\formats\\test_printing.py -> build\\lib.win-amd64-3.9\\pandas\\tests\\io\\formats\n",
      "  copying pandas\\tests\\io\\formats\\test_style.py -> build\\lib.win-amd64-3.9\\pandas\\tests\\io\\formats\n",
      "  copying pandas\\tests\\io\\formats\\test_to_csv.py -> build\\lib.win-amd64-3.9\\pandas\\tests\\io\\formats\n",
      "  copying pandas\\tests\\io\\formats\\test_to_excel.py -> build\\lib.win-amd64-3.9\\pandas\\tests\\io\\formats\n",
      "  copying pandas\\tests\\io\\formats\\test_to_html.py -> build\\lib.win-amd64-3.9\\pandas\\tests\\io\\formats\n",
      "  copying pandas\\tests\\io\\formats\\test_to_latex.py -> build\\lib.win-amd64-3.9\\pandas\\tests\\io\\formats\n",
      "  copying pandas\\tests\\io\\formats\\__init__.py -> build\\lib.win-amd64-3.9\\pandas\\tests\\io\\formats\n",
      "  creating build\\lib.win-amd64-3.9\\pandas\\tests\\io\\json\n",
      "  copying pandas\\tests\\io\\json\\test_compression.py -> build\\lib.win-amd64-3.9\\pandas\\tests\\io\\json\n",
      "  copying pandas\\tests\\io\\json\\test_json_table_schema.py -> build\\lib.win-amd64-3.9\\pandas\\tests\\io\\json\n",
      "  copying pandas\\tests\\io\\json\\test_normalize.py -> build\\lib.win-amd64-3.9\\pandas\\tests\\io\\json\n",
      "  copying pandas\\tests\\io\\json\\test_pandas.py -> build\\lib.win-amd64-3.9\\pandas\\tests\\io\\json\n",
      "  copying pandas\\tests\\io\\json\\test_readlines.py -> build\\lib.win-amd64-3.9\\pandas\\tests\\io\\json\n",
      "  copying pandas\\tests\\io\\json\\test_ujson.py -> build\\lib.win-amd64-3.9\\pandas\\tests\\io\\json\n",
      "  copying pandas\\tests\\io\\json\\__init__.py -> build\\lib.win-amd64-3.9\\pandas\\tests\\io\\json\n",
      "  creating build\\lib.win-amd64-3.9\\pandas\\tests\\io\\msgpack\n",
      "  copying pandas\\tests\\io\\msgpack\\common.py -> build\\lib.win-amd64-3.9\\pandas\\tests\\io\\msgpack\n",
      "  copying pandas\\tests\\io\\msgpack\\test_buffer.py -> build\\lib.win-amd64-3.9\\pandas\\tests\\io\\msgpack\n",
      "  copying pandas\\tests\\io\\msgpack\\test_case.py -> build\\lib.win-amd64-3.9\\pandas\\tests\\io\\msgpack\n",
      "  copying pandas\\tests\\io\\msgpack\\test_except.py -> build\\lib.win-amd64-3.9\\pandas\\tests\\io\\msgpack\n",
      "  copying pandas\\tests\\io\\msgpack\\test_extension.py -> build\\lib.win-amd64-3.9\\pandas\\tests\\io\\msgpack\n",
      "  copying pandas\\tests\\io\\msgpack\\test_format.py -> build\\lib.win-amd64-3.9\\pandas\\tests\\io\\msgpack\n",
      "  copying pandas\\tests\\io\\msgpack\\test_limits.py -> build\\lib.win-amd64-3.9\\pandas\\tests\\io\\msgpack\n",
      "  copying pandas\\tests\\io\\msgpack\\test_newspec.py -> build\\lib.win-amd64-3.9\\pandas\\tests\\io\\msgpack\n",
      "  copying pandas\\tests\\io\\msgpack\\test_obj.py -> build\\lib.win-amd64-3.9\\pandas\\tests\\io\\msgpack\n",
      "  copying pandas\\tests\\io\\msgpack\\test_pack.py -> build\\lib.win-amd64-3.9\\pandas\\tests\\io\\msgpack\n",
      "  copying pandas\\tests\\io\\msgpack\\test_read_size.py -> build\\lib.win-amd64-3.9\\pandas\\tests\\io\\msgpack\n",
      "  copying pandas\\tests\\io\\msgpack\\test_seq.py -> build\\lib.win-amd64-3.9\\pandas\\tests\\io\\msgpack\n",
      "  copying pandas\\tests\\io\\msgpack\\test_sequnpack.py -> build\\lib.win-amd64-3.9\\pandas\\tests\\io\\msgpack\n",
      "  copying pandas\\tests\\io\\msgpack\\test_subtype.py -> build\\lib.win-amd64-3.9\\pandas\\tests\\io\\msgpack\n",
      "  copying pandas\\tests\\io\\msgpack\\test_unpack.py -> build\\lib.win-amd64-3.9\\pandas\\tests\\io\\msgpack\n",
      "  copying pandas\\tests\\io\\msgpack\\test_unpack_raw.py -> build\\lib.win-amd64-3.9\\pandas\\tests\\io\\msgpack\n",
      "  copying pandas\\tests\\io\\msgpack\\__init__.py -> build\\lib.win-amd64-3.9\\pandas\\tests\\io\\msgpack\n",
      "  creating build\\lib.win-amd64-3.9\\pandas\\tests\\io\\parser\n",
      "  copying pandas\\tests\\io\\parser\\conftest.py -> build\\lib.win-amd64-3.9\\pandas\\tests\\io\\parser\n",
      "  copying pandas\\tests\\io\\parser\\test_comment.py -> build\\lib.win-amd64-3.9\\pandas\\tests\\io\\parser\n",
      "  copying pandas\\tests\\io\\parser\\test_common.py -> build\\lib.win-amd64-3.9\\pandas\\tests\\io\\parser\n",
      "  copying pandas\\tests\\io\\parser\\test_compression.py -> build\\lib.win-amd64-3.9\\pandas\\tests\\io\\parser\n",
      "  copying pandas\\tests\\io\\parser\\test_converters.py -> build\\lib.win-amd64-3.9\\pandas\\tests\\io\\parser\n",
      "  copying pandas\\tests\\io\\parser\\test_c_parser_only.py -> build\\lib.win-amd64-3.9\\pandas\\tests\\io\\parser\n",
      "  copying pandas\\tests\\io\\parser\\test_dialect.py -> build\\lib.win-amd64-3.9\\pandas\\tests\\io\\parser\n",
      "  copying pandas\\tests\\io\\parser\\test_dtypes.py -> build\\lib.win-amd64-3.9\\pandas\\tests\\io\\parser\n",
      "  copying pandas\\tests\\io\\parser\\test_header.py -> build\\lib.win-amd64-3.9\\pandas\\tests\\io\\parser\n",
      "  copying pandas\\tests\\io\\parser\\test_index_col.py -> build\\lib.win-amd64-3.9\\pandas\\tests\\io\\parser\n",
      "  copying pandas\\tests\\io\\parser\\test_mangle_dupes.py -> build\\lib.win-amd64-3.9\\pandas\\tests\\io\\parser\n",
      "  copying pandas\\tests\\io\\parser\\test_multi_thread.py -> build\\lib.win-amd64-3.9\\pandas\\tests\\io\\parser\n",
      "  copying pandas\\tests\\io\\parser\\test_na_values.py -> build\\lib.win-amd64-3.9\\pandas\\tests\\io\\parser\n",
      "  copying pandas\\tests\\io\\parser\\test_network.py -> build\\lib.win-amd64-3.9\\pandas\\tests\\io\\parser\n",
      "  copying pandas\\tests\\io\\parser\\test_parse_dates.py -> build\\lib.win-amd64-3.9\\pandas\\tests\\io\\parser\n",
      "  copying pandas\\tests\\io\\parser\\test_python_parser_only.py -> build\\lib.win-amd64-3.9\\pandas\\tests\\io\\parser\n",
      "  copying pandas\\tests\\io\\parser\\test_quoting.py -> build\\lib.win-amd64-3.9\\pandas\\tests\\io\\parser\n",
      "  copying pandas\\tests\\io\\parser\\test_read_fwf.py -> build\\lib.win-amd64-3.9\\pandas\\tests\\io\\parser\n",
      "  copying pandas\\tests\\io\\parser\\test_skiprows.py -> build\\lib.win-amd64-3.9\\pandas\\tests\\io\\parser\n",
      "  copying pandas\\tests\\io\\parser\\test_textreader.py -> build\\lib.win-amd64-3.9\\pandas\\tests\\io\\parser\n",
      "  copying pandas\\tests\\io\\parser\\test_unsupported.py -> build\\lib.win-amd64-3.9\\pandas\\tests\\io\\parser\n",
      "  copying pandas\\tests\\io\\parser\\test_usecols.py -> build\\lib.win-amd64-3.9\\pandas\\tests\\io\\parser\n",
      "  copying pandas\\tests\\io\\parser\\__init__.py -> build\\lib.win-amd64-3.9\\pandas\\tests\\io\\parser\n",
      "  creating build\\lib.win-amd64-3.9\\pandas\\tests\\io\\sas\n",
      "  copying pandas\\tests\\io\\sas\\test_sas.py -> build\\lib.win-amd64-3.9\\pandas\\tests\\io\\sas\n",
      "  copying pandas\\tests\\io\\sas\\test_sas7bdat.py -> build\\lib.win-amd64-3.9\\pandas\\tests\\io\\sas\n",
      "  copying pandas\\tests\\io\\sas\\test_xport.py -> build\\lib.win-amd64-3.9\\pandas\\tests\\io\\sas\n",
      "  copying pandas\\tests\\io\\sas\\__init__.py -> build\\lib.win-amd64-3.9\\pandas\\tests\\io\\sas\n",
      "  creating build\\lib.win-amd64-3.9\\pandas\\tests\\reshape\\merge\n",
      "  copying pandas\\tests\\reshape\\merge\\test_join.py -> build\\lib.win-amd64-3.9\\pandas\\tests\\reshape\\merge\n",
      "  copying pandas\\tests\\reshape\\merge\\test_merge.py -> build\\lib.win-amd64-3.9\\pandas\\tests\\reshape\\merge\n",
      "  copying pandas\\tests\\reshape\\merge\\test_merge_asof.py -> build\\lib.win-amd64-3.9\\pandas\\tests\\reshape\\merge\n",
      "  copying pandas\\tests\\reshape\\merge\\test_merge_index_as_string.py -> build\\lib.win-amd64-3.9\\pandas\\tests\\reshape\\merge\n",
      "  copying pandas\\tests\\reshape\\merge\\test_merge_ordered.py -> build\\lib.win-amd64-3.9\\pandas\\tests\\reshape\\merge\n",
      "  copying pandas\\tests\\reshape\\merge\\test_multi.py -> build\\lib.win-amd64-3.9\\pandas\\tests\\reshape\\merge\n",
      "  copying pandas\\tests\\reshape\\merge\\__init__.py -> build\\lib.win-amd64-3.9\\pandas\\tests\\reshape\\merge\n",
      "  creating build\\lib.win-amd64-3.9\\pandas\\tests\\scalar\\interval\n",
      "  copying pandas\\tests\\scalar\\interval\\test_interval.py -> build\\lib.win-amd64-3.9\\pandas\\tests\\scalar\\interval\n",
      "  copying pandas\\tests\\scalar\\interval\\test_ops.py -> build\\lib.win-amd64-3.9\\pandas\\tests\\scalar\\interval\n",
      "  copying pandas\\tests\\scalar\\interval\\__init__.py -> build\\lib.win-amd64-3.9\\pandas\\tests\\scalar\\interval\n",
      "  creating build\\lib.win-amd64-3.9\\pandas\\tests\\scalar\\period\n",
      "  copying pandas\\tests\\scalar\\period\\test_asfreq.py -> build\\lib.win-amd64-3.9\\pandas\\tests\\scalar\\period\n",
      "  copying pandas\\tests\\scalar\\period\\test_period.py -> build\\lib.win-amd64-3.9\\pandas\\tests\\scalar\\period\n",
      "  copying pandas\\tests\\scalar\\period\\__init__.py -> build\\lib.win-amd64-3.9\\pandas\\tests\\scalar\\period\n",
      "  creating build\\lib.win-amd64-3.9\\pandas\\tests\\scalar\\timedelta\n",
      "  copying pandas\\tests\\scalar\\timedelta\\test_arithmetic.py -> build\\lib.win-amd64-3.9\\pandas\\tests\\scalar\\timedelta\n",
      "  copying pandas\\tests\\scalar\\timedelta\\test_construction.py -> build\\lib.win-amd64-3.9\\pandas\\tests\\scalar\\timedelta\n",
      "  copying pandas\\tests\\scalar\\timedelta\\test_formats.py -> build\\lib.win-amd64-3.9\\pandas\\tests\\scalar\\timedelta\n",
      "  copying pandas\\tests\\scalar\\timedelta\\test_timedelta.py -> build\\lib.win-amd64-3.9\\pandas\\tests\\scalar\\timedelta\n",
      "  copying pandas\\tests\\scalar\\timedelta\\__init__.py -> build\\lib.win-amd64-3.9\\pandas\\tests\\scalar\\timedelta\n",
      "  creating build\\lib.win-amd64-3.9\\pandas\\tests\\scalar\\timestamp\n",
      "  copying pandas\\tests\\scalar\\timestamp\\test_arithmetic.py -> build\\lib.win-amd64-3.9\\pandas\\tests\\scalar\\timestamp\n",
      "  copying pandas\\tests\\scalar\\timestamp\\test_comparisons.py -> build\\lib.win-amd64-3.9\\pandas\\tests\\scalar\\timestamp\n",
      "  copying pandas\\tests\\scalar\\timestamp\\test_rendering.py -> build\\lib.win-amd64-3.9\\pandas\\tests\\scalar\\timestamp\n",
      "  copying pandas\\tests\\scalar\\timestamp\\test_timestamp.py -> build\\lib.win-amd64-3.9\\pandas\\tests\\scalar\\timestamp\n",
      "  copying pandas\\tests\\scalar\\timestamp\\test_timezones.py -> build\\lib.win-amd64-3.9\\pandas\\tests\\scalar\\timestamp\n",
      "  copying pandas\\tests\\scalar\\timestamp\\test_unary_ops.py -> build\\lib.win-amd64-3.9\\pandas\\tests\\scalar\\timestamp\n",
      "  copying pandas\\tests\\scalar\\timestamp\\__init__.py -> build\\lib.win-amd64-3.9\\pandas\\tests\\scalar\\timestamp\n",
      "  creating build\\lib.win-amd64-3.9\\pandas\\tests\\series\\indexing\n",
      "  copying pandas\\tests\\series\\indexing\\conftest.py -> build\\lib.win-amd64-3.9\\pandas\\tests\\series\\indexing\n",
      "  copying pandas\\tests\\series\\indexing\\test_alter_index.py -> build\\lib.win-amd64-3.9\\pandas\\tests\\series\\indexing\n",
      "  copying pandas\\tests\\series\\indexing\\test_boolean.py -> build\\lib.win-amd64-3.9\\pandas\\tests\\series\\indexing\n",
      "  copying pandas\\tests\\series\\indexing\\test_callable.py -> build\\lib.win-amd64-3.9\\pandas\\tests\\series\\indexing\n",
      "  copying pandas\\tests\\series\\indexing\\test_datetime.py -> build\\lib.win-amd64-3.9\\pandas\\tests\\series\\indexing\n",
      "  copying pandas\\tests\\series\\indexing\\test_iloc.py -> build\\lib.win-amd64-3.9\\pandas\\tests\\series\\indexing\n",
      "  copying pandas\\tests\\series\\indexing\\test_indexing.py -> build\\lib.win-amd64-3.9\\pandas\\tests\\series\\indexing\n",
      "  copying pandas\\tests\\series\\indexing\\test_loc.py -> build\\lib.win-amd64-3.9\\pandas\\tests\\series\\indexing\n",
      "  copying pandas\\tests\\series\\indexing\\test_numeric.py -> build\\lib.win-amd64-3.9\\pandas\\tests\\series\\indexing\n",
      "  copying pandas\\tests\\series\\indexing\\__init__.py -> build\\lib.win-amd64-3.9\\pandas\\tests\\series\\indexing\n",
      "  creating build\\lib.win-amd64-3.9\\pandas\\tests\\sparse\\frame\n",
      "  copying pandas\\tests\\sparse\\frame\\conftest.py -> build\\lib.win-amd64-3.9\\pandas\\tests\\sparse\\frame\n",
      "  copying pandas\\tests\\sparse\\frame\\test_analytics.py -> build\\lib.win-amd64-3.9\\pandas\\tests\\sparse\\frame\n",
      "  copying pandas\\tests\\sparse\\frame\\test_apply.py -> build\\lib.win-amd64-3.9\\pandas\\tests\\sparse\\frame\n",
      "  copying pandas\\tests\\sparse\\frame\\test_frame.py -> build\\lib.win-amd64-3.9\\pandas\\tests\\sparse\\frame\n",
      "  copying pandas\\tests\\sparse\\frame\\test_indexing.py -> build\\lib.win-amd64-3.9\\pandas\\tests\\sparse\\frame\n",
      "  copying pandas\\tests\\sparse\\frame\\test_to_csv.py -> build\\lib.win-amd64-3.9\\pandas\\tests\\sparse\\frame\n",
      "  copying pandas\\tests\\sparse\\frame\\test_to_from_scipy.py -> build\\lib.win-amd64-3.9\\pandas\\tests\\sparse\\frame\n",
      "  copying pandas\\tests\\sparse\\frame\\__init__.py -> build\\lib.win-amd64-3.9\\pandas\\tests\\sparse\\frame\n",
      "  creating build\\lib.win-amd64-3.9\\pandas\\tests\\sparse\\series\n",
      "  copying pandas\\tests\\sparse\\series\\test_indexing.py -> build\\lib.win-amd64-3.9\\pandas\\tests\\sparse\\series\n",
      "  copying pandas\\tests\\sparse\\series\\test_series.py -> build\\lib.win-amd64-3.9\\pandas\\tests\\sparse\\series\n",
      "  copying pandas\\tests\\sparse\\series\\__init__.py -> build\\lib.win-amd64-3.9\\pandas\\tests\\sparse\\series\n",
      "  creating build\\lib.win-amd64-3.9\\pandas\\tests\\tseries\\offsets\n",
      "  copying pandas\\tests\\tseries\\offsets\\common.py -> build\\lib.win-amd64-3.9\\pandas\\tests\\tseries\\offsets\n",
      "  copying pandas\\tests\\tseries\\offsets\\conftest.py -> build\\lib.win-amd64-3.9\\pandas\\tests\\tseries\\offsets\n",
      "  copying pandas\\tests\\tseries\\offsets\\test_fiscal.py -> build\\lib.win-amd64-3.9\\pandas\\tests\\tseries\\offsets\n",
      "  copying pandas\\tests\\tseries\\offsets\\test_offsets.py -> build\\lib.win-amd64-3.9\\pandas\\tests\\tseries\\offsets\n",
      "  copying pandas\\tests\\tseries\\offsets\\test_offsets_properties.py -> build\\lib.win-amd64-3.9\\pandas\\tests\\tseries\\offsets\n",
      "  copying pandas\\tests\\tseries\\offsets\\test_ticks.py -> build\\lib.win-amd64-3.9\\pandas\\tests\\tseries\\offsets\n",
      "  copying pandas\\tests\\tseries\\offsets\\test_yqm_offsets.py -> build\\lib.win-amd64-3.9\\pandas\\tests\\tseries\\offsets\n",
      "  copying pandas\\tests\\tseries\\offsets\\__init__.py -> build\\lib.win-amd64-3.9\\pandas\\tests\\tseries\\offsets\n",
      "  creating build\\lib.win-amd64-3.9\\pandas\\_libs\\tslibs\n",
      "  copying pandas\\_libs\\tslibs\\__init__.py -> build\\lib.win-amd64-3.9\\pandas\\_libs\\tslibs\n",
      "  creating build\\lib.win-amd64-3.9\\pandas\\io\\formats\\templates\n",
      "  copying pandas\\io\\formats\\templates\\html.tpl -> build\\lib.win-amd64-3.9\\pandas\\io\\formats\\templates\n",
      "  UPDATING build\\lib.win-amd64-3.9\\pandas/_version.py\n",
      "  set build\\lib.win-amd64-3.9\\pandas/_version.py to '0.24.2'\n",
      "  running build_ext\n",
      "  building 'pandas._libs.algos' extension\n",
      "  error: Microsoft Visual C++ 14.0 or greater is required. Get it with \"Microsoft C++ Build Tools\": https://visualstudio.microsoft.com/visual-cpp-build-tools/\n",
      "  ----------------------------------------\n",
      "  ERROR: Failed building wheel for pandas\n",
      "WARNING: Ignoring invalid distribution -ymongo (c:\\users\\merve\\appdata\\roaming\\python\\python39\\site-packages)\n",
      "  WARNING: The scripts iptest.exe, iptest3.exe, ipython.exe and ipython3.exe are installed in 'C:\\Users\\merve\\AppData\\Roaming\\Python\\Python39\\Scripts' which is not on PATH.\n",
      "  Consider adding this directory to PATH or, if you prefer to suppress this warning, use --no-warn-script-location.\n",
      "  WARNING: The script chardetect.exe is installed in 'C:\\Users\\merve\\AppData\\Roaming\\Python\\Python39\\Scripts' which is not on PATH.\n",
      "  Consider adding this directory to PATH or, if you prefer to suppress this warning, use --no-warn-script-location.\n",
      "    ERROR: Command errored out with exit status 1:\n",
      "     command: 'C:\\ProgramData\\Anaconda3\\python.exe' -u -c 'import io, os, sys, setuptools, tokenize; sys.argv[0] = '\"'\"'C:\\\\Users\\\\merve\\\\AppData\\\\Local\\\\Temp\\\\pip-install-2gfjzisu\\\\pandas_ccb4b316be4e49f7b86fdf9d14b48849\\\\setup.py'\"'\"'; __file__='\"'\"'C:\\\\Users\\\\merve\\\\AppData\\\\Local\\\\Temp\\\\pip-install-2gfjzisu\\\\pandas_ccb4b316be4e49f7b86fdf9d14b48849\\\\setup.py'\"'\"';f = getattr(tokenize, '\"'\"'open'\"'\"', open)(__file__) if os.path.exists(__file__) else io.StringIO('\"'\"'from setuptools import setup; setup()'\"'\"');code = f.read().replace('\"'\"'\\r\\n'\"'\"', '\"'\"'\\n'\"'\"');f.close();exec(compile(code, __file__, '\"'\"'exec'\"'\"'))' install --record 'C:\\Users\\merve\\AppData\\Local\\Temp\\pip-record-uxfd0dwa\\install-record.txt' --single-version-externally-managed --user --prefix= --compile --install-headers 'C:\\Users\\merve\\AppData\\Roaming\\Python\\Python39\\Include\\pandas'\n",
      "         cwd: C:\\Users\\merve\\AppData\\Local\\Temp\\pip-install-2gfjzisu\\pandas_ccb4b316be4e49f7b86fdf9d14b48849\\\n",
      "    Complete output (1003 lines):\n",
      "    C:\\Users\\merve\\AppData\\Local\\Temp\\pip-install-2gfjzisu\\pandas_ccb4b316be4e49f7b86fdf9d14b48849\\setup.py:50: DeprecationWarning: distutils Version classes are deprecated. Use packaging.version instead.\n",
      "      _CYTHON_INSTALLED = ver >= LooseVersion(min_cython_ver)\n",
      "    Compiling pandas\\_libs/algos.pyx because it changed.\n",
      "    Compiling pandas\\_libs/groupby.pyx because it changed.\n",
      "    Compiling pandas\\_libs/hashing.pyx because it changed.\n",
      "    Compiling pandas\\_libs/hashtable.pyx because it changed.\n",
      "    Compiling pandas\\_libs/index.pyx because it changed.\n",
      "    Compiling pandas\\_libs/indexing.pyx because it changed.\n",
      "    Compiling pandas\\_libs/internals.pyx because it changed.\n",
      "    Compiling pandas\\_libs/interval.pyx because it changed.\n",
      "    Compiling pandas\\_libs/join.pyx because it changed.\n",
      "    Compiling pandas\\_libs/lib.pyx because it changed.\n",
      "    Compiling pandas\\_libs/missing.pyx because it changed.\n",
      "    Compiling pandas\\_libs/parsers.pyx because it changed.\n",
      "    Compiling pandas\\_libs/reduction.pyx because it changed.\n",
      "    Compiling pandas\\_libs/ops.pyx because it changed.\n",
      "    Compiling pandas\\_libs/properties.pyx because it changed.\n",
      "    Compiling pandas\\_libs/reshape.pyx because it changed.\n",
      "    Compiling pandas\\_libs/skiplist.pyx because it changed.\n",
      "    Compiling pandas\\_libs/sparse.pyx because it changed.\n",
      "    Compiling pandas\\_libs/tslib.pyx because it changed.\n",
      "    Compiling pandas\\_libs/tslibs/ccalendar.pyx because it changed.\n",
      "    Compiling pandas\\_libs/tslibs/conversion.pyx because it changed.\n",
      "    Compiling pandas\\_libs/tslibs/fields.pyx because it changed.\n",
      "    Compiling pandas\\_libs/tslibs/frequencies.pyx because it changed.\n",
      "    Compiling pandas\\_libs/tslibs/nattype.pyx because it changed.\n",
      "    Compiling pandas\\_libs/tslibs/np_datetime.pyx because it changed.\n",
      "    Compiling pandas\\_libs/tslibs/offsets.pyx because it changed.\n",
      "    Compiling pandas\\_libs/tslibs/parsing.pyx because it changed.\n",
      "    Compiling pandas\\_libs/tslibs/period.pyx because it changed.\n",
      "    Compiling pandas\\_libs/tslibs/resolution.pyx because it changed.\n",
      "    Compiling pandas\\_libs/tslibs/strptime.pyx because it changed.\n",
      "    Compiling pandas\\_libs/tslibs/timedeltas.pyx because it changed.\n",
      "    Compiling pandas\\_libs/tslibs/timestamps.pyx because it changed.\n",
      "    Compiling pandas\\_libs/tslibs/timezones.pyx because it changed.\n",
      "    Compiling pandas\\_libs/testing.pyx because it changed.\n",
      "    Compiling pandas\\_libs/writers.pyx because it changed.\n",
      "    Compiling pandas\\io/sas/sas.pyx because it changed.\n",
      "    [ 1/36] Cythonizing pandas\\_libs/algos.pyx\n",
      "    [ 2/36] Cythonizing pandas\\_libs/groupby.pyx\n",
      "    [ 3/36] Cythonizing pandas\\_libs/hashing.pyx\n",
      "    [ 4/36] Cythonizing pandas\\_libs/hashtable.pyx\n",
      "    [ 5/36] Cythonizing pandas\\_libs/index.pyx\n",
      "    [ 6/36] Cythonizing pandas\\_libs/indexing.pyx\n",
      "    [ 7/36] Cythonizing pandas\\_libs/internals.pyx\n",
      "    [ 8/36] Cythonizing pandas\\_libs/interval.pyx\n",
      "    [ 9/36] Cythonizing pandas\\_libs/join.pyx\n",
      "    [10/36] Cythonizing pandas\\_libs/lib.pyx\n",
      "    [11/36] Cythonizing pandas\\_libs/missing.pyx\n",
      "    [12/36] Cythonizing pandas\\_libs/ops.pyx\n",
      "    [13/36] Cythonizing pandas\\_libs/parsers.pyx\n",
      "    warning: pandas\\_libs\\parsers.pyx:1764:34: Casting a GIL-requiring function into a nogil function circumvents GIL validation\n",
      "    [14/36] Cythonizing pandas\\_libs/properties.pyx\n",
      "    [15/36] Cythonizing pandas\\_libs/reduction.pyx\n",
      "    [16/36] Cythonizing pandas\\_libs/reshape.pyx\n",
      "    [17/36] Cythonizing pandas\\_libs/skiplist.pyx\n",
      "    [18/36] Cythonizing pandas\\_libs/sparse.pyx\n",
      "    [19/36] Cythonizing pandas\\_libs/testing.pyx\n",
      "    [20/36] Cythonizing pandas\\_libs/tslib.pyx\n",
      "    warning: pandas\\_libs\\tslib.pyx:720:49: Buffer unpacking not optimized away.\n",
      "    warning: pandas\\_libs\\tslib.pyx:720:49: Buffer unpacking not optimized away.\n",
      "    [21/36] Cythonizing pandas\\_libs/tslibs/ccalendar.pyx\n",
      "    [22/36] Cythonizing pandas\\_libs/tslibs/conversion.pyx\n",
      "    [23/36] Cythonizing pandas\\_libs/tslibs/fields.pyx\n",
      "    [24/36] Cythonizing pandas\\_libs/tslibs/frequencies.pyx\n",
      "    [25/36] Cythonizing pandas\\_libs/tslibs/nattype.pyx\n",
      "    [26/36] Cythonizing pandas\\_libs/tslibs/np_datetime.pyx\n",
      "    [27/36] Cythonizing pandas\\_libs/tslibs/offsets.pyx\n",
      "    [28/36] Cythonizing pandas\\_libs/tslibs/parsing.pyx\n",
      "    [29/36] Cythonizing pandas\\_libs/tslibs/period.pyx\n",
      "    warning: pandas\\_libs\\tslibs\\period.pyx:158:19: Casting a GIL-requiring function into a nogil function circumvents GIL validation\n",
      "    warning: pandas\\_libs\\tslibs\\period.pyx:160:19: Casting a GIL-requiring function into a nogil function circumvents GIL validation\n",
      "    warning: pandas\\_libs\\tslibs\\period.pyx:162:19: Casting a GIL-requiring function into a nogil function circumvents GIL validation\n",
      "    warning: pandas\\_libs\\tslibs\\period.pyx:164:19: Casting a GIL-requiring function into a nogil function circumvents GIL validation\n",
      "    warning: pandas\\_libs\\tslibs\\period.pyx:166:19: Casting a GIL-requiring function into a nogil function circumvents GIL validation\n",
      "    warning: pandas\\_libs\\tslibs\\period.pyx:168:19: Casting a GIL-requiring function into a nogil function circumvents GIL validation\n",
      "    warning: pandas\\_libs\\tslibs\\period.pyx:170:19: Casting a GIL-requiring function into a nogil function circumvents GIL validation\n",
      "    warning: pandas\\_libs\\tslibs\\period.pyx:174:19: Casting a GIL-requiring function into a nogil function circumvents GIL validation\n",
      "    warning: pandas\\_libs\\tslibs\\period.pyx:176:19: Casting a GIL-requiring function into a nogil function circumvents GIL validation\n",
      "    warning: pandas\\_libs\\tslibs\\period.pyx:178:19: Casting a GIL-requiring function into a nogil function circumvents GIL validation\n",
      "    warning: pandas\\_libs\\tslibs\\period.pyx:180:19: Casting a GIL-requiring function into a nogil function circumvents GIL validation\n",
      "    warning: pandas\\_libs\\tslibs\\period.pyx:183:19: Casting a GIL-requiring function into a nogil function circumvents GIL validation\n",
      "    warning: pandas\\_libs\\tslibs\\period.pyx:185:19: Casting a GIL-requiring function into a nogil function circumvents GIL validation\n",
      "    warning: pandas\\_libs\\tslibs\\period.pyx:189:19: Casting a GIL-requiring function into a nogil function circumvents GIL validation\n",
      "    warning: pandas\\_libs\\tslibs\\period.pyx:191:19: Casting a GIL-requiring function into a nogil function circumvents GIL validation\n",
      "    warning: pandas\\_libs\\tslibs\\period.pyx:193:19: Casting a GIL-requiring function into a nogil function circumvents GIL validation\n",
      "    warning: pandas\\_libs\\tslibs\\period.pyx:195:19: Casting a GIL-requiring function into a nogil function circumvents GIL validation\n",
      "    warning: pandas\\_libs\\tslibs\\period.pyx:197:19: Casting a GIL-requiring function into a nogil function circumvents GIL validation\n",
      "    warning: pandas\\_libs\\tslibs\\period.pyx:199:19: Casting a GIL-requiring function into a nogil function circumvents GIL validation\n",
      "    warning: pandas\\_libs\\tslibs\\period.pyx:203:19: Casting a GIL-requiring function into a nogil function circumvents GIL validation\n",
      "    warning: pandas\\_libs\\tslibs\\period.pyx:205:19: Casting a GIL-requiring function into a nogil function circumvents GIL validation\n",
      "    warning: pandas\\_libs\\tslibs\\period.pyx:207:19: Casting a GIL-requiring function into a nogil function circumvents GIL validation\n",
      "    warning: pandas\\_libs\\tslibs\\period.pyx:209:19: Casting a GIL-requiring function into a nogil function circumvents GIL validation\n",
      "    warning: pandas\\_libs\\tslibs\\period.pyx:211:19: Casting a GIL-requiring function into a nogil function circumvents GIL validation\n",
      "    warning: pandas\\_libs\\tslibs\\period.pyx:213:19: Casting a GIL-requiring function into a nogil function circumvents GIL validation\n",
      "    warning: pandas\\_libs\\tslibs\\period.pyx:217:19: Casting a GIL-requiring function into a nogil function circumvents GIL validation"
     ]
    },
    {
     "name": "stdout",
     "output_type": "stream",
     "text": [
      "Defaulting to user installation because normal site-packages is not writeable\n",
      "Collecting google.colab\n",
      "  Using cached google-colab-1.0.0.tar.gz (72 kB)\n",
      "Collecting google-auth~=1.4.0\n",
      "  Using cached google_auth-1.4.2-py2.py3-none-any.whl (64 kB)\n",
      "Collecting ipykernel~=4.6.0\n",
      "  Using cached ipykernel-4.6.1-py3-none-any.whl (104 kB)\n",
      "Collecting ipython~=5.5.0\n",
      "  Using cached ipython-5.5.0-py3-none-any.whl (758 kB)\n",
      "Collecting notebook~=5.2.0\n",
      "  Using cached notebook-5.2.2-py2.py3-none-any.whl (8.0 MB)\n",
      "Collecting six~=1.12.0\n",
      "  Using cached six-1.12.0-py2.py3-none-any.whl (10 kB)\n",
      "Collecting pandas~=0.24.0\n",
      "  Using cached pandas-0.24.2.tar.gz (11.8 MB)\n",
      "Collecting portpicker~=1.2.0\n",
      "  Using cached portpicker-1.2.0-py3-none-any.whl\n",
      "Collecting requests~=2.21.0\n",
      "  Using cached requests-2.21.0-py2.py3-none-any.whl (57 kB)\n",
      "Collecting tornado~=4.5.0\n",
      "  Using cached tornado-4.5.3.tar.gz (484 kB)\n",
      "Requirement already satisfied: rsa>=3.1.4 in c:\\programdata\\anaconda3\\lib\\site-packages (from google-auth~=1.4.0->google.colab) (4.7.2)\n",
      "Requirement already satisfied: cachetools>=2.0.0 in c:\\programdata\\anaconda3\\lib\\site-packages (from google-auth~=1.4.0->google.colab) (4.2.2)\n",
      "Requirement already satisfied: pyasn1-modules>=0.2.1 in c:\\programdata\\anaconda3\\lib\\site-packages (from google-auth~=1.4.0->google.colab) (0.2.8)\n",
      "Requirement already satisfied: traitlets>=4.1.0 in c:\\programdata\\anaconda3\\lib\\site-packages (from ipykernel~=4.6.0->google.colab) (5.1.1)\n",
      "Requirement already satisfied: jupyter-client in c:\\programdata\\anaconda3\\lib\\site-packages (from ipykernel~=4.6.0->google.colab) (6.1.12)\n",
      "Requirement already satisfied: pickleshare in c:\\programdata\\anaconda3\\lib\\site-packages (from ipython~=5.5.0->google.colab) (0.7.5)\n",
      "Collecting simplegeneric>0.8\n",
      "  Using cached simplegeneric-0.8.1-py3-none-any.whl\n",
      "Requirement already satisfied: colorama in c:\\programdata\\anaconda3\\lib\\site-packages (from ipython~=5.5.0->google.colab) (0.4.4)\n",
      "Requirement already satisfied: pygments in c:\\programdata\\anaconda3\\lib\\site-packages (from ipython~=5.5.0->google.colab) (2.11.2)\n",
      "Requirement already satisfied: setuptools>=18.5 in c:\\programdata\\anaconda3\\lib\\site-packages (from ipython~=5.5.0->google.colab) (61.2.0)\n",
      "Collecting prompt-toolkit<2.0.0,>=1.0.4\n",
      "  Using cached prompt_toolkit-1.0.18-py3-none-any.whl (245 kB)\n",
      "Requirement already satisfied: decorator in c:\\programdata\\anaconda3\\lib\\site-packages (from ipython~=5.5.0->google.colab) (5.1.1)\n",
      "Requirement already satisfied: ipython-genutils in c:\\programdata\\anaconda3\\lib\\site-packages (from notebook~=5.2.0->google.colab) (0.2.0)\n",
      "Requirement already satisfied: nbformat in c:\\programdata\\anaconda3\\lib\\site-packages (from notebook~=5.2.0->google.colab) (5.3.0)\n",
      "Requirement already satisfied: jinja2 in c:\\programdata\\anaconda3\\lib\\site-packages (from notebook~=5.2.0->google.colab) (2.11.3)\n",
      "Requirement already satisfied: jupyter-core in c:\\programdata\\anaconda3\\lib\\site-packages (from notebook~=5.2.0->google.colab) (4.9.2)\n",
      "Requirement already satisfied: nbconvert in c:\\programdata\\anaconda3\\lib\\site-packages (from notebook~=5.2.0->google.colab) (6.4.4)\n",
      "Requirement already satisfied: python-dateutil>=2.5.0 in c:\\programdata\\anaconda3\\lib\\site-packages (from pandas~=0.24.0->google.colab) (2.8.2)\n",
      "Requirement already satisfied: pytz>=2011k in c:\\users\\merve\\appdata\\roaming\\python\\python39\\site-packages (from pandas~=0.24.0->google.colab) (2022.7)\n",
      "Requirement already satisfied: numpy>=1.12.0 in c:\\users\\merve\\appdata\\roaming\\python\\python39\\site-packages (from pandas~=0.24.0->google.colab) (1.22.4)\n",
      "Requirement already satisfied: wcwidth in c:\\programdata\\anaconda3\\lib\\site-packages (from prompt-toolkit<2.0.0,>=1.0.4->ipython~=5.5.0->google.colab) (0.2.5)\n",
      "Requirement already satisfied: pyasn1<0.5.0,>=0.4.6 in c:\\programdata\\anaconda3\\lib\\site-packages (from pyasn1-modules>=0.2.1->google-auth~=1.4.0->google.colab) (0.4.8)\n",
      "Collecting idna<2.9,>=2.5\n",
      "  Using cached idna-2.8-py2.py3-none-any.whl (58 kB)\n",
      "Collecting urllib3<1.25,>=1.21.1\n",
      "  Using cached urllib3-1.24.3-py2.py3-none-any.whl (118 kB)\n",
      "Collecting chardet<3.1.0,>=3.0.2\n",
      "  Using cached chardet-3.0.4-py2.py3-none-any.whl (133 kB)\n",
      "Requirement already satisfied: certifi>=2017.4.17 in c:\\programdata\\anaconda3\\lib\\site-packages (from requests~=2.21.0->google.colab) (2021.10.8)\n",
      "Requirement already satisfied: MarkupSafe>=0.23 in c:\\programdata\\anaconda3\\lib\\site-packages (from jinja2->notebook~=5.2.0->google.colab) (2.0.1)\n",
      "Requirement already satisfied: pyzmq>=13 in c:\\programdata\\anaconda3\\lib\\site-packages (from jupyter-client->ipykernel~=4.6.0->google.colab) (22.3.0)\n",
      "Requirement already satisfied: pywin32>=1.0 in c:\\programdata\\anaconda3\\lib\\site-packages (from jupyter-core->notebook~=5.2.0->google.colab) (302)\n",
      "Requirement already satisfied: jupyterlab-pygments in c:\\programdata\\anaconda3\\lib\\site-packages (from nbconvert->notebook~=5.2.0->google.colab) (0.1.2)\n",
      "Requirement already satisfied: pandocfilters>=1.4.1 in c:\\programdata\\anaconda3\\lib\\site-packages (from nbconvert->notebook~=5.2.0->google.colab) (1.5.0)\n",
      "Requirement already satisfied: testpath in c:\\programdata\\anaconda3\\lib\\site-packages (from nbconvert->notebook~=5.2.0->google.colab) (0.5.0)\n",
      "Requirement already satisfied: entrypoints>=0.2.2 in c:\\programdata\\anaconda3\\lib\\site-packages (from nbconvert->notebook~=5.2.0->google.colab) (0.4)\n",
      "Requirement already satisfied: beautifulsoup4 in c:\\programdata\\anaconda3\\lib\\site-packages (from nbconvert->notebook~=5.2.0->google.colab) (4.11.1)\n",
      "Requirement already satisfied: defusedxml in c:\\programdata\\anaconda3\\lib\\site-packages (from nbconvert->notebook~=5.2.0->google.colab) (0.7.1)\n",
      "Requirement already satisfied: mistune<2,>=0.8.1 in c:\\programdata\\anaconda3\\lib\\site-packages (from nbconvert->notebook~=5.2.0->google.colab) (0.8.4)\n",
      "Requirement already satisfied: bleach in c:\\programdata\\anaconda3\\lib\\site-packages (from nbconvert->notebook~=5.2.0->google.colab) (4.1.0)\n",
      "Requirement already satisfied: nbclient<0.6.0,>=0.5.0 in c:\\programdata\\anaconda3\\lib\\site-packages (from nbconvert->notebook~=5.2.0->google.colab) (0.5.13)\n",
      "Requirement already satisfied: nest-asyncio in c:\\programdata\\anaconda3\\lib\\site-packages (from nbclient<0.6.0,>=0.5.0->nbconvert->notebook~=5.2.0->google.colab) (1.5.5)\n",
      "Requirement already satisfied: jsonschema>=2.6 in c:\\programdata\\anaconda3\\lib\\site-packages (from nbformat->notebook~=5.2.0->google.colab) (4.4.0)\n",
      "Requirement already satisfied: fastjsonschema in c:\\programdata\\anaconda3\\lib\\site-packages (from nbformat->notebook~=5.2.0->google.colab) (2.15.1)\n",
      "Requirement already satisfied: pyrsistent!=0.17.0,!=0.17.1,!=0.17.2,>=0.14.0 in c:\\programdata\\anaconda3\\lib\\site-packages (from jsonschema>=2.6->nbformat->notebook~=5.2.0->google.colab) (0.18.0)\n",
      "Requirement already satisfied: attrs>=17.4.0 in c:\\programdata\\anaconda3\\lib\\site-packages (from jsonschema>=2.6->nbformat->notebook~=5.2.0->google.colab) (21.4.0)\n",
      "Requirement already satisfied: soupsieve>1.2 in c:\\programdata\\anaconda3\\lib\\site-packages (from beautifulsoup4->nbconvert->notebook~=5.2.0->google.colab) (2.3.1)\n",
      "Requirement already satisfied: packaging in c:\\programdata\\anaconda3\\lib\\site-packages (from bleach->nbconvert->notebook~=5.2.0->google.colab) (21.3)\n",
      "Requirement already satisfied: webencodings in c:\\programdata\\anaconda3\\lib\\site-packages (from bleach->nbconvert->notebook~=5.2.0->google.colab) (0.5.1)\n",
      "Requirement already satisfied: pyparsing!=3.0.5,>=2.0.2 in c:\\programdata\\anaconda3\\lib\\site-packages (from packaging->bleach->nbconvert->notebook~=5.2.0->google.colab) (3.0.4)\n",
      "Building wheels for collected packages: google.colab, pandas, tornado\n",
      "  Building wheel for google.colab (setup.py): started\n",
      "  Building wheel for google.colab (setup.py): finished with status 'done'\n",
      "  Created wheel for google.colab: filename=google_colab-1.0.0-py2.py3-none-any.whl size=102294 sha256=6cf4520f62cb2bfd8b7ff22846ee7364adf806187e2837414f094e69ca65265b\n",
      "  Stored in directory: c:\\users\\merve\\appdata\\local\\pip\\cache\\wheels\\a8\\c1\\f9\\565bc1832dda03cc21db8c8751487357f616112b6113bbf9bb\n",
      "  Building wheel for pandas (setup.py): started\n",
      "  Building wheel for pandas (setup.py): finished with status 'error'\n",
      "  Running setup.py clean for pandas\n",
      "  Building wheel for tornado (setup.py): started\n",
      "  Building wheel for tornado (setup.py): finished with status 'done'\n",
      "  Created wheel for tornado: filename=tornado-4.5.3-cp39-cp39-win_amd64.whl size=420783 sha256=890c160864894ca1d71dd12de9641a6c3d3e68f5e827be70657fee834aa5a8b7\n",
      "  Stored in directory: c:\\users\\merve\\appdata\\local\\pip\\cache\\wheels\\83\\38\\94\\6e1e08dd9ed83e2fc92914d24bf950c39e622dfbb12bf753d8\n",
      "Successfully built google.colab tornado\n",
      "Failed to build pandas\n",
      "Installing collected packages: six, tornado, simplegeneric, prompt-toolkit, ipython, urllib3, ipykernel, idna, chardet, requests, portpicker, pandas, notebook, google-auth, google.colab\n",
      "    Running setup.py install for pandas: started\n",
      "    Running setup.py install for pandas: still running...\n",
      "    Running setup.py install for pandas: still running...\n",
      "    Running setup.py install for pandas: finished with status 'error'\n"
     ]
    },
    {
     "name": "stderr",
     "output_type": "stream",
     "text": [
      "\n",
      "    warning: pandas\\_libs\\tslibs\\period.pyx:219:19: Casting a GIL-requiring function into a nogil function circumvents GIL validation\n",
      "    warning: pandas\\_libs\\tslibs\\period.pyx:221:19: Casting a GIL-requiring function into a nogil function circumvents GIL validation\n",
      "    warning: pandas\\_libs\\tslibs\\period.pyx:223:19: Casting a GIL-requiring function into a nogil function circumvents GIL validation\n",
      "    warning: pandas\\_libs\\tslibs\\period.pyx:225:19: Casting a GIL-requiring function into a nogil function circumvents GIL validation\n",
      "    warning: pandas\\_libs\\tslibs\\period.pyx:227:19: Casting a GIL-requiring function into a nogil function circumvents GIL validation\n",
      "    warning: pandas\\_libs\\tslibs\\period.pyx:231:19: Casting a GIL-requiring function into a nogil function circumvents GIL validation\n",
      "    warning: pandas\\_libs\\tslibs\\period.pyx:233:19: Casting a GIL-requiring function into a nogil function circumvents GIL validation\n",
      "    warning: pandas\\_libs\\tslibs\\period.pyx:235:19: Casting a GIL-requiring function into a nogil function circumvents GIL validation\n",
      "    warning: pandas\\_libs\\tslibs\\period.pyx:237:19: Casting a GIL-requiring function into a nogil function circumvents GIL validation\n",
      "    warning: pandas\\_libs\\tslibs\\period.pyx:239:19: Casting a GIL-requiring function into a nogil function circumvents GIL validation\n",
      "    warning: pandas\\_libs\\tslibs\\period.pyx:241:19: Casting a GIL-requiring function into a nogil function circumvents GIL validation\n",
      "    warning: pandas\\_libs\\tslibs\\period.pyx:245:19: Casting a GIL-requiring function into a nogil function circumvents GIL validation\n",
      "    warning: pandas\\_libs\\tslibs\\period.pyx:247:19: Casting a GIL-requiring function into a nogil function circumvents GIL validation\n",
      "    warning: pandas\\_libs\\tslibs\\period.pyx:249:19: Casting a GIL-requiring function into a nogil function circumvents GIL validation\n",
      "    warning: pandas\\_libs\\tslibs\\period.pyx:251:19: Casting a GIL-requiring function into a nogil function circumvents GIL validation\n",
      "    warning: pandas\\_libs\\tslibs\\period.pyx:254:23: Casting a GIL-requiring function into a nogil function circumvents GIL validation\n",
      "    warning: pandas\\_libs\\tslibs\\period.pyx:256:23: Casting a GIL-requiring function into a nogil function circumvents GIL validation\n",
      "    warning: pandas\\_libs\\tslibs\\period.pyx:259:19: Casting a GIL-requiring function into a nogil function circumvents GIL validation\n",
      "    warning: pandas\\_libs\\tslibs\\period.pyx:262:15: Casting a GIL-requiring function into a nogil function circumvents GIL validation\n",
      "    warning: pandas\\_libs\\tslibs\\period.pyx:521:29: Casting a GIL-requiring function into a nogil function circumvents GIL validation\n",
      "    warning: pandas\\_libs\\tslibs\\period.pyx:522:29: Casting a GIL-requiring function into a nogil function circumvents GIL validation\n",
      "    warning: pandas\\_libs\\tslibs\\period.pyx:527:29: Casting a GIL-requiring function into a nogil function circumvents GIL validation\n",
      "    warning: pandas\\_libs\\tslibs\\period.pyx:528:29: Casting a GIL-requiring function into a nogil function circumvents GIL validation\n",
      "    warning: pandas\\_libs\\tslibs\\period.pyx:533:29: Casting a GIL-requiring function into a nogil function circumvents GIL validation\n",
      "    warning: pandas\\_libs\\tslibs\\period.pyx:534:29: Casting a GIL-requiring function into a nogil function circumvents GIL validation\n",
      "    warning: pandas\\_libs\\tslibs\\period.pyx:539:29: Casting a GIL-requiring function into a nogil function circumvents GIL validation\n",
      "    warning: pandas\\_libs\\tslibs\\period.pyx:540:29: Casting a GIL-requiring function into a nogil function circumvents GIL validation\n",
      "    warning: pandas\\_libs\\tslibs\\period.pyx:548:29: Casting a GIL-requiring function into a nogil function circumvents GIL validation\n",
      "    warning: pandas\\_libs\\tslibs\\period.pyx:549:29: Casting a GIL-requiring function into a nogil function circumvents GIL validation\n",
      "    warning: pandas\\_libs\\tslibs\\period.pyx:554:29: Casting a GIL-requiring function into a nogil function circumvents GIL validation\n",
      "    warning: pandas\\_libs\\tslibs\\period.pyx:555:29: Casting a GIL-requiring function into a nogil function circumvents GIL validation\n",
      "    warning: pandas\\_libs\\tslibs\\period.pyx:560:29: Casting a GIL-requiring function into a nogil function circumvents GIL validation\n",
      "    warning: pandas\\_libs\\tslibs\\period.pyx:561:29: Casting a GIL-requiring function into a nogil function circumvents GIL validation\n",
      "    warning: pandas\\_libs\\tslibs\\period.pyx:566:29: Casting a GIL-requiring function into a nogil function circumvents GIL validation\n",
      "    warning: pandas\\_libs\\tslibs\\period.pyx:567:29: Casting a GIL-requiring function into a nogil function circumvents GIL validation\n",
      "    warning: pandas\\_libs\\tslibs\\period.pyx:575:29: Casting a GIL-requiring function into a nogil function circumvents GIL validation\n",
      "    warning: pandas\\_libs\\tslibs\\period.pyx:576:29: Casting a GIL-requiring function into a nogil function circumvents GIL validation\n",
      "    warning: pandas\\_libs\\tslibs\\period.pyx:581:29: Casting a GIL-requiring function into a nogil function circumvents GIL validation\n",
      "    warning: pandas\\_libs\\tslibs\\period.pyx:582:29: Casting a GIL-requiring function into a nogil function circumvents GIL validation\n",
      "    warning: pandas\\_libs\\tslibs\\period.pyx:587:29: Casting a GIL-requiring function into a nogil function circumvents GIL validation\n",
      "    warning: pandas\\_libs\\tslibs\\period.pyx:588:29: Casting a GIL-requiring function into a nogil function circumvents GIL validation\n",
      "    warning: pandas\\_libs\\tslibs\\period.pyx:593:29: Casting a GIL-requiring function into a nogil function circumvents GIL validation\n",
      "    warning: pandas\\_libs\\tslibs\\period.pyx:594:29: Casting a GIL-requiring function into a nogil function circumvents GIL validation\n",
      "    warning: pandas\\_libs\\tslibs\\period.pyx:602:29: Casting a GIL-requiring function into a nogil function circumvents GIL validation\n",
      "    warning: pandas\\_libs\\tslibs\\period.pyx:603:29: Casting a GIL-requiring function into a nogil function circumvents GIL validation\n",
      "    warning: pandas\\_libs\\tslibs\\period.pyx:608:29: Casting a GIL-requiring function into a nogil function circumvents GIL validation\n",
      "    warning: pandas\\_libs\\tslibs\\period.pyx:609:29: Casting a GIL-requiring function into a nogil function circumvents GIL validation\n",
      "    warning: pandas\\_libs\\tslibs\\period.pyx:614:29: Casting a GIL-requiring function into a nogil function circumvents GIL validation\n",
      "    warning: pandas\\_libs\\tslibs\\period.pyx:615:29: Casting a GIL-requiring function into a nogil function circumvents GIL validation\n",
      "    warning: pandas\\_libs\\tslibs\\period.pyx:623:29: Casting a GIL-requiring function into a nogil function circumvents GIL validation\n",
      "    warning: pandas\\_libs\\tslibs\\period.pyx:624:29: Casting a GIL-requiring function into a nogil function circumvents GIL validation\n",
      "    warning: pandas\\_libs\\tslibs\\period.pyx:629:29: Casting a GIL-requiring function into a nogil function circumvents GIL validation\n",
      "    warning: pandas\\_libs\\tslibs\\period.pyx:630:29: Casting a GIL-requiring function into a nogil function circumvents GIL validation\n",
      "    warning: pandas\\_libs\\tslibs\\period.pyx:635:29: Casting a GIL-requiring function into a nogil function circumvents GIL validation\n",
      "    warning: pandas\\_libs\\tslibs\\period.pyx:636:29: Casting a GIL-requiring function into a nogil function circumvents GIL validation\n",
      "    warning: pandas\\_libs\\tslibs\\period.pyx:641:29: Casting a GIL-requiring function into a nogil function circumvents GIL validation\n",
      "    warning: pandas\\_libs\\tslibs\\period.pyx:642:29: Casting a GIL-requiring function into a nogil function circumvents GIL validation\n",
      "    [30/36] Cythonizing pandas\\_libs/tslibs/resolution.pyx\n",
      "    [31/36] Cythonizing pandas\\_libs/tslibs/strptime.pyx\n",
      "    [32/36] Cythonizing pandas\\_libs/tslibs/timedeltas.pyx\n",
      "    [33/36] Cythonizing pandas\\_libs/tslibs/timestamps.pyx\n",
      "    [34/36] Cythonizing pandas\\_libs/tslibs/timezones.pyx\n",
      "    [35/36] Cythonizing pandas\\_libs/writers.pyx\n",
      "    [36/36] Cythonizing pandas\\io/sas/sas.pyx\n",
      "    running install\n",
      "    C:\\ProgramData\\Anaconda3\\lib\\site-packages\\setuptools\\command\\install.py:34: SetuptoolsDeprecationWarning: setup.py install is deprecated. Use build and pip and other standards-based tools.\n",
      "      warnings.warn(\n",
      "    running build\n",
      "    running build_py\n",
      "    creating build\n",
      "    creating build\\lib.win-amd64-3.9\n",
      "    creating build\\lib.win-amd64-3.9\\pandas\n",
      "    copying pandas\\conftest.py -> build\\lib.win-amd64-3.9\\pandas\n",
      "    copying pandas\\testing.py -> build\\lib.win-amd64-3.9\\pandas\n",
      "    copying pandas\\_version.py -> build\\lib.win-amd64-3.9\\pandas\n",
      "    copying pandas\\__init__.py -> build\\lib.win-amd64-3.9\\pandas\n",
      "    creating build\\lib.win-amd64-3.9\\pandas\\api\n",
      "    copying pandas\\api\\__init__.py -> build\\lib.win-amd64-3.9\\pandas\\api\n",
      "    creating build\\lib.win-amd64-3.9\\pandas\\arrays\n",
      "    copying pandas\\arrays\\__init__.py -> build\\lib.win-amd64-3.9\\pandas\\arrays\n",
      "    creating build\\lib.win-amd64-3.9\\pandas\\compat\n",
      "    copying pandas\\compat\\chainmap.py -> build\\lib.win-amd64-3.9\\pandas\\compat\n",
      "    copying pandas\\compat\\chainmap_impl.py -> build\\lib.win-amd64-3.9\\pandas\\compat\n",
      "    copying pandas\\compat\\pickle_compat.py -> build\\lib.win-amd64-3.9\\pandas\\compat\n",
      "    copying pandas\\compat\\__init__.py -> build\\lib.win-amd64-3.9\\pandas\\compat\n",
      "    creating build\\lib.win-amd64-3.9\\pandas\\core\n",
      "    copying pandas\\core\\accessor.py -> build\\lib.win-amd64-3.9\\pandas\\core\n",
      "    copying pandas\\core\\algorithms.py -> build\\lib.win-amd64-3.9\\pandas\\core\n",
      "    copying pandas\\core\\api.py -> build\\lib.win-amd64-3.9\\pandas\\core\n",
      "    copying pandas\\core\\apply.py -> build\\lib.win-amd64-3.9\\pandas\\core\n",
      "    copying pandas\\core\\base.py -> build\\lib.win-amd64-3.9\\pandas\\core\n",
      "    copying pandas\\core\\categorical.py -> build\\lib.win-amd64-3.9\\pandas\\core\n",
      "    copying pandas\\core\\common.py -> build\\lib.win-amd64-3.9\\pandas\\core\n",
      "    copying pandas\\core\\config.py -> build\\lib.win-amd64-3.9\\pandas\\core\n",
      "    copying pandas\\core\\config_init.py -> build\\lib.win-amd64-3.9\\pandas\\core\n",
      "    copying pandas\\core\\frame.py -> build\\lib.win-amd64-3.9\\pandas\\core\n",
      "    copying pandas\\core\\generic.py -> build\\lib.win-amd64-3.9\\pandas\\core\n",
      "    copying pandas\\core\\index.py -> build\\lib.win-amd64-3.9\\pandas\\core\n",
      "    copying pandas\\core\\indexing.py -> build\\lib.win-amd64-3.9\\pandas\\core\n",
      "    copying pandas\\core\\missing.py -> build\\lib.win-amd64-3.9\\pandas\\core\n",
      "    copying pandas\\core\\nanops.py -> build\\lib.win-amd64-3.9\\pandas\\core\n",
      "    copying pandas\\core\\ops.py -> build\\lib.win-amd64-3.9\\pandas\\core\n",
      "    copying pandas\\core\\panel.py -> build\\lib.win-amd64-3.9\\pandas\\core\n",
      "    copying pandas\\core\\resample.py -> build\\lib.win-amd64-3.9\\pandas\\core\n",
      "    copying pandas\\core\\series.py -> build\\lib.win-amd64-3.9\\pandas\\core\n",
      "    copying pandas\\core\\sorting.py -> build\\lib.win-amd64-3.9\\pandas\\core\n",
      "    copying pandas\\core\\strings.py -> build\\lib.win-amd64-3.9\\pandas\\core\n",
      "    copying pandas\\core\\window.py -> build\\lib.win-amd64-3.9\\pandas\\core\n",
      "    copying pandas\\core\\__init__.py -> build\\lib.win-amd64-3.9\\pandas\\core\n",
      "    creating build\\lib.win-amd64-3.9\\pandas\\errors\n",
      "    copying pandas\\errors\\__init__.py -> build\\lib.win-amd64-3.9\\pandas\\errors\n",
      "    creating build\\lib.win-amd64-3.9\\pandas\\io\n",
      "    copying pandas\\io\\api.py -> build\\lib.win-amd64-3.9\\pandas\\io\n",
      "    copying pandas\\io\\clipboards.py -> build\\lib.win-amd64-3.9\\pandas\\io\n",
      "    copying pandas\\io\\common.py -> build\\lib.win-amd64-3.9\\pandas\\io\n",
      "    copying pandas\\io\\date_converters.py -> build\\lib.win-amd64-3.9\\pandas\\io\n",
      "    copying pandas\\io\\excel.py -> build\\lib.win-amd64-3.9\\pandas\\io\n",
      "    copying pandas\\io\\feather_format.py -> build\\lib.win-amd64-3.9\\pandas\\io\n",
      "    copying pandas\\io\\gbq.py -> build\\lib.win-amd64-3.9\\pandas\\io\n",
      "    copying pandas\\io\\gcs.py -> build\\lib.win-amd64-3.9\\pandas\\io\n",
      "    copying pandas\\io\\html.py -> build\\lib.win-amd64-3.9\\pandas\\io\n",
      "    copying pandas\\io\\packers.py -> build\\lib.win-amd64-3.9\\pandas\\io\n",
      "    copying pandas\\io\\parquet.py -> build\\lib.win-amd64-3.9\\pandas\\io\n",
      "    copying pandas\\io\\parsers.py -> build\\lib.win-amd64-3.9\\pandas\\io\n",
      "    copying pandas\\io\\pickle.py -> build\\lib.win-amd64-3.9\\pandas\\io\n",
      "    copying pandas\\io\\pytables.py -> build\\lib.win-amd64-3.9\\pandas\\io\n",
      "    copying pandas\\io\\s3.py -> build\\lib.win-amd64-3.9\\pandas\\io\n",
      "    copying pandas\\io\\sql.py -> build\\lib.win-amd64-3.9\\pandas\\io\n",
      "    copying pandas\\io\\stata.py -> build\\lib.win-amd64-3.9\\pandas\\io\n",
      "    copying pandas\\io\\__init__.py -> build\\lib.win-amd64-3.9\\pandas\\io\n",
      "    creating build\\lib.win-amd64-3.9\\pandas\\plotting\n",
      "    copying pandas\\plotting\\_compat.py -> build\\lib.win-amd64-3.9\\pandas\\plotting\n",
      "    copying pandas\\plotting\\_converter.py -> build\\lib.win-amd64-3.9\\pandas\\plotting\n",
      "    copying pandas\\plotting\\_core.py -> build\\lib.win-amd64-3.9\\pandas\\plotting\n",
      "    copying pandas\\plotting\\_misc.py -> build\\lib.win-amd64-3.9\\pandas\\plotting\n",
      "    copying pandas\\plotting\\_style.py -> build\\lib.win-amd64-3.9\\pandas\\plotting\n",
      "    copying pandas\\plotting\\_timeseries.py -> build\\lib.win-amd64-3.9\\pandas\\plotting\n",
      "    copying pandas\\plotting\\_tools.py -> build\\lib.win-amd64-3.9\\pandas\\plotting\n",
      "    copying pandas\\plotting\\__init__.py -> build\\lib.win-amd64-3.9\\pandas\\plotting\n",
      "    creating build\\lib.win-amd64-3.9\\pandas\\tests\n",
      "    copying pandas\\tests\\test_algos.py -> build\\lib.win-amd64-3.9\\pandas\\tests\n",
      "    copying pandas\\tests\\test_base.py -> build\\lib.win-amd64-3.9\\pandas\\tests\n",
      "    copying pandas\\tests\\test_common.py -> build\\lib.win-amd64-3.9\\pandas\\tests\n",
      "    copying pandas\\tests\\test_compat.py -> build\\lib.win-amd64-3.9\\pandas\\tests\n",
      "    copying pandas\\tests\\test_config.py -> build\\lib.win-amd64-3.9\\pandas\\tests\n",
      "    copying pandas\\tests\\test_downstream.py -> build\\lib.win-amd64-3.9\\pandas\\tests\n",
      "    copying pandas\\tests\\test_errors.py -> build\\lib.win-amd64-3.9\\pandas\\tests\n",
      "    copying pandas\\tests\\test_expressions.py -> build\\lib.win-amd64-3.9\\pandas\\tests\n",
      "    copying pandas\\tests\\test_join.py -> build\\lib.win-amd64-3.9\\pandas\\tests\n",
      "    copying pandas\\tests\\test_lib.py -> build\\lib.win-amd64-3.9\\pandas\\tests\n",
      "    copying pandas\\tests\\test_multilevel.py -> build\\lib.win-amd64-3.9\\pandas\\tests\n",
      "    copying pandas\\tests\\test_nanops.py -> build\\lib.win-amd64-3.9\\pandas\\tests\n",
      "    copying pandas\\tests\\test_panel.py -> build\\lib.win-amd64-3.9\\pandas\\tests\n",
      "    copying pandas\\tests\\test_register_accessor.py -> build\\lib.win-amd64-3.9\\pandas\\tests\n",
      "    copying pandas\\tests\\test_sorting.py -> build\\lib.win-amd64-3.9\\pandas\\tests\n",
      "    copying pandas\\tests\\test_strings.py -> build\\lib.win-amd64-3.9\\pandas\\tests\n",
      "    copying pandas\\tests\\test_take.py -> build\\lib.win-amd64-3.9\\pandas\\tests\n",
      "    copying pandas\\tests\\test_window.py -> build\\lib.win-amd64-3.9\\pandas\\tests\n",
      "    copying pandas\\tests\\__init__.py -> build\\lib.win-amd64-3.9\\pandas\\tests\n",
      "    creating build\\lib.win-amd64-3.9\\pandas\\tseries\n",
      "    copying pandas\\tseries\\api.py -> build\\lib.win-amd64-3.9\\pandas\\tseries\n",
      "    copying pandas\\tseries\\converter.py -> build\\lib.win-amd64-3.9\\pandas\\tseries\n",
      "    copying pandas\\tseries\\frequencies.py -> build\\lib.win-amd64-3.9\\pandas\\tseries\n",
      "    copying pandas\\tseries\\holiday.py -> build\\lib.win-amd64-3.9\\pandas\\tseries\n",
      "    copying pandas\\tseries\\offsets.py -> build\\lib.win-amd64-3.9\\pandas\\tseries\n",
      "    copying pandas\\tseries\\plotting.py -> build\\lib.win-amd64-3.9\\pandas\\tseries\n",
      "    copying pandas\\tseries\\__init__.py -> build\\lib.win-amd64-3.9\\pandas\\tseries\n",
      "    creating build\\lib.win-amd64-3.9\\pandas\\util\n",
      "    copying pandas\\util\\testing.py -> build\\lib.win-amd64-3.9\\pandas\\util\n",
      "    copying pandas\\util\\_decorators.py -> build\\lib.win-amd64-3.9\\pandas\\util\n",
      "    copying pandas\\util\\_depr_module.py -> build\\lib.win-amd64-3.9\\pandas\\util\n",
      "    copying pandas\\util\\_doctools.py -> build\\lib.win-amd64-3.9\\pandas\\util\n",
      "    copying pandas\\util\\_exceptions.py -> build\\lib.win-amd64-3.9\\pandas\\util\n",
      "    copying pandas\\util\\_print_versions.py -> build\\lib.win-amd64-3.9\\pandas\\util\n",
      "    copying pandas\\util\\_tester.py -> build\\lib.win-amd64-3.9\\pandas\\util\n",
      "    copying pandas\\util\\_test_decorators.py -> build\\lib.win-amd64-3.9\\pandas\\util\n",
      "    copying pandas\\util\\_validators.py -> build\\lib.win-amd64-3.9\\pandas\\util\n",
      "    copying pandas\\util\\__init__.py -> build\\lib.win-amd64-3.9\\pandas\\util\n",
      "    creating build\\lib.win-amd64-3.9\\pandas\\_libs\n",
      "    copying pandas\\_libs\\__init__.py -> build\\lib.win-amd64-3.9\\pandas\\_libs\n",
      "    creating build\\lib.win-amd64-3.9\\pandas\\api\\extensions\n",
      "    copying pandas\\api\\extensions\\__init__.py -> build\\lib.win-amd64-3.9\\pandas\\api\\extensions\n",
      "    creating build\\lib.win-amd64-3.9\\pandas\\api\\types\n",
      "    copying pandas\\api\\types\\__init__.py -> build\\lib.win-amd64-3.9\\pandas\\api\\types\n",
      "    creating build\\lib.win-amd64-3.9\\pandas\\compat\\numpy\n",
      "    copying pandas\\compat\\numpy\\function.py -> build\\lib.win-amd64-3.9\\pandas\\compat\\numpy\n",
      "    copying pandas\\compat\\numpy\\__init__.py -> build\\lib.win-amd64-3.9\\pandas\\compat\\numpy\n",
      "    creating build\\lib.win-amd64-3.9\\pandas\\core\\arrays\n",
      "    copying pandas\\core\\arrays\\array_.py -> build\\lib.win-amd64-3.9\\pandas\\core\\arrays\n",
      "    copying pandas\\core\\arrays\\base.py -> build\\lib.win-amd64-3.9\\pandas\\core\\arrays\n",
      "    copying pandas\\core\\arrays\\categorical.py -> build\\lib.win-amd64-3.9\\pandas\\core\\arrays\n",
      "    copying pandas\\core\\arrays\\datetimelike.py -> build\\lib.win-amd64-3.9\\pandas\\core\\arrays\n",
      "    copying pandas\\core\\arrays\\datetimes.py -> build\\lib.win-amd64-3.9\\pandas\\core\\arrays\n",
      "    copying pandas\\core\\arrays\\integer.py -> build\\lib.win-amd64-3.9\\pandas\\core\\arrays\n",
      "    copying pandas\\core\\arrays\\interval.py -> build\\lib.win-amd64-3.9\\pandas\\core\\arrays\n",
      "    copying pandas\\core\\arrays\\numpy_.py -> build\\lib.win-amd64-3.9\\pandas\\core\\arrays\n",
      "    copying pandas\\core\\arrays\\period.py -> build\\lib.win-amd64-3.9\\pandas\\core\\arrays\n",
      "    copying pandas\\core\\arrays\\sparse.py -> build\\lib.win-amd64-3.9\\pandas\\core\\arrays\n",
      "    copying pandas\\core\\arrays\\timedeltas.py -> build\\lib.win-amd64-3.9\\pandas\\core\\arrays\n",
      "    copying pandas\\core\\arrays\\_ranges.py -> build\\lib.win-amd64-3.9\\pandas\\core\\arrays\n",
      "    copying pandas\\core\\arrays\\__init__.py -> build\\lib.win-amd64-3.9\\pandas\\core\\arrays\n",
      "    creating build\\lib.win-amd64-3.9\\pandas\\core\\computation\n",
      "    copying pandas\\core\\computation\\align.py -> build\\lib.win-amd64-3.9\\pandas\\core\\computation\n",
      "    copying pandas\\core\\computation\\api.py -> build\\lib.win-amd64-3.9\\pandas\\core\\computation\n",
      "    copying pandas\\core\\computation\\check.py -> build\\lib.win-amd64-3.9\\pandas\\core\\computation\n",
      "    copying pandas\\core\\computation\\common.py -> build\\lib.win-amd64-3.9\\pandas\\core\\computation\n",
      "    copying pandas\\core\\computation\\engines.py -> build\\lib.win-amd64-3.9\\pandas\\core\\computation\n",
      "    copying pandas\\core\\computation\\eval.py -> build\\lib.win-amd64-3.9\\pandas\\core\\computation\n",
      "    copying pandas\\core\\computation\\expr.py -> build\\lib.win-amd64-3.9\\pandas\\core\\computation\n",
      "    copying pandas\\core\\computation\\expressions.py -> build\\lib.win-amd64-3.9\\pandas\\core\\computation\n",
      "    copying pandas\\core\\computation\\ops.py -> build\\lib.win-amd64-3.9\\pandas\\core\\computation\n",
      "    copying pandas\\core\\computation\\pytables.py -> build\\lib.win-amd64-3.9\\pandas\\core\\computation\n",
      "    copying pandas\\core\\computation\\scope.py -> build\\lib.win-amd64-3.9\\pandas\\core\\computation\n",
      "    copying pandas\\core\\computation\\__init__.py -> build\\lib.win-amd64-3.9\\pandas\\core\\computation\n",
      "    creating build\\lib.win-amd64-3.9\\pandas\\core\\dtypes\n",
      "    copying pandas\\core\\dtypes\\api.py -> build\\lib.win-amd64-3.9\\pandas\\core\\dtypes\n",
      "    copying pandas\\core\\dtypes\\base.py -> build\\lib.win-amd64-3.9\\pandas\\core\\dtypes\n",
      "    copying pandas\\core\\dtypes\\cast.py -> build\\lib.win-amd64-3.9\\pandas\\core\\dtypes\n",
      "    copying pandas\\core\\dtypes\\common.py -> build\\lib.win-amd64-3.9\\pandas\\core\\dtypes\n",
      "    copying pandas\\core\\dtypes\\concat.py -> build\\lib.win-amd64-3.9\\pandas\\core\\dtypes\n",
      "    copying pandas\\core\\dtypes\\dtypes.py -> build\\lib.win-amd64-3.9\\pandas\\core\\dtypes\n",
      "    copying pandas\\core\\dtypes\\generic.py -> build\\lib.win-amd64-3.9\\pandas\\core\\dtypes\n",
      "    copying pandas\\core\\dtypes\\inference.py -> build\\lib.win-amd64-3.9\\pandas\\core\\dtypes\n",
      "    copying pandas\\core\\dtypes\\missing.py -> build\\lib.win-amd64-3.9\\pandas\\core\\dtypes\n",
      "    copying pandas\\core\\dtypes\\__init__.py -> build\\lib.win-amd64-3.9\\pandas\\core\\dtypes\n",
      "    creating build\\lib.win-amd64-3.9\\pandas\\core\\groupby\n",
      "    copying pandas\\core\\groupby\\base.py -> build\\lib.win-amd64-3.9\\pandas\\core\\groupby\n",
      "    copying pandas\\core\\groupby\\categorical.py -> build\\lib.win-amd64-3.9\\pandas\\core\\groupby\n",
      "    copying pandas\\core\\groupby\\generic.py -> build\\lib.win-amd64-3.9\\pandas\\core\\groupby\n",
      "    copying pandas\\core\\groupby\\groupby.py -> build\\lib.win-amd64-3.9\\pandas\\core\\groupby\n",
      "    copying pandas\\core\\groupby\\grouper.py -> build\\lib.win-amd64-3.9\\pandas\\core\\groupby\n",
      "    copying pandas\\core\\groupby\\ops.py -> build\\lib.win-amd64-3.9\\pandas\\core\\groupby\n",
      "    copying pandas\\core\\groupby\\__init__.py -> build\\lib.win-amd64-3.9\\pandas\\core\\groupby\n",
      "    creating build\\lib.win-amd64-3.9\\pandas\\core\\indexes\n",
      "    copying pandas\\core\\indexes\\accessors.py -> build\\lib.win-amd64-3.9\\pandas\\core\\indexes\n",
      "    copying pandas\\core\\indexes\\api.py -> build\\lib.win-amd64-3.9\\pandas\\core\\indexes\n",
      "    copying pandas\\core\\indexes\\base.py -> build\\lib.win-amd64-3.9\\pandas\\core\\indexes\n",
      "    copying pandas\\core\\indexes\\category.py -> build\\lib.win-amd64-3.9\\pandas\\core\\indexes\n",
      "    copying pandas\\core\\indexes\\datetimelike.py -> build\\lib.win-amd64-3.9\\pandas\\core\\indexes\n",
      "    copying pandas\\core\\indexes\\datetimes.py -> build\\lib.win-amd64-3.9\\pandas\\core\\indexes\n",
      "    copying pandas\\core\\indexes\\frozen.py -> build\\lib.win-amd64-3.9\\pandas\\core\\indexes\n",
      "    copying pandas\\core\\indexes\\interval.py -> build\\lib.win-amd64-3.9\\pandas\\core\\indexes\n",
      "    copying pandas\\core\\indexes\\multi.py -> build\\lib.win-amd64-3.9\\pandas\\core\\indexes\n",
      "    copying pandas\\core\\indexes\\numeric.py -> build\\lib.win-amd64-3.9\\pandas\\core\\indexes\n",
      "    copying pandas\\core\\indexes\\period.py -> build\\lib.win-amd64-3.9\\pandas\\core\\indexes\n",
      "    copying pandas\\core\\indexes\\range.py -> build\\lib.win-amd64-3.9\\pandas\\core\\indexes\n",
      "    copying pandas\\core\\indexes\\timedeltas.py -> build\\lib.win-amd64-3.9\\pandas\\core\\indexes\n",
      "    copying pandas\\core\\indexes\\__init__.py -> build\\lib.win-amd64-3.9\\pandas\\core\\indexes\n",
      "    creating build\\lib.win-amd64-3.9\\pandas\\core\\internals\n",
      "    copying pandas\\core\\internals\\arrays.py -> build\\lib.win-amd64-3.9\\pandas\\core\\internals\n",
      "    copying pandas\\core\\internals\\blocks.py -> build\\lib.win-amd64-3.9\\pandas\\core\\internals\n",
      "    copying pandas\\core\\internals\\concat.py -> build\\lib.win-amd64-3.9\\pandas\\core\\internals\n",
      "    copying pandas\\core\\internals\\construction.py -> build\\lib.win-amd64-3.9\\pandas\\core\\internals\n",
      "    copying pandas\\core\\internals\\managers.py -> build\\lib.win-amd64-3.9\\pandas\\core\\internals\n",
      "    copying pandas\\core\\internals\\__init__.py -> build\\lib.win-amd64-3.9\\pandas\\core\\internals\n",
      "    creating build\\lib.win-amd64-3.9\\pandas\\core\\reshape\n",
      "    copying pandas\\core\\reshape\\api.py -> build\\lib.win-amd64-3.9\\pandas\\core\\reshape\n",
      "    copying pandas\\core\\reshape\\concat.py -> build\\lib.win-amd64-3.9\\pandas\\core\\reshape\n",
      "    copying pandas\\core\\reshape\\melt.py -> build\\lib.win-amd64-3.9\\pandas\\core\\reshape\n",
      "    copying pandas\\core\\reshape\\merge.py -> build\\lib.win-amd64-3.9\\pandas\\core\\reshape\n",
      "    copying pandas\\core\\reshape\\pivot.py -> build\\lib.win-amd64-3.9\\pandas\\core\\reshape\n",
      "    copying pandas\\core\\reshape\\reshape.py -> build\\lib.win-amd64-3.9\\pandas\\core\\reshape\n",
      "    copying pandas\\core\\reshape\\tile.py -> build\\lib.win-amd64-3.9\\pandas\\core\\reshape\n",
      "    copying pandas\\core\\reshape\\util.py -> build\\lib.win-amd64-3.9\\pandas\\core\\reshape\n",
      "    copying pandas\\core\\reshape\\__init__.py -> build\\lib.win-amd64-3.9\\pandas\\core\\reshape\n",
      "    creating build\\lib.win-amd64-3.9\\pandas\\core\\sparse\n",
      "    copying pandas\\core\\sparse\\api.py -> build\\lib.win-amd64-3.9\\pandas\\core\\sparse\n",
      "    copying pandas\\core\\sparse\\frame.py -> build\\lib.win-amd64-3.9\\pandas\\core\\sparse\n",
      "    copying pandas\\core\\sparse\\scipy_sparse.py -> build\\lib.win-amd64-3.9\\pandas\\core\\sparse\n",
      "    copying pandas\\core\\sparse\\series.py -> build\\lib.win-amd64-3.9\\pandas\\core\\sparse\n",
      "    copying pandas\\core\\sparse\\__init__.py -> build\\lib.win-amd64-3.9\\pandas\\core\\sparse\n",
      "    creating build\\lib.win-amd64-3.9\\pandas\\core\\tools\n",
      "    copying pandas\\core\\tools\\datetimes.py -> build\\lib.win-amd64-3.9\\pandas\\core\\tools\n",
      "    copying pandas\\core\\tools\\numeric.py -> build\\lib.win-amd64-3.9\\pandas\\core\\tools\n",
      "    copying pandas\\core\\tools\\timedeltas.py -> build\\lib.win-amd64-3.9\\pandas\\core\\tools\n",
      "    copying pandas\\core\\tools\\__init__.py -> build\\lib.win-amd64-3.9\\pandas\\core\\tools\n",
      "    creating build\\lib.win-amd64-3.9\\pandas\\core\\util\n",
      "    copying pandas\\core\\util\\hashing.py -> build\\lib.win-amd64-3.9\\pandas\\core\\util\n",
      "    copying pandas\\core\\util\\__init__.py -> build\\lib.win-amd64-3.9\\pandas\\core\\util\n",
      "    creating build\\lib.win-amd64-3.9\\pandas\\io\\clipboard\n",
      "    copying pandas\\io\\clipboard\\clipboards.py -> build\\lib.win-amd64-3.9\\pandas\\io\\clipboard\n",
      "    copying pandas\\io\\clipboard\\exceptions.py -> build\\lib.win-amd64-3.9\\pandas\\io\\clipboard\n",
      "    copying pandas\\io\\clipboard\\windows.py -> build\\lib.win-amd64-3.9\\pandas\\io\\clipboard\n",
      "    copying pandas\\io\\clipboard\\__init__.py -> build\\lib.win-amd64-3.9\\pandas\\io\\clipboard\n",
      "    creating build\\lib.win-amd64-3.9\\pandas\\io\\formats\n",
      "    copying pandas\\io\\formats\\console.py -> build\\lib.win-amd64-3.9\\pandas\\io\\formats\n",
      "    copying pandas\\io\\formats\\css.py -> build\\lib.win-amd64-3.9\\pandas\\io\\formats\n",
      "    copying pandas\\io\\formats\\csvs.py -> build\\lib.win-amd64-3.9\\pandas\\io\\formats\n",
      "    copying pandas\\io\\formats\\excel.py -> build\\lib.win-amd64-3.9\\pandas\\io\\formats\n",
      "    copying pandas\\io\\formats\\format.py -> build\\lib.win-amd64-3.9\\pandas\\io\\formats\n",
      "    copying pandas\\io\\formats\\html.py -> build\\lib.win-amd64-3.9\\pandas\\io\\formats\n",
      "    copying pandas\\io\\formats\\latex.py -> build\\lib.win-amd64-3.9\\pandas\\io\\formats\n",
      "    copying pandas\\io\\formats\\printing.py -> build\\lib.win-amd64-3.9\\pandas\\io\\formats\n",
      "    copying pandas\\io\\formats\\style.py -> build\\lib.win-amd64-3.9\\pandas\\io\\formats\n",
      "    copying pandas\\io\\formats\\terminal.py -> build\\lib.win-amd64-3.9\\pandas\\io\\formats\n",
      "    copying pandas\\io\\formats\\__init__.py -> build\\lib.win-amd64-3.9\\pandas\\io\\formats\n",
      "    creating build\\lib.win-amd64-3.9\\pandas\\io\\json\n",
      "    copying pandas\\io\\json\\json.py -> build\\lib.win-amd64-3.9\\pandas\\io\\json\n",
      "    copying pandas\\io\\json\\normalize.py -> build\\lib.win-amd64-3.9\\pandas\\io\\json\n",
      "    copying pandas\\io\\json\\table_schema.py -> build\\lib.win-amd64-3.9\\pandas\\io\\json\n",
      "    copying pandas\\io\\json\\__init__.py -> build\\lib.win-amd64-3.9\\pandas\\io\\json\n",
      "    creating build\\lib.win-amd64-3.9\\pandas\\io\\msgpack\n",
      "    copying pandas\\io\\msgpack\\exceptions.py -> build\\lib.win-amd64-3.9\\pandas\\io\\msgpack\n",
      "    copying pandas\\io\\msgpack\\_version.py -> build\\lib.win-amd64-3.9\\pandas\\io\\msgpack\n",
      "    copying pandas\\io\\msgpack\\__init__.py -> build\\lib.win-amd64-3.9\\pandas\\io\\msgpack\n",
      "    creating build\\lib.win-amd64-3.9\\pandas\\io\\sas\n",
      "    copying pandas\\io\\sas\\sas7bdat.py -> build\\lib.win-amd64-3.9\\pandas\\io\\sas\n",
      "    copying pandas\\io\\sas\\sasreader.py -> build\\lib.win-amd64-3.9\\pandas\\io\\sas\n",
      "    copying pandas\\io\\sas\\sas_constants.py -> build\\lib.win-amd64-3.9\\pandas\\io\\sas\n",
      "    copying pandas\\io\\sas\\sas_xport.py -> build\\lib.win-amd64-3.9\\pandas\\io\\sas\n",
      "    copying pandas\\io\\sas\\__init__.py -> build\\lib.win-amd64-3.9\\pandas\\io\\sas\n",
      "    creating build\\lib.win-amd64-3.9\\pandas\\tests\\api\n",
      "    copying pandas\\tests\\api\\test_api.py -> build\\lib.win-amd64-3.9\\pandas\\tests\\api\n",
      "    copying pandas\\tests\\api\\test_types.py -> build\\lib.win-amd64-3.9\\pandas\\tests\\api\n",
      "    copying pandas\\tests\\api\\__init__.py -> build\\lib.win-amd64-3.9\\pandas\\tests\\api\n",
      "    creating build\\lib.win-amd64-3.9\\pandas\\tests\\arithmetic\n",
      "    copying pandas\\tests\\arithmetic\\conftest.py -> build\\lib.win-amd64-3.9\\pandas\\tests\\arithmetic\n",
      "    copying pandas\\tests\\arithmetic\\test_datetime64.py -> build\\lib.win-amd64-3.9\\pandas\\tests\\arithmetic\n",
      "    copying pandas\\tests\\arithmetic\\test_numeric.py -> build\\lib.win-amd64-3.9\\pandas\\tests\\arithmetic\n",
      "    copying pandas\\tests\\arithmetic\\test_object.py -> build\\lib.win-amd64-3.9\\pandas\\tests\\arithmetic\n",
      "    copying pandas\\tests\\arithmetic\\test_period.py -> build\\lib.win-amd64-3.9\\pandas\\tests\\arithmetic\n",
      "    copying pandas\\tests\\arithmetic\\test_timedelta64.py -> build\\lib.win-amd64-3.9\\pandas\\tests\\arithmetic\n",
      "    copying pandas\\tests\\arithmetic\\__init__.py -> build\\lib.win-amd64-3.9\\pandas\\tests\\arithmetic\n",
      "    creating build\\lib.win-amd64-3.9\\pandas\\tests\\arrays\n",
      "    copying pandas\\tests\\arrays\\test_array.py -> build\\lib.win-amd64-3.9\\pandas\\tests\\arrays\n",
      "    copying pandas\\tests\\arrays\\test_datetimelike.py -> build\\lib.win-amd64-3.9\\pandas\\tests\\arrays\n",
      "    copying pandas\\tests\\arrays\\test_datetimes.py -> build\\lib.win-amd64-3.9\\pandas\\tests\\arrays\n",
      "    copying pandas\\tests\\arrays\\test_integer.py -> build\\lib.win-amd64-3.9\\pandas\\tests\\arrays\n",
      "    copying pandas\\tests\\arrays\\test_numpy.py -> build\\lib.win-amd64-3.9\\pandas\\tests\\arrays\n",
      "    copying pandas\\tests\\arrays\\test_period.py -> build\\lib.win-amd64-3.9\\pandas\\tests\\arrays\n",
      "    copying pandas\\tests\\arrays\\test_timedeltas.py -> build\\lib.win-amd64-3.9\\pandas\\tests\\arrays\n",
      "    copying pandas\\tests\\arrays\\__init__.py -> build\\lib.win-amd64-3.9\\pandas\\tests\\arrays\n",
      "    creating build\\lib.win-amd64-3.9\\pandas\\tests\\computation\n",
      "    copying pandas\\tests\\computation\\test_compat.py -> build\\lib.win-amd64-3.9\\pandas\\tests\\computation\n",
      "    copying pandas\\tests\\computation\\test_eval.py -> build\\lib.win-amd64-3.9\\pandas\\tests\\computation\n",
      "    copying pandas\\tests\\computation\\__init__.py -> build\\lib.win-amd64-3.9\\pandas\\tests\\computation\n",
      "    creating build\\lib.win-amd64-3.9\\pandas\\tests\\dtypes\n",
      "    copying pandas\\tests\\dtypes\\test_common.py -> build\\lib.win-amd64-3.9\\pandas\\tests\\dtypes\n",
      "    copying pandas\\tests\\dtypes\\test_concat.py -> build\\lib.win-amd64-3.9\\pandas\\tests\\dtypes\n",
      "    copying pandas\\tests\\dtypes\\test_dtypes.py -> build\\lib.win-amd64-3.9\\pandas\\tests\\dtypes\n",
      "    copying pandas\\tests\\dtypes\\test_generic.py -> build\\lib.win-amd64-3.9\\pandas\\tests\\dtypes\n",
      "    copying pandas\\tests\\dtypes\\test_inference.py -> build\\lib.win-amd64-3.9\\pandas\\tests\\dtypes\n",
      "    copying pandas\\tests\\dtypes\\test_missing.py -> build\\lib.win-amd64-3.9\\pandas\\tests\\dtypes\n",
      "    copying pandas\\tests\\dtypes\\__init__.py -> build\\lib.win-amd64-3.9\\pandas\\tests\\dtypes\n",
      "    creating build\\lib.win-amd64-3.9\\pandas\\tests\\extension\n",
      "    copying pandas\\tests\\extension\\conftest.py -> build\\lib.win-amd64-3.9\\pandas\\tests\\extension\n",
      "    copying pandas\\tests\\extension\\test_categorical.py -> build\\lib.win-amd64-3.9\\pandas\\tests\\extension\n",
      "    copying pandas\\tests\\extension\\test_common.py -> build\\lib.win-amd64-3.9\\pandas\\tests\\extension\n",
      "    copying pandas\\tests\\extension\\test_datetime.py -> build\\lib.win-amd64-3.9\\pandas\\tests\\extension\n",
      "    copying pandas\\tests\\extension\\test_external_block.py -> build\\lib.win-amd64-3.9\\pandas\\tests\\extension\n",
      "    copying pandas\\tests\\extension\\test_integer.py -> build\\lib.win-amd64-3.9\\pandas\\tests\\extension\n",
      "    copying pandas\\tests\\extension\\test_interval.py -> build\\lib.win-amd64-3.9\\pandas\\tests\\extension\n",
      "    copying pandas\\tests\\extension\\test_period.py -> build\\lib.win-amd64-3.9\\pandas\\tests\\extension\n",
      "    copying pandas\\tests\\extension\\test_sparse.py -> build\\lib.win-amd64-3.9\\pandas\\tests\\extension\n",
      "    copying pandas\\tests\\extension\\__init__.py -> build\\lib.win-amd64-3.9\\pandas\\tests\\extension\n",
      "    creating build\\lib.win-amd64-3.9\\pandas\\tests\\frame\n",
      "    copying pandas\\tests\\frame\\common.py -> build\\lib.win-amd64-3.9\\pandas\\tests\\frame\n",
      "    copying pandas\\tests\\frame\\conftest.py -> build\\lib.win-amd64-3.9\\pandas\\tests\\frame\n",
      "    copying pandas\\tests\\frame\\test_alter_axes.py -> build\\lib.win-amd64-3.9\\pandas\\tests\\frame\n",
      "    copying pandas\\tests\\frame\\test_analytics.py -> build\\lib.win-amd64-3.9\\pandas\\tests\\frame\n",
      "    copying pandas\\tests\\frame\\test_api.py -> build\\lib.win-amd64-3.9\\pandas\\tests\\frame\n",
      "    copying pandas\\tests\\frame\\test_apply.py -> build\\lib.win-amd64-3.9\\pandas\\tests\\frame\n",
      "    copying pandas\\tests\\frame\\test_arithmetic.py -> build\\lib.win-amd64-3.9\\pandas\\tests\\frame\n",
      "    copying pandas\\tests\\frame\\test_asof.py -> build\\lib.win-amd64-3.9\\pandas\\tests\\frame\n",
      "    copying pandas\\tests\\frame\\test_axis_select_reindex.py -> build\\lib.win-amd64-3.9\\pandas\\tests\\frame\n",
      "    copying pandas\\tests\\frame\\test_block_internals.py -> build\\lib.win-amd64-3.9\\pandas\\tests\\frame\n",
      "    copying pandas\\tests\\frame\\test_combine_concat.py -> build\\lib.win-amd64-3.9\\pandas\\tests\\frame\n",
      "    copying pandas\\tests\\frame\\test_constructors.py -> build\\lib.win-amd64-3.9\\pandas\\tests\\frame\n",
      "    copying pandas\\tests\\frame\\test_convert_to.py -> build\\lib.win-amd64-3.9\\pandas\\tests\\frame\n",
      "    copying pandas\\tests\\frame\\test_dtypes.py -> build\\lib.win-amd64-3.9\\pandas\\tests\\frame\n",
      "    copying pandas\\tests\\frame\\test_duplicates.py -> build\\lib.win-amd64-3.9\\pandas\\tests\\frame\n",
      "    copying pandas\\tests\\frame\\test_indexing.py -> build\\lib.win-amd64-3.9\\pandas\\tests\\frame\n",
      "    copying pandas\\tests\\frame\\test_join.py -> build\\lib.win-amd64-3.9\\pandas\\tests\\frame\n",
      "    copying pandas\\tests\\frame\\test_missing.py -> build\\lib.win-amd64-3.9\\pandas\\tests\\frame\n",
      "    copying pandas\\tests\\frame\\test_mutate_columns.py -> build\\lib.win-amd64-3.9\\pandas\\tests\\frame\n",
      "    copying pandas\\tests\\frame\\test_nonunique_indexes.py -> build\\lib.win-amd64-3.9\\pandas\\tests\\frame\n",
      "    copying pandas\\tests\\frame\\test_operators.py -> build\\lib.win-amd64-3.9\\pandas\\tests\\frame\n",
      "    copying pandas\\tests\\frame\\test_period.py -> build\\lib.win-amd64-3.9\\pandas\\tests\\frame\n",
      "    copying pandas\\tests\\frame\\test_quantile.py -> build\\lib.win-amd64-3.9\\pandas\\tests\\frame\n",
      "    copying pandas\\tests\\frame\\test_query_eval.py -> build\\lib.win-amd64-3.9\\pandas\\tests\\frame\n",
      "    copying pandas\\tests\\frame\\test_rank.py -> build\\lib.win-amd64-3.9\\pandas\\tests\\frame\n",
      "    copying pandas\\tests\\frame\\test_replace.py -> build\\lib.win-amd64-3.9\\pandas\\tests\\frame\n",
      "    copying pandas\\tests\\frame\\test_repr_info.py -> build\\lib.win-amd64-3.9\\pandas\\tests\\frame\n",
      "    copying pandas\\tests\\frame\\test_reshape.py -> build\\lib.win-amd64-3.9\\pandas\\tests\\frame\n",
      "    copying pandas\\tests\\frame\\test_sorting.py -> build\\lib.win-amd64-3.9\\pandas\\tests\\frame\n",
      "    copying pandas\\tests\\frame\\test_sort_values_level_as_str.py -> build\\lib.win-amd64-3.9\\pandas\\tests\\frame\n",
      "    copying pandas\\tests\\frame\\test_subclass.py -> build\\lib.win-amd64-3.9\\pandas\\tests\\frame\n",
      "    copying pandas\\tests\\frame\\test_timeseries.py -> build\\lib.win-amd64-3.9\\pandas\\tests\\frame\n",
      "    copying pandas\\tests\\frame\\test_timezones.py -> build\\lib.win-amd64-3.9\\pandas\\tests\\frame\n",
      "    copying pandas\\tests\\frame\\test_to_csv.py -> build\\lib.win-amd64-3.9\\pandas\\tests\\frame\n",
      "    copying pandas\\tests\\frame\\test_validate.py -> build\\lib.win-amd64-3.9\\pandas\\tests\\frame\n",
      "    copying pandas\\tests\\frame\\__init__.py -> build\\lib.win-amd64-3.9\\pandas\\tests\\frame\n",
      "    creating build\\lib.win-amd64-3.9\\pandas\\tests\\generic\n",
      "    copying pandas\\tests\\generic\\test_frame.py -> build\\lib.win-amd64-3.9\\pandas\\tests\\generic\n",
      "    copying pandas\\tests\\generic\\test_generic.py -> build\\lib.win-amd64-3.9\\pandas\\tests\\generic\n",
      "    copying pandas\\tests\\generic\\test_label_or_level_utils.py -> build\\lib.win-amd64-3.9\\pandas\\tests\\generic\n",
      "    copying pandas\\tests\\generic\\test_panel.py -> build\\lib.win-amd64-3.9\\pandas\\tests\\generic\n",
      "    copying pandas\\tests\\generic\\test_series.py -> build\\lib.win-amd64-3.9\\pandas\\tests\\generic\n",
      "    copying pandas\\tests\\generic\\__init__.py -> build\\lib.win-amd64-3.9\\pandas\\tests\\generic\n",
      "    creating build\\lib.win-amd64-3.9\\pandas\\tests\\groupby\n",
      "    copying pandas\\tests\\groupby\\conftest.py -> build\\lib.win-amd64-3.9\\pandas\\tests\\groupby\n",
      "    copying pandas\\tests\\groupby\\test_apply.py -> build\\lib.win-amd64-3.9\\pandas\\tests\\groupby\n",
      "    copying pandas\\tests\\groupby\\test_bin_groupby.py -> build\\lib.win-amd64-3.9\\pandas\\tests\\groupby\n",
      "    copying pandas\\tests\\groupby\\test_categorical.py -> build\\lib.win-amd64-3.9\\pandas\\tests\\groupby\n",
      "    copying pandas\\tests\\groupby\\test_counting.py -> build\\lib.win-amd64-3.9\\pandas\\tests\\groupby\n",
      "    copying pandas\\tests\\groupby\\test_filters.py -> build\\lib.win-amd64-3.9\\pandas\\tests\\groupby\n",
      "    copying pandas\\tests\\groupby\\test_function.py -> build\\lib.win-amd64-3.9\\pandas\\tests\\groupby\n",
      "    copying pandas\\tests\\groupby\\test_groupby.py -> build\\lib.win-amd64-3.9\\pandas\\tests\\groupby\n",
      "    copying pandas\\tests\\groupby\\test_grouping.py -> build\\lib.win-amd64-3.9\\pandas\\tests\\groupby\n",
      "    copying pandas\\tests\\groupby\\test_index_as_string.py -> build\\lib.win-amd64-3.9\\pandas\\tests\\groupby\n",
      "    copying pandas\\tests\\groupby\\test_nth.py -> build\\lib.win-amd64-3.9\\pandas\\tests\\groupby\n",
      "    copying pandas\\tests\\groupby\\test_rank.py -> build\\lib.win-amd64-3.9\\pandas\\tests\\groupby\n",
      "    copying pandas\\tests\\groupby\\test_timegrouper.py -> build\\lib.win-amd64-3.9\\pandas\\tests\\groupby\n",
      "    copying pandas\\tests\\groupby\\test_transform.py -> build\\lib.win-amd64-3.9\\pandas\\tests\\groupby\n",
      "    copying pandas\\tests\\groupby\\test_value_counts.py -> build\\lib.win-amd64-3.9\\pandas\\tests\\groupby\n",
      "    copying pandas\\tests\\groupby\\test_whitelist.py -> build\\lib.win-amd64-3.9\\pandas\\tests\\groupby\n",
      "    copying pandas\\tests\\groupby\\__init__.py -> build\\lib.win-amd64-3.9\\pandas\\tests\\groupby\n",
      "    creating build\\lib.win-amd64-3.9\\pandas\\tests\\indexes\n",
      "    copying pandas\\tests\\indexes\\common.py -> build\\lib.win-amd64-3.9\\pandas\\tests\\indexes\n",
      "    copying pandas\\tests\\indexes\\conftest.py -> build\\lib.win-amd64-3.9\\pandas\\tests\\indexes\n",
      "    copying pandas\\tests\\indexes\\datetimelike.py -> build\\lib.win-amd64-3.9\\pandas\\tests\\indexes\n",
      "    copying pandas\\tests\\indexes\\test_base.py -> build\\lib.win-amd64-3.9\\pandas\\tests\\indexes\n",
      "    copying pandas\\tests\\indexes\\test_category.py -> build\\lib.win-amd64-3.9\\pandas\\tests\\indexes\n",
      "    copying pandas\\tests\\indexes\\test_common.py -> build\\lib.win-amd64-3.9\\pandas\\tests\\indexes\n",
      "    copying pandas\\tests\\indexes\\test_frozen.py -> build\\lib.win-amd64-3.9\\pandas\\tests\\indexes\n",
      "    copying pandas\\tests\\indexes\\test_numeric.py -> build\\lib.win-amd64-3.9\\pandas\\tests\\indexes\n",
      "    copying pandas\\tests\\indexes\\test_range.py -> build\\lib.win-amd64-3.9\\pandas\\tests\\indexes\n",
      "    copying pandas\\tests\\indexes\\__init__.py -> build\\lib.win-amd64-3.9\\pandas\\tests\\indexes\n",
      "    creating build\\lib.win-amd64-3.9\\pandas\\tests\\indexing\n",
      "    copying pandas\\tests\\indexing\\common.py -> build\\lib.win-amd64-3.9\\pandas\\tests\\indexing\n",
      "    copying pandas\\tests\\indexing\\conftest.py -> build\\lib.win-amd64-3.9\\pandas\\tests\\indexing\n",
      "    copying pandas\\tests\\indexing\\test_callable.py -> build\\lib.win-amd64-3.9\\pandas\\tests\\indexing\n",
      "    copying pandas\\tests\\indexing\\test_categorical.py -> build\\lib.win-amd64-3.9\\pandas\\tests\\indexing\n",
      "    copying pandas\\tests\\indexing\\test_chaining_and_caching.py -> build\\lib.win-amd64-3.9\\pandas\\tests\\indexing\n",
      "    copying pandas\\tests\\indexing\\test_coercion.py -> build\\lib.win-amd64-3.9\\pandas\\tests\\indexing\n",
      "    copying pandas\\tests\\indexing\\test_datetime.py -> build\\lib.win-amd64-3.9\\pandas\\tests\\indexing\n",
      "    copying pandas\\tests\\indexing\\test_floats.py -> build\\lib.win-amd64-3.9\\pandas\\tests\\indexing\n",
      "    copying pandas\\tests\\indexing\\test_iloc.py -> build\\lib.win-amd64-3.9\\pandas\\tests\\indexing\n",
      "    copying pandas\\tests\\indexing\\test_indexing.py -> build\\lib.win-amd64-3.9\\pandas\\tests\\indexing\n",
      "    copying pandas\\tests\\indexing\\test_indexing_engines.py -> build\\lib.win-amd64-3.9\\pandas\\tests\\indexing\n",
      "    copying pandas\\tests\\indexing\\test_indexing_slow.py -> build\\lib.win-amd64-3.9\\pandas\\tests\\indexing\n",
      "    copying pandas\\tests\\indexing\\test_ix.py -> build\\lib.win-amd64-3.9\\pandas\\tests\\indexing\n",
      "    copying pandas\\tests\\indexing\\test_loc.py -> build\\lib.win-amd64-3.9\\pandas\\tests\\indexing\n",
      "    copying pandas\\tests\\indexing\\test_panel.py -> build\\lib.win-amd64-3.9\\pandas\\tests\\indexing\n",
      "    copying pandas\\tests\\indexing\\test_partial.py -> build\\lib.win-amd64-3.9\\pandas\\tests\\indexing\n",
      "    copying pandas\\tests\\indexing\\test_scalar.py -> build\\lib.win-amd64-3.9\\pandas\\tests\\indexing\n",
      "    copying pandas\\tests\\indexing\\test_timedelta.py -> build\\lib.win-amd64-3.9\\pandas\\tests\\indexing\n",
      "    copying pandas\\tests\\indexing\\__init__.py -> build\\lib.win-amd64-3.9\\pandas\\tests\\indexing\n",
      "    creating build\\lib.win-amd64-3.9\\pandas\\tests\\internals\n",
      "    copying pandas\\tests\\internals\\test_internals.py -> build\\lib.win-amd64-3.9\\pandas\\tests\\internals\n",
      "    copying pandas\\tests\\internals\\__init__.py -> build\\lib.win-amd64-3.9\\pandas\\tests\\internals\n",
      "    creating build\\lib.win-amd64-3.9\\pandas\\tests\\io\n",
      "    copying pandas\\tests\\io\\conftest.py -> build\\lib.win-amd64-3.9\\pandas\\tests\\io\n",
      "    copying pandas\\tests\\io\\generate_legacy_storage_files.py -> build\\lib.win-amd64-3.9\\pandas\\tests\\io\n",
      "    copying pandas\\tests\\io\\test_clipboard.py -> build\\lib.win-amd64-3.9\\pandas\\tests\\io\n",
      "    copying pandas\\tests\\io\\test_common.py -> build\\lib.win-amd64-3.9\\pandas\\tests\\io\n",
      "    copying pandas\\tests\\io\\test_compression.py -> build\\lib.win-amd64-3.9\\pandas\\tests\\io\n",
      "    copying pandas\\tests\\io\\test_date_converters.py -> build\\lib.win-amd64-3.9\\pandas\\tests\\io\n",
      "    copying pandas\\tests\\io\\test_excel.py -> build\\lib.win-amd64-3.9\\pandas\\tests\\io\n",
      "    copying pandas\\tests\\io\\test_feather.py -> build\\lib.win-amd64-3.9\\pandas\\tests\\io\n",
      "    copying pandas\\tests\\io\\test_gbq.py -> build\\lib.win-amd64-3.9\\pandas\\tests\\io\n",
      "    copying pandas\\tests\\io\\test_gcs.py -> build\\lib.win-amd64-3.9\\pandas\\tests\\io\n",
      "    copying pandas\\tests\\io\\test_html.py -> build\\lib.win-amd64-3.9\\pandas\\tests\\io\n",
      "    copying pandas\\tests\\io\\test_packers.py -> build\\lib.win-amd64-3.9\\pandas\\tests\\io\n",
      "    copying pandas\\tests\\io\\test_parquet.py -> build\\lib.win-amd64-3.9\\pandas\\tests\\io\n",
      "    copying pandas\\tests\\io\\test_pickle.py -> build\\lib.win-amd64-3.9\\pandas\\tests\\io\n",
      "    copying pandas\\tests\\io\\test_pytables.py -> build\\lib.win-amd64-3.9\\pandas\\tests\\io\n",
      "    copying pandas\\tests\\io\\test_s3.py -> build\\lib.win-amd64-3.9\\pandas\\tests\\io\n",
      "    copying pandas\\tests\\io\\test_sql.py -> build\\lib.win-amd64-3.9\\pandas\\tests\\io\n",
      "    copying pandas\\tests\\io\\test_stata.py -> build\\lib.win-amd64-3.9\\pandas\\tests\\io\n",
      "    copying pandas\\tests\\io\\__init__.py -> build\\lib.win-amd64-3.9\\pandas\\tests\\io\n",
      "    creating build\\lib.win-amd64-3.9\\pandas\\tests\\plotting\n",
      "    copying pandas\\tests\\plotting\\common.py -> build\\lib.win-amd64-3.9\\pandas\\tests\\plotting\n",
      "    copying pandas\\tests\\plotting\\test_boxplot_method.py -> build\\lib.win-amd64-3.9\\pandas\\tests\\plotting\n",
      "    copying pandas\\tests\\plotting\\test_converter.py -> build\\lib.win-amd64-3.9\\pandas\\tests\\plotting\n",
      "    copying pandas\\tests\\plotting\\test_datetimelike.py -> build\\lib.win-amd64-3.9\\pandas\\tests\\plotting\n",
      "    copying pandas\\tests\\plotting\\test_frame.py -> build\\lib.win-amd64-3.9\\pandas\\tests\\plotting\n",
      "    copying pandas\\tests\\plotting\\test_groupby.py -> build\\lib.win-amd64-3.9\\pandas\\tests\\plotting\n",
      "    copying pandas\\tests\\plotting\\test_hist_method.py -> build\\lib.win-amd64-3.9\\pandas\\tests\\plotting\n",
      "    copying pandas\\tests\\plotting\\test_misc.py -> build\\lib.win-amd64-3.9\\pandas\\tests\\plotting\n",
      "    copying pandas\\tests\\plotting\\test_series.py -> build\\lib.win-amd64-3.9\\pandas\\tests\\plotting\n",
      "    copying pandas\\tests\\plotting\\__init__.py -> build\\lib.win-amd64-3.9\\pandas\\tests\\plotting\n",
      "    creating build\\lib.win-amd64-3.9\\pandas\\tests\\reductions\n",
      "    copying pandas\\tests\\reductions\\test_reductions.py -> build\\lib.win-amd64-3.9\\pandas\\tests\\reductions\n",
      "    copying pandas\\tests\\reductions\\test_stat_reductions.py -> build\\lib.win-amd64-3.9\\pandas\\tests\\reductions\n",
      "    copying pandas\\tests\\reductions\\__init__.py -> build\\lib.win-amd64-3.9\\pandas\\tests\\reductions\n",
      "    creating build\\lib.win-amd64-3.9\\pandas\\tests\\resample\n",
      "    copying pandas\\tests\\resample\\conftest.py -> build\\lib.win-amd64-3.9\\pandas\\tests\\resample\n",
      "    copying pandas\\tests\\resample\\test_base.py -> build\\lib.win-amd64-3.9\\pandas\\tests\\resample\n",
      "    copying pandas\\tests\\resample\\test_datetime_index.py -> build\\lib.win-amd64-3.9\\pandas\\tests\\resample\n",
      "    copying pandas\\tests\\resample\\test_period_index.py -> build\\lib.win-amd64-3.9\\pandas\\tests\\resample\n",
      "    copying pandas\\tests\\resample\\test_resampler_grouper.py -> build\\lib.win-amd64-3.9\\pandas\\tests\\resample\n",
      "    copying pandas\\tests\\resample\\test_resample_api.py -> build\\lib.win-amd64-3.9\\pandas\\tests\\resample\n",
      "    copying pandas\\tests\\resample\\test_timedelta.py -> build\\lib.win-amd64-3.9\\pandas\\tests\\resample\n",
      "    copying pandas\\tests\\resample\\test_time_grouper.py -> build\\lib.win-amd64-3.9\\pandas\\tests\\resample\n",
      "    copying pandas\\tests\\resample\\__init__.py -> build\\lib.win-amd64-3.9\\pandas\\tests\\resample\n",
      "    creating build\\lib.win-amd64-3.9\\pandas\\tests\\reshape\n",
      "    copying pandas\\tests\\reshape\\test_concat.py -> build\\lib.win-amd64-3.9\\pandas\\tests\\reshape\n",
      "    copying pandas\\tests\\reshape\\test_cut.py -> build\\lib.win-amd64-3.9\\pandas\\tests\\reshape\n",
      "    copying pandas\\tests\\reshape\\test_melt.py -> build\\lib.win-amd64-3.9\\pandas\\tests\\reshape\n",
      "    copying pandas\\tests\\reshape\\test_pivot.py -> build\\lib.win-amd64-3.9\\pandas\\tests\\reshape\n",
      "    copying pandas\\tests\\reshape\\test_qcut.py -> build\\lib.win-amd64-3.9\\pandas\\tests\\reshape\n",
      "    copying pandas\\tests\\reshape\\test_reshape.py -> build\\lib.win-amd64-3.9\\pandas\\tests\\reshape\n",
      "    copying pandas\\tests\\reshape\\test_union_categoricals.py -> build\\lib.win-amd64-3.9\\pandas\\tests\\reshape\n",
      "    copying pandas\\tests\\reshape\\test_util.py -> build\\lib.win-amd64-3.9\\pandas\\tests\\reshape\n",
      "    copying pandas\\tests\\reshape\\__init__.py -> build\\lib.win-amd64-3.9\\pandas\\tests\\reshape\n",
      "    creating build\\lib.win-amd64-3.9\\pandas\\tests\\scalar\n",
      "    copying pandas\\tests\\scalar\\test_nat.py -> build\\lib.win-amd64-3.9\\pandas\\tests\\scalar\n",
      "    copying pandas\\tests\\scalar\\__init__.py -> build\\lib.win-amd64-3.9\\pandas\\tests\\scalar\n",
      "    creating build\\lib.win-amd64-3.9\\pandas\\tests\\series\n",
      "    copying pandas\\tests\\series\\common.py -> build\\lib.win-amd64-3.9\\pandas\\tests\\series\n",
      "    copying pandas\\tests\\series\\conftest.py -> build\\lib.win-amd64-3.9\\pandas\\tests\\series\n",
      "    copying pandas\\tests\\series\\test_alter_axes.py -> build\\lib.win-amd64-3.9\\pandas\\tests\\series\n",
      "    copying pandas\\tests\\series\\test_analytics.py -> build\\lib.win-amd64-3.9\\pandas\\tests\\series\n",
      "    copying pandas\\tests\\series\\test_api.py -> build\\lib.win-amd64-3.9\\pandas\\tests\\series\n",
      "    copying pandas\\tests\\series\\test_apply.py -> build\\lib.win-amd64-3.9\\pandas\\tests\\series\n",
      "    copying pandas\\tests\\series\\test_arithmetic.py -> build\\lib.win-amd64-3.9\\pandas\\tests\\series\n",
      "    copying pandas\\tests\\series\\test_asof.py -> build\\lib.win-amd64-3.9\\pandas\\tests\\series\n",
      "    copying pandas\\tests\\series\\test_block_internals.py -> build\\lib.win-amd64-3.9\\pandas\\tests\\series\n",
      "    copying pandas\\tests\\series\\test_combine_concat.py -> build\\lib.win-amd64-3.9\\pandas\\tests\\series\n",
      "    copying pandas\\tests\\series\\test_constructors.py -> build\\lib.win-amd64-3.9\\pandas\\tests\\series\n",
      "    copying pandas\\tests\\series\\test_datetime_values.py -> build\\lib.win-amd64-3.9\\pandas\\tests\\series\n",
      "    copying pandas\\tests\\series\\test_dtypes.py -> build\\lib.win-amd64-3.9\\pandas\\tests\\series\n",
      "    copying pandas\\tests\\series\\test_duplicates.py -> build\\lib.win-amd64-3.9\\pandas\\tests\\series\n",
      "    copying pandas\\tests\\series\\test_internals.py -> build\\lib.win-amd64-3.9\\pandas\\tests\\series\n",
      "    copying pandas\\tests\\series\\test_io.py -> build\\lib.win-amd64-3.9\\pandas\\tests\\series\n",
      "    copying pandas\\tests\\series\\test_missing.py -> build\\lib.win-amd64-3.9\\pandas\\tests\\series\n",
      "    copying pandas\\tests\\series\\test_operators.py -> build\\lib.win-amd64-3.9\\pandas\\tests\\series\n",
      "    copying pandas\\tests\\series\\test_period.py -> build\\lib.win-amd64-3.9\\pandas\\tests\\series\n",
      "    copying pandas\\tests\\series\\test_quantile.py -> build\\lib.win-amd64-3.9\\pandas\\tests\\series\n",
      "    copying pandas\\tests\\series\\test_rank.py -> build\\lib.win-amd64-3.9\\pandas\\tests\\series\n",
      "    copying pandas\\tests\\series\\test_replace.py -> build\\lib.win-amd64-3.9\\pandas\\tests\\series\n",
      "    copying pandas\\tests\\series\\test_repr.py -> build\\lib.win-amd64-3.9\\pandas\\tests\\series\n",
      "    copying pandas\\tests\\series\\test_sorting.py -> build\\lib.win-amd64-3.9\\pandas\\tests\\series\n",
      "    copying pandas\\tests\\series\\test_subclass.py -> build\\lib.win-amd64-3.9\\pandas\\tests\\series\n",
      "    copying pandas\\tests\\series\\test_timeseries.py -> build\\lib.win-amd64-3.9\\pandas\\tests\\series\n",
      "    copying pandas\\tests\\series\\test_timezones.py -> build\\lib.win-amd64-3.9\\pandas\\tests\\series\n",
      "    copying pandas\\tests\\series\\test_validate.py -> build\\lib.win-amd64-3.9\\pandas\\tests\\series\n",
      "    copying pandas\\tests\\series\\__init__.py -> build\\lib.win-amd64-3.9\\pandas\\tests\\series\n",
      "    creating build\\lib.win-amd64-3.9\\pandas\\tests\\sparse\n",
      "    copying pandas\\tests\\sparse\\common.py -> build\\lib.win-amd64-3.9\\pandas\\tests\\sparse\n",
      "    copying pandas\\tests\\sparse\\test_combine_concat.py -> build\\lib.win-amd64-3.9\\pandas\\tests\\sparse\n",
      "    copying pandas\\tests\\sparse\\test_format.py -> build\\lib.win-amd64-3.9\\pandas\\tests\\sparse\n",
      "    copying pandas\\tests\\sparse\\test_groupby.py -> build\\lib.win-amd64-3.9\\pandas\\tests\\sparse\n",
      "    copying pandas\\tests\\sparse\\test_indexing.py -> build\\lib.win-amd64-3.9\\pandas\\tests\\sparse\n",
      "    copying pandas\\tests\\sparse\\test_pivot.py -> build\\lib.win-amd64-3.9\\pandas\\tests\\sparse\n",
      "    copying pandas\\tests\\sparse\\test_reshape.py -> build\\lib.win-amd64-3.9\\pandas\\tests\\sparse\n",
      "    copying pandas\\tests\\sparse\\__init__.py -> build\\lib.win-amd64-3.9\\pandas\\tests\\sparse\n",
      "    creating build\\lib.win-amd64-3.9\\pandas\\tests\\tools\n",
      "    copying pandas\\tests\\tools\\test_numeric.py -> build\\lib.win-amd64-3.9\\pandas\\tests\\tools\n",
      "    copying pandas\\tests\\tools\\__init__.py -> build\\lib.win-amd64-3.9\\pandas\\tests\\tools\n",
      "    creating build\\lib.win-amd64-3.9\\pandas\\tests\\tseries\n",
      "    copying pandas\\tests\\tseries\\test_frequencies.py -> build\\lib.win-amd64-3.9\\pandas\\tests\\tseries\n",
      "    copying pandas\\tests\\tseries\\test_holiday.py -> build\\lib.win-amd64-3.9\\pandas\\tests\\tseries\n",
      "    copying pandas\\tests\\tseries\\__init__.py -> build\\lib.win-amd64-3.9\\pandas\\tests\\tseries\n",
      "    creating build\\lib.win-amd64-3.9\\pandas\\tests\\tslibs\n",
      "    copying pandas\\tests\\tslibs\\test_api.py -> build\\lib.win-amd64-3.9\\pandas\\tests\\tslibs\n",
      "    copying pandas\\tests\\tslibs\\test_array_to_datetime.py -> build\\lib.win-amd64-3.9\\pandas\\tests\\tslibs\n",
      "    copying pandas\\tests\\tslibs\\test_ccalendar.py -> build\\lib.win-amd64-3.9\\pandas\\tests\\tslibs\n",
      "    copying pandas\\tests\\tslibs\\test_conversion.py -> build\\lib.win-amd64-3.9\\pandas\\tests\\tslibs\n",
      "    copying pandas\\tests\\tslibs\\test_libfrequencies.py -> build\\lib.win-amd64-3.9\\pandas\\tests\\tslibs\n",
      "    copying pandas\\tests\\tslibs\\test_liboffsets.py -> build\\lib.win-amd64-3.9\\pandas\\tests\\tslibs\n",
      "    copying pandas\\tests\\tslibs\\test_normalize_date.py -> build\\lib.win-amd64-3.9\\pandas\\tests\\tslibs\n",
      "    copying pandas\\tests\\tslibs\\test_parse_iso8601.py -> build\\lib.win-amd64-3.9\\pandas\\tests\\tslibs\n",
      "    copying pandas\\tests\\tslibs\\test_parsing.py -> build\\lib.win-amd64-3.9\\pandas\\tests\\tslibs\n",
      "    copying pandas\\tests\\tslibs\\test_period_asfreq.py -> build\\lib.win-amd64-3.9\\pandas\\tests\\tslibs\n",
      "    copying pandas\\tests\\tslibs\\test_timedeltas.py -> build\\lib.win-amd64-3.9\\pandas\\tests\\tslibs\n",
      "    copying pandas\\tests\\tslibs\\test_timezones.py -> build\\lib.win-amd64-3.9\\pandas\\tests\\tslibs\n",
      "    copying pandas\\tests\\tslibs\\__init__.py -> build\\lib.win-amd64-3.9\\pandas\\tests\\tslibs\n",
      "    creating build\\lib.win-amd64-3.9\\pandas\\tests\\util\n",
      "    copying pandas\\tests\\util\\conftest.py -> build\\lib.win-amd64-3.9\\pandas\\tests\\util\n",
      "    copying pandas\\tests\\util\\test_assert_almost_equal.py -> build\\lib.win-amd64-3.9\\pandas\\tests\\util\n",
      "    copying pandas\\tests\\util\\test_assert_categorical_equal.py -> build\\lib.win-amd64-3.9\\pandas\\tests\\util\n",
      "    copying pandas\\tests\\util\\test_assert_extension_array_equal.py -> build\\lib.win-amd64-3.9\\pandas\\tests\\util\n",
      "    copying pandas\\tests\\util\\test_assert_frame_equal.py -> build\\lib.win-amd64-3.9\\pandas\\tests\\util\n",
      "    copying pandas\\tests\\util\\test_assert_index_equal.py -> build\\lib.win-amd64-3.9\\pandas\\tests\\util\n",
      "    copying pandas\\tests\\util\\test_assert_interval_array_equal.py -> build\\lib.win-amd64-3.9\\pandas\\tests\\util\n",
      "    copying pandas\\tests\\util\\test_assert_numpy_array_equal.py -> build\\lib.win-amd64-3.9\\pandas\\tests\\util\n",
      "    copying pandas\\tests\\util\\test_assert_series_equal.py -> build\\lib.win-amd64-3.9\\pandas\\tests\\util\n",
      "    copying pandas\\tests\\util\\test_deprecate.py -> build\\lib.win-amd64-3.9\\pandas\\tests\\util\n",
      "    copying pandas\\tests\\util\\test_deprecate_kwarg.py -> build\\lib.win-amd64-3.9\\pandas\\tests\\util\n",
      "    copying pandas\\tests\\util\\test_hashing.py -> build\\lib.win-amd64-3.9\\pandas\\tests\\util\n",
      "    copying pandas\\tests\\util\\test_locale.py -> build\\lib.win-amd64-3.9\\pandas\\tests\\util\n",
      "    copying pandas\\tests\\util\\test_move.py -> build\\lib.win-amd64-3.9\\pandas\\tests\\util\n",
      "    copying pandas\\tests\\util\\test_safe_import.py -> build\\lib.win-amd64-3.9\\pandas\\tests\\util\n",
      "    copying pandas\\tests\\util\\test_util.py -> build\\lib.win-amd64-3.9\\pandas\\tests\\util\n",
      "    copying pandas\\tests\\util\\test_validate_args.py -> build\\lib.win-amd64-3.9\\pandas\\tests\\util\n",
      "    copying pandas\\tests\\util\\test_validate_args_and_kwargs.py -> build\\lib.win-amd64-3.9\\pandas\\tests\\util\n",
      "    copying pandas\\tests\\util\\test_validate_kwargs.py -> build\\lib.win-amd64-3.9\\pandas\\tests\\util\n",
      "    copying pandas\\tests\\util\\__init__.py -> build\\lib.win-amd64-3.9\\pandas\\tests\\util\n",
      "    creating build\\lib.win-amd64-3.9\\pandas\\tests\\arrays\\categorical\n",
      "    copying pandas\\tests\\arrays\\categorical\\common.py -> build\\lib.win-amd64-3.9\\pandas\\tests\\arrays\\categorical\n",
      "    copying pandas\\tests\\arrays\\categorical\\conftest.py -> build\\lib.win-amd64-3.9\\pandas\\tests\\arrays\\categorical\n",
      "    copying pandas\\tests\\arrays\\categorical\\test_algos.py -> build\\lib.win-amd64-3.9\\pandas\\tests\\arrays\\categorical\n",
      "    copying pandas\\tests\\arrays\\categorical\\test_analytics.py -> build\\lib.win-amd64-3.9\\pandas\\tests\\arrays\\categorical\n",
      "    copying pandas\\tests\\arrays\\categorical\\test_api.py -> build\\lib.win-amd64-3.9\\pandas\\tests\\arrays\\categorical\n",
      "    copying pandas\\tests\\arrays\\categorical\\test_constructors.py -> build\\lib.win-amd64-3.9\\pandas\\tests\\arrays\\categorical\n",
      "    copying pandas\\tests\\arrays\\categorical\\test_dtypes.py -> build\\lib.win-amd64-3.9\\pandas\\tests\\arrays\\categorical\n",
      "    copying pandas\\tests\\arrays\\categorical\\test_indexing.py -> build\\lib.win-amd64-3.9\\pandas\\tests\\arrays\\categorical\n",
      "    copying pandas\\tests\\arrays\\categorical\\test_missing.py -> build\\lib.win-amd64-3.9\\pandas\\tests\\arrays\\categorical\n",
      "    copying pandas\\tests\\arrays\\categorical\\test_operators.py -> build\\lib.win-amd64-3.9\\pandas\\tests\\arrays\\categorical\n",
      "    copying pandas\\tests\\arrays\\categorical\\test_repr.py -> build\\lib.win-amd64-3.9\\pandas\\tests\\arrays\\categorical\n",
      "    copying pandas\\tests\\arrays\\categorical\\test_sorting.py -> build\\lib.win-amd64-3.9\\pandas\\tests\\arrays\\categorical\n",
      "    copying pandas\\tests\\arrays\\categorical\\test_subclass.py -> build\\lib.win-amd64-3.9\\pandas\\tests\\arrays\\categorical\n",
      "    copying pandas\\tests\\arrays\\categorical\\test_warnings.py -> build\\lib.win-amd64-3.9\\pandas\\tests\\arrays\\categorical\n",
      "    copying pandas\\tests\\arrays\\categorical\\__init__.py -> build\\lib.win-amd64-3.9\\pandas\\tests\\arrays\\categorical\n",
      "    creating build\\lib.win-amd64-3.9\\pandas\\tests\\arrays\\interval\n",
      "    copying pandas\\tests\\arrays\\interval\\test_interval.py -> build\\lib.win-amd64-3.9\\pandas\\tests\\arrays\\interval\n",
      "    copying pandas\\tests\\arrays\\interval\\test_ops.py -> build\\lib.win-amd64-3.9\\pandas\\tests\\arrays\\interval\n",
      "    copying pandas\\tests\\arrays\\interval\\__init__.py -> build\\lib.win-amd64-3.9\\pandas\\tests\\arrays\\interval\n",
      "    creating build\\lib.win-amd64-3.9\\pandas\\tests\\arrays\\sparse\n",
      "    copying pandas\\tests\\arrays\\sparse\\test_arithmetics.py -> build\\lib.win-amd64-3.9\\pandas\\tests\\arrays\\sparse\n",
      "    copying pandas\\tests\\arrays\\sparse\\test_array.py -> build\\lib.win-amd64-3.9\\pandas\\tests\\arrays\\sparse\n",
      "    copying pandas\\tests\\arrays\\sparse\\test_dtype.py -> build\\lib.win-amd64-3.9\\pandas\\tests\\arrays\\sparse\n",
      "    copying pandas\\tests\\arrays\\sparse\\test_libsparse.py -> build\\lib.win-amd64-3.9\\pandas\\tests\\arrays\\sparse\n",
      "    copying pandas\\tests\\arrays\\sparse\\__init__.py -> build\\lib.win-amd64-3.9\\pandas\\tests\\arrays\\sparse\n",
      "    creating build\\lib.win-amd64-3.9\\pandas\\tests\\dtypes\\cast\n",
      "    copying pandas\\tests\\dtypes\\cast\\test_construct_from_scalar.py -> build\\lib.win-amd64-3.9\\pandas\\tests\\dtypes\\cast\n",
      "    copying pandas\\tests\\dtypes\\cast\\test_construct_ndarray.py -> build\\lib.win-amd64-3.9\\pandas\\tests\\dtypes\\cast\n",
      "    copying pandas\\tests\\dtypes\\cast\\test_construct_object_arr.py -> build\\lib.win-amd64-3.9\\pandas\\tests\\dtypes\\cast\n",
      "    copying pandas\\tests\\dtypes\\cast\\test_convert_objects.py -> build\\lib.win-amd64-3.9\\pandas\\tests\\dtypes\\cast\n",
      "    copying pandas\\tests\\dtypes\\cast\\test_downcast.py -> build\\lib.win-amd64-3.9\\pandas\\tests\\dtypes\\cast\n",
      "    copying pandas\\tests\\dtypes\\cast\\test_find_common_type.py -> build\\lib.win-amd64-3.9\\pandas\\tests\\dtypes\\cast\n",
      "    copying pandas\\tests\\dtypes\\cast\\test_infer_datetimelike.py -> build\\lib.win-amd64-3.9\\pandas\\tests\\dtypes\\cast\n",
      "    copying pandas\\tests\\dtypes\\cast\\test_infer_dtype.py -> build\\lib.win-amd64-3.9\\pandas\\tests\\dtypes\\cast\n",
      "    copying pandas\\tests\\dtypes\\cast\\__init__.py -> build\\lib.win-amd64-3.9\\pandas\\tests\\dtypes\\cast\n",
      "    creating build\\lib.win-amd64-3.9\\pandas\\tests\\extension\\arrow\n",
      "    copying pandas\\tests\\extension\\arrow\\bool.py -> build\\lib.win-amd64-3.9\\pandas\\tests\\extension\\arrow\n",
      "    copying pandas\\tests\\extension\\arrow\\test_bool.py -> build\\lib.win-amd64-3.9\\pandas\\tests\\extension\\arrow\n",
      "    copying pandas\\tests\\extension\\arrow\\__init__.py -> build\\lib.win-amd64-3.9\\pandas\\tests\\extension\\arrow\n",
      "    creating build\\lib.win-amd64-3.9\\pandas\\tests\\extension\\base\n",
      "    copying pandas\\tests\\extension\\base\\base.py -> build\\lib.win-amd64-3.9\\pandas\\tests\\extension\\base\n",
      "    copying pandas\\tests\\extension\\base\\casting.py -> build\\lib.win-amd64-3.9\\pandas\\tests\\extension\\base\n",
      "    copying pandas\\tests\\extension\\base\\constructors.py -> build\\lib.win-amd64-3.9\\pandas\\tests\\extension\\base\n",
      "    copying pandas\\tests\\extension\\base\\dtype.py -> build\\lib.win-amd64-3.9\\pandas\\tests\\extension\\base\n",
      "    copying pandas\\tests\\extension\\base\\getitem.py -> build\\lib.win-amd64-3.9\\pandas\\tests\\extension\\base\n",
      "    copying pandas\\tests\\extension\\base\\groupby.py -> build\\lib.win-amd64-3.9\\pandas\\tests\\extension\\base\n",
      "    copying pandas\\tests\\extension\\base\\interface.py -> build\\lib.win-amd64-3.9\\pandas\\tests\\extension\\base\n",
      "    copying pandas\\tests\\extension\\base\\io.py -> build\\lib.win-amd64-3.9\\pandas\\tests\\extension\\base\n",
      "    copying pandas\\tests\\extension\\base\\methods.py -> build\\lib.win-amd64-3.9\\pandas\\tests\\extension\\base\n",
      "    copying pandas\\tests\\extension\\base\\missing.py -> build\\lib.win-amd64-3.9\\pandas\\tests\\extension\\base\n",
      "    copying pandas\\tests\\extension\\base\\ops.py -> build\\lib.win-amd64-3.9\\pandas\\tests\\extension\\base\n",
      "    copying pandas\\tests\\extension\\base\\printing.py -> build\\lib.win-amd64-3.9\\pandas\\tests\\extension\\base\n",
      "    copying pandas\\tests\\extension\\base\\reduce.py -> build\\lib.win-amd64-3.9\\pandas\\tests\\extension\\base\n",
      "    copying pandas\\tests\\extension\\base\\reshaping.py -> build\\lib.win-amd64-3.9\\pandas\\tests\\extension\\base\n",
      "    copying pandas\\tests\\extension\\base\\setitem.py -> build\\lib.win-amd64-3.9\\pandas\\tests\\extension\\base\n",
      "    copying pandas\\tests\\extension\\base\\__init__.py -> build\\lib.win-amd64-3.9\\pandas\\tests\\extension\\base\n",
      "    creating build\\lib.win-amd64-3.9\\pandas\\tests\\extension\\decimal\n",
      "    copying pandas\\tests\\extension\\decimal\\array.py -> build\\lib.win-amd64-3.9\\pandas\\tests\\extension\\decimal\n",
      "    copying pandas\\tests\\extension\\decimal\\test_decimal.py -> build\\lib.win-amd64-3.9\\pandas\\tests\\extension\\decimal\n",
      "    copying pandas\\tests\\extension\\decimal\\__init__.py -> build\\lib.win-amd64-3.9\\pandas\\tests\\extension\\decimal\n",
      "    creating build\\lib.win-amd64-3.9\\pandas\\tests\\extension\\json\n",
      "    copying pandas\\tests\\extension\\json\\array.py -> build\\lib.win-amd64-3.9\\pandas\\tests\\extension\\json\n",
      "    copying pandas\\tests\\extension\\json\\test_json.py -> build\\lib.win-amd64-3.9\\pandas\\tests\\extension\\json\n",
      "    copying pandas\\tests\\extension\\json\\__init__.py -> build\\lib.win-amd64-3.9\\pandas\\tests\\extension\\json\n",
      "    creating build\\lib.win-amd64-3.9\\pandas\\tests\\extension\\numpy_\n",
      "    copying pandas\\tests\\extension\\numpy_\\conftest.py -> build\\lib.win-amd64-3.9\\pandas\\tests\\extension\\numpy_\n",
      "    copying pandas\\tests\\extension\\numpy_\\test_numpy.py -> build\\lib.win-amd64-3.9\\pandas\\tests\\extension\\numpy_\n",
      "    copying pandas\\tests\\extension\\numpy_\\test_numpy_nested.py -> build\\lib.win-amd64-3.9\\pandas\\tests\\extension\\numpy_\n",
      "    copying pandas\\tests\\extension\\numpy_\\__init__.py -> build\\lib.win-amd64-3.9\\pandas\\tests\\extension\\numpy_\n",
      "    creating build\\lib.win-amd64-3.9\\pandas\\tests\\groupby\\aggregate\n",
      "    copying pandas\\tests\\groupby\\aggregate\\test_aggregate.py -> build\\lib.win-amd64-3.9\\pandas\\tests\\groupby\\aggregate\n",
      "    copying pandas\\tests\\groupby\\aggregate\\test_cython.py -> build\\lib.win-amd64-3.9\\pandas\\tests\\groupby\\aggregate\n",
      "    copying pandas\\tests\\groupby\\aggregate\\test_other.py -> build\\lib.win-amd64-3.9\\pandas\\tests\\groupby\\aggregate\n",
      "    copying pandas\\tests\\groupby\\aggregate\\__init__.py -> build\\lib.win-amd64-3.9\\pandas\\tests\\groupby\\aggregate\n",
      "    creating build\\lib.win-amd64-3.9\\pandas\\tests\\indexes\\datetimes\n",
      "    copying pandas\\tests\\indexes\\datetimes\\test_arithmetic.py -> build\\lib.win-amd64-3.9\\pandas\\tests\\indexes\\datetimes\n",
      "    copying pandas\\tests\\indexes\\datetimes\\test_astype.py -> build\\lib.win-amd64-3.9\\pandas\\tests\\indexes\\datetimes\n",
      "    copying pandas\\tests\\indexes\\datetimes\\test_construction.py -> build\\lib.win-amd64-3.9\\pandas\\tests\\indexes\\datetimes\n",
      "    copying pandas\\tests\\indexes\\datetimes\\test_datetime.py -> build\\lib.win-amd64-3.9\\pandas\\tests\\indexes\\datetimes\n",
      "    copying pandas\\tests\\indexes\\datetimes\\test_datetimelike.py -> build\\lib.win-amd64-3.9\\pandas\\tests\\indexes\\datetimes\n",
      "    copying pandas\\tests\\indexes\\datetimes\\test_date_range.py -> build\\lib.win-amd64-3.9\\pandas\\tests\\indexes\\datetimes\n",
      "    copying pandas\\tests\\indexes\\datetimes\\test_formats.py -> build\\lib.win-amd64-3.9\\pandas\\tests\\indexes\\datetimes\n",
      "    copying pandas\\tests\\indexes\\datetimes\\test_indexing.py -> build\\lib.win-amd64-3.9\\pandas\\tests\\indexes\\datetimes\n",
      "    copying pandas\\tests\\indexes\\datetimes\\test_misc.py -> build\\lib.win-amd64-3.9\\pandas\\tests\\indexes\\datetimes\n",
      "    copying pandas\\tests\\indexes\\datetimes\\test_missing.py -> build\\lib.win-amd64-3.9\\pandas\\tests\\indexes\\datetimes\n",
      "    copying pandas\\tests\\indexes\\datetimes\\test_ops.py -> build\\lib.win-amd64-3.9\\pandas\\tests\\indexes\\datetimes\n",
      "    copying pandas\\tests\\indexes\\datetimes\\test_partial_slicing.py -> build\\lib.win-amd64-3.9\\pandas\\tests\\indexes\\datetimes\n",
      "    copying pandas\\tests\\indexes\\datetimes\\test_scalar_compat.py -> build\\lib.win-amd64-3.9\\pandas\\tests\\indexes\\datetimes\n",
      "    copying pandas\\tests\\indexes\\datetimes\\test_setops.py -> build\\lib.win-amd64-3.9\\pandas\\tests\\indexes\\datetimes\n",
      "    copying pandas\\tests\\indexes\\datetimes\\test_timezones.py -> build\\lib.win-amd64-3.9\\pandas\\tests\\indexes\\datetimes\n",
      "    copying pandas\\tests\\indexes\\datetimes\\test_tools.py -> build\\lib.win-amd64-3.9\\pandas\\tests\\indexes\\datetimes\n",
      "    copying pandas\\tests\\indexes\\datetimes\\__init__.py -> build\\lib.win-amd64-3.9\\pandas\\tests\\indexes\\datetimes\n",
      "    creating build\\lib.win-amd64-3.9\\pandas\\tests\\indexes\\interval\n",
      "    copying pandas\\tests\\indexes\\interval\\test_astype.py -> build\\lib.win-amd64-3.9\\pandas\\tests\\indexes\\interval\n",
      "    copying pandas\\tests\\indexes\\interval\\test_construction.py -> build\\lib.win-amd64-3.9\\pandas\\tests\\indexes\\interval\n",
      "    copying pandas\\tests\\indexes\\interval\\test_interval.py -> build\\lib.win-amd64-3.9\\pandas\\tests\\indexes\\interval\n",
      "    copying pandas\\tests\\indexes\\interval\\test_interval_new.py -> build\\lib.win-amd64-3.9\\pandas\\tests\\indexes\\interval\n",
      "    copying pandas\\tests\\indexes\\interval\\test_interval_range.py -> build\\lib.win-amd64-3.9\\pandas\\tests\\indexes\\interval\n",
      "    copying pandas\\tests\\indexes\\interval\\test_interval_tree.py -> build\\lib.win-amd64-3.9\\pandas\\tests\\indexes\\interval\n",
      "    copying pandas\\tests\\indexes\\interval\\__init__.py -> build\\lib.win-amd64-3.9\\pandas\\tests\\indexes\\interval\n",
      "    creating build\\lib.win-amd64-3.9\\pandas\\tests\\indexes\\multi\n",
      "    copying pandas\\tests\\indexes\\multi\\conftest.py -> build\\lib.win-amd64-3.9\\pandas\\tests\\indexes\\multi\n",
      "    copying pandas\\tests\\indexes\\multi\\test_analytics.py -> build\\lib.win-amd64-3.9\\pandas\\tests\\indexes\\multi\n",
      "    copying pandas\\tests\\indexes\\multi\\test_astype.py -> build\\lib.win-amd64-3.9\\pandas\\tests\\indexes\\multi\n",
      "    copying pandas\\tests\\indexes\\multi\\test_compat.py -> build\\lib.win-amd64-3.9\\pandas\\tests\\indexes\\multi\n",
      "    copying pandas\\tests\\indexes\\multi\\test_constructor.py -> build\\lib.win-amd64-3.9\\pandas\\tests\\indexes\\multi\n",
      "    copying pandas\\tests\\indexes\\multi\\test_contains.py -> build\\lib.win-amd64-3.9\\pandas\\tests\\indexes\\multi\n",
      "    copying pandas\\tests\\indexes\\multi\\test_conversion.py -> build\\lib.win-amd64-3.9\\pandas\\tests\\indexes\\multi\n",
      "    copying pandas\\tests\\indexes\\multi\\test_copy.py -> build\\lib.win-amd64-3.9\\pandas\\tests\\indexes\\multi\n",
      "    copying pandas\\tests\\indexes\\multi\\test_drop.py -> build\\lib.win-amd64-3.9\\pandas\\tests\\indexes\\multi\n",
      "    copying pandas\\tests\\indexes\\multi\\test_duplicates.py -> build\\lib.win-amd64-3.9\\pandas\\tests\\indexes\\multi\n",
      "    copying pandas\\tests\\indexes\\multi\\test_equivalence.py -> build\\lib.win-amd64-3.9\\pandas\\tests\\indexes\\multi\n",
      "    copying pandas\\tests\\indexes\\multi\\test_format.py -> build\\lib.win-amd64-3.9\\pandas\\tests\\indexes\\multi\n",
      "    copying pandas\\tests\\indexes\\multi\\test_get_set.py -> build\\lib.win-amd64-3.9\\pandas\\tests\\indexes\\multi\n",
      "    copying pandas\\tests\\indexes\\multi\\test_indexing.py -> build\\lib.win-amd64-3.9\\pandas\\tests\\indexes\\multi\n",
      "    copying pandas\\tests\\indexes\\multi\\test_integrity.py -> build\\lib.win-amd64-3.9\\pandas\\tests\\indexes\\multi\n",
      "    copying pandas\\tests\\indexes\\multi\\test_join.py -> build\\lib.win-amd64-3.9\\pandas\\tests\\indexes\\multi\n",
      "    copying pandas\\tests\\indexes\\multi\\test_missing.py -> build\\lib.win-amd64-3.9\\pandas\\tests\\indexes\\multi\n",
      "    copying pandas\\tests\\indexes\\multi\\test_monotonic.py -> build\\lib.win-amd64-3.9\\pandas\\tests\\indexes\\multi\n",
      "    copying pandas\\tests\\indexes\\multi\\test_names.py -> build\\lib.win-amd64-3.9\\pandas\\tests\\indexes\\multi\n",
      "    copying pandas\\tests\\indexes\\multi\\test_partial_indexing.py -> build\\lib.win-amd64-3.9\\pandas\\tests\\indexes\\multi\n",
      "    copying pandas\\tests\\indexes\\multi\\test_reindex.py -> build\\lib.win-amd64-3.9\\pandas\\tests\\indexes\\multi\n",
      "    copying pandas\\tests\\indexes\\multi\\test_reshape.py -> build\\lib.win-amd64-3.9\\pandas\\tests\\indexes\\multi\n",
      "    copying pandas\\tests\\indexes\\multi\\test_set_ops.py -> build\\lib.win-amd64-3.9\\pandas\\tests\\indexes\\multi\n",
      "    copying pandas\\tests\\indexes\\multi\\test_sorting.py -> build\\lib.win-amd64-3.9\\pandas\\tests\\indexes\\multi\n",
      "    copying pandas\\tests\\indexes\\multi\\__init__.py -> build\\lib.win-amd64-3.9\\pandas\\tests\\indexes\\multi\n",
      "    creating build\\lib.win-amd64-3.9\\pandas\\tests\\indexes\\period\n",
      "    copying pandas\\tests\\indexes\\period\\test_arithmetic.py -> build\\lib.win-amd64-3.9\\pandas\\tests\\indexes\\period\n",
      "    copying pandas\\tests\\indexes\\period\\test_asfreq.py -> build\\lib.win-amd64-3.9\\pandas\\tests\\indexes\\period\n",
      "    copying pandas\\tests\\indexes\\period\\test_astype.py -> build\\lib.win-amd64-3.9\\pandas\\tests\\indexes\\period\n",
      "    copying pandas\\tests\\indexes\\period\\test_construction.py -> build\\lib.win-amd64-3.9\\pandas\\tests\\indexes\\period\n",
      "    copying pandas\\tests\\indexes\\period\\test_formats.py -> build\\lib.win-amd64-3.9\\pandas\\tests\\indexes\\period\n",
      "    copying pandas\\tests\\indexes\\period\\test_indexing.py -> build\\lib.win-amd64-3.9\\pandas\\tests\\indexes\\period\n",
      "    copying pandas\\tests\\indexes\\period\\test_ops.py -> build\\lib.win-amd64-3.9\\pandas\\tests\\indexes\\period\n",
      "    copying pandas\\tests\\indexes\\period\\test_partial_slicing.py -> build\\lib.win-amd64-3.9\\pandas\\tests\\indexes\\period\n",
      "    copying pandas\\tests\\indexes\\period\\test_period.py -> build\\lib.win-amd64-3.9\\pandas\\tests\\indexes\\period\n",
      "    copying pandas\\tests\\indexes\\period\\test_period_range.py -> build\\lib.win-amd64-3.9\\pandas\\tests\\indexes\\period\n",
      "    copying pandas\\tests\\indexes\\period\\test_scalar_compat.py -> build\\lib.win-amd64-3.9\\pandas\\tests\\indexes\\period\n",
      "    copying pandas\\tests\\indexes\\period\\test_setops.py -> build\\lib.win-amd64-3.9\\pandas\\tests\\indexes\\period\n",
      "    copying pandas\\tests\\indexes\\period\\test_tools.py -> build\\lib.win-amd64-3.9\\pandas\\tests\\indexes\\period\n",
      "    copying pandas\\tests\\indexes\\period\\__init__.py -> build\\lib.win-amd64-3.9\\pandas\\tests\\indexes\\period\n",
      "    creating build\\lib.win-amd64-3.9\\pandas\\tests\\indexes\\timedeltas\n",
      "    copying pandas\\tests\\indexes\\timedeltas\\test_arithmetic.py -> build\\lib.win-amd64-3.9\\pandas\\tests\\indexes\\timedeltas\n",
      "    copying pandas\\tests\\indexes\\timedeltas\\test_astype.py -> build\\lib.win-amd64-3.9\\pandas\\tests\\indexes\\timedeltas\n",
      "    copying pandas\\tests\\indexes\\timedeltas\\test_construction.py -> build\\lib.win-amd64-3.9\\pandas\\tests\\indexes\\timedeltas\n",
      "    copying pandas\\tests\\indexes\\timedeltas\\test_formats.py -> build\\lib.win-amd64-3.9\\pandas\\tests\\indexes\\timedeltas\n",
      "    copying pandas\\tests\\indexes\\timedeltas\\test_indexing.py -> build\\lib.win-amd64-3.9\\pandas\\tests\\indexes\\timedeltas\n",
      "    copying pandas\\tests\\indexes\\timedeltas\\test_ops.py -> build\\lib.win-amd64-3.9\\pandas\\tests\\indexes\\timedeltas\n",
      "    copying pandas\\tests\\indexes\\timedeltas\\test_partial_slicing.py -> build\\lib.win-amd64-3.9\\pandas\\tests\\indexes\\timedeltas\n",
      "    copying pandas\\tests\\indexes\\timedeltas\\test_scalar_compat.py -> build\\lib.win-amd64-3.9\\pandas\\tests\\indexes\\timedeltas\n",
      "    copying pandas\\tests\\indexes\\timedeltas\\test_setops.py -> build\\lib.win-amd64-3.9\\pandas\\tests\\indexes\\timedeltas\n",
      "    copying pandas\\tests\\indexes\\timedeltas\\test_timedelta.py -> build\\lib.win-amd64-3.9\\pandas\\tests\\indexes\\timedeltas\n",
      "    copying pandas\\tests\\indexes\\timedeltas\\test_timedelta_range.py -> build\\lib.win-amd64-3.9\\pandas\\tests\\indexes\\timedeltas\n",
      "    copying pandas\\tests\\indexes\\timedeltas\\test_tools.py -> build\\lib.win-amd64-3.9\\pandas\\tests\\indexes\\timedeltas\n",
      "    copying pandas\\tests\\indexes\\timedeltas\\__init__.py -> build\\lib.win-amd64-3.9\\pandas\\tests\\indexes\\timedeltas\n",
      "    creating build\\lib.win-amd64-3.9\\pandas\\tests\\indexing\\interval\n",
      "    copying pandas\\tests\\indexing\\interval\\test_interval.py -> build\\lib.win-amd64-3.9\\pandas\\tests\\indexing\\interval\n",
      "    copying pandas\\tests\\indexing\\interval\\test_interval_new.py -> build\\lib.win-amd64-3.9\\pandas\\tests\\indexing\\interval\n",
      "    copying pandas\\tests\\indexing\\interval\\__init__.py -> build\\lib.win-amd64-3.9\\pandas\\tests\\indexing\\interval\n",
      "    creating build\\lib.win-amd64-3.9\\pandas\\tests\\indexing\\multiindex\n",
      "    copying pandas\\tests\\indexing\\multiindex\\conftest.py -> build\\lib.win-amd64-3.9\\pandas\\tests\\indexing\\multiindex\n",
      "    copying pandas\\tests\\indexing\\multiindex\\test_chaining_and_caching.py -> build\\lib.win-amd64-3.9\\pandas\\tests\\indexing\\multiindex\n",
      "    copying pandas\\tests\\indexing\\multiindex\\test_datetime.py -> build\\lib.win-amd64-3.9\\pandas\\tests\\indexing\\multiindex\n",
      "    copying pandas\\tests\\indexing\\multiindex\\test_getitem.py -> build\\lib.win-amd64-3.9\\pandas\\tests\\indexing\\multiindex\n",
      "    copying pandas\\tests\\indexing\\multiindex\\test_iloc.py -> build\\lib.win-amd64-3.9\\pandas\\tests\\indexing\\multiindex\n",
      "    copying pandas\\tests\\indexing\\multiindex\\test_indexing_slow.py -> build\\lib.win-amd64-3.9\\pandas\\tests\\indexing\\multiindex\n",
      "    copying pandas\\tests\\indexing\\multiindex\\test_ix.py -> build\\lib.win-amd64-3.9\\pandas\\tests\\indexing\\multiindex\n",
      "    copying pandas\\tests\\indexing\\multiindex\\test_loc.py -> build\\lib.win-amd64-3.9\\pandas\\tests\\indexing\\multiindex\n",
      "    copying pandas\\tests\\indexing\\multiindex\\test_multiindex.py -> build\\lib.win-amd64-3.9\\pandas\\tests\\indexing\\multiindex\n",
      "    copying pandas\\tests\\indexing\\multiindex\\test_panel.py -> build\\lib.win-amd64-3.9\\pandas\\tests\\indexing\\multiindex\n",
      "    copying pandas\\tests\\indexing\\multiindex\\test_partial.py -> build\\lib.win-amd64-3.9\\pandas\\tests\\indexing\\multiindex\n",
      "    copying pandas\\tests\\indexing\\multiindex\\test_setitem.py -> build\\lib.win-amd64-3.9\\pandas\\tests\\indexing\\multiindex\n",
      "    copying pandas\\tests\\indexing\\multiindex\\test_set_ops.py -> build\\lib.win-amd64-3.9\\pandas\\tests\\indexing\\multiindex\n",
      "    copying pandas\\tests\\indexing\\multiindex\\test_slice.py -> build\\lib.win-amd64-3.9\\pandas\\tests\\indexing\\multiindex\n",
      "    copying pandas\\tests\\indexing\\multiindex\\test_sorted.py -> build\\lib.win-amd64-3.9\\pandas\\tests\\indexing\\multiindex\n",
      "    copying pandas\\tests\\indexing\\multiindex\\test_xs.py -> build\\lib.win-amd64-3.9\\pandas\\tests\\indexing\\multiindex\n",
      "    copying pandas\\tests\\indexing\\multiindex\\__init__.py -> build\\lib.win-amd64-3.9\\pandas\\tests\\indexing\\multiindex\n",
      "    creating build\\lib.win-amd64-3.9\\pandas\\tests\\io\\formats\n",
      "    copying pandas\\tests\\io\\formats\\test_console.py -> build\\lib.win-amd64-3.9\\pandas\\tests\\io\\formats\n",
      "    copying pandas\\tests\\io\\formats\\test_css.py -> build\\lib.win-amd64-3.9\\pandas\\tests\\io\\formats\n",
      "    copying pandas\\tests\\io\\formats\\test_eng_formatting.py -> build\\lib.win-amd64-3.9\\pandas\\tests\\io\\formats\n",
      "    copying pandas\\tests\\io\\formats\\test_format.py -> build\\lib.win-amd64-3.9\\pandas\\tests\\io\\formats\n",
      "    copying pandas\\tests\\io\\formats\\test_printing.py -> build\\lib.win-amd64-3.9\\pandas\\tests\\io\\formats\n",
      "    copying pandas\\tests\\io\\formats\\test_style.py -> build\\lib.win-amd64-3.9\\pandas\\tests\\io\\formats\n",
      "    copying pandas\\tests\\io\\formats\\test_to_csv.py -> build\\lib.win-amd64-3.9\\pandas\\tests\\io\\formats\n",
      "    copying pandas\\tests\\io\\formats\\test_to_excel.py -> build\\lib.win-amd64-3.9\\pandas\\tests\\io\\formats\n",
      "    copying pandas\\tests\\io\\formats\\test_to_html.py -> build\\lib.win-amd64-3.9\\pandas\\tests\\io\\formats\n",
      "    copying pandas\\tests\\io\\formats\\test_to_latex.py -> build\\lib.win-amd64-3.9\\pandas\\tests\\io\\formats\n",
      "    copying pandas\\tests\\io\\formats\\__init__.py -> build\\lib.win-amd64-3.9\\pandas\\tests\\io\\formats\n",
      "    creating build\\lib.win-amd64-3.9\\pandas\\tests\\io\\json\n",
      "    copying pandas\\tests\\io\\json\\test_compression.py -> build\\lib.win-amd64-3.9\\pandas\\tests\\io\\json\n",
      "    copying pandas\\tests\\io\\json\\test_json_table_schema.py -> build\\lib.win-amd64-3.9\\pandas\\tests\\io\\json\n",
      "    copying pandas\\tests\\io\\json\\test_normalize.py -> build\\lib.win-amd64-3.9\\pandas\\tests\\io\\json\n",
      "    copying pandas\\tests\\io\\json\\test_pandas.py -> build\\lib.win-amd64-3.9\\pandas\\tests\\io\\json\n",
      "    copying pandas\\tests\\io\\json\\test_readlines.py -> build\\lib.win-amd64-3.9\\pandas\\tests\\io\\json\n",
      "    copying pandas\\tests\\io\\json\\test_ujson.py -> build\\lib.win-amd64-3.9\\pandas\\tests\\io\\json\n",
      "    copying pandas\\tests\\io\\json\\__init__.py -> build\\lib.win-amd64-3.9\\pandas\\tests\\io\\json\n",
      "    creating build\\lib.win-amd64-3.9\\pandas\\tests\\io\\msgpack\n",
      "    copying pandas\\tests\\io\\msgpack\\common.py -> build\\lib.win-amd64-3.9\\pandas\\tests\\io\\msgpack\n",
      "    copying pandas\\tests\\io\\msgpack\\test_buffer.py -> build\\lib.win-amd64-3.9\\pandas\\tests\\io\\msgpack\n",
      "    copying pandas\\tests\\io\\msgpack\\test_case.py -> build\\lib.win-amd64-3.9\\pandas\\tests\\io\\msgpack\n",
      "    copying pandas\\tests\\io\\msgpack\\test_except.py -> build\\lib.win-amd64-3.9\\pandas\\tests\\io\\msgpack\n",
      "    copying pandas\\tests\\io\\msgpack\\test_extension.py -> build\\lib.win-amd64-3.9\\pandas\\tests\\io\\msgpack\n",
      "    copying pandas\\tests\\io\\msgpack\\test_format.py -> build\\lib.win-amd64-3.9\\pandas\\tests\\io\\msgpack\n",
      "    copying pandas\\tests\\io\\msgpack\\test_limits.py -> build\\lib.win-amd64-3.9\\pandas\\tests\\io\\msgpack\n",
      "    copying pandas\\tests\\io\\msgpack\\test_newspec.py -> build\\lib.win-amd64-3.9\\pandas\\tests\\io\\msgpack\n",
      "    copying pandas\\tests\\io\\msgpack\\test_obj.py -> build\\lib.win-amd64-3.9\\pandas\\tests\\io\\msgpack\n",
      "    copying pandas\\tests\\io\\msgpack\\test_pack.py -> build\\lib.win-amd64-3.9\\pandas\\tests\\io\\msgpack\n",
      "    copying pandas\\tests\\io\\msgpack\\test_read_size.py -> build\\lib.win-amd64-3.9\\pandas\\tests\\io\\msgpack\n",
      "    copying pandas\\tests\\io\\msgpack\\test_seq.py -> build\\lib.win-amd64-3.9\\pandas\\tests\\io\\msgpack\n",
      "    copying pandas\\tests\\io\\msgpack\\test_sequnpack.py -> build\\lib.win-amd64-3.9\\pandas\\tests\\io\\msgpack\n",
      "    copying pandas\\tests\\io\\msgpack\\test_subtype.py -> build\\lib.win-amd64-3.9\\pandas\\tests\\io\\msgpack\n",
      "    copying pandas\\tests\\io\\msgpack\\test_unpack.py -> build\\lib.win-amd64-3.9\\pandas\\tests\\io\\msgpack\n",
      "    copying pandas\\tests\\io\\msgpack\\test_unpack_raw.py -> build\\lib.win-amd64-3.9\\pandas\\tests\\io\\msgpack\n",
      "    copying pandas\\tests\\io\\msgpack\\__init__.py -> build\\lib.win-amd64-3.9\\pandas\\tests\\io\\msgpack\n",
      "    creating build\\lib.win-amd64-3.9\\pandas\\tests\\io\\parser\n",
      "    copying pandas\\tests\\io\\parser\\conftest.py -> build\\lib.win-amd64-3.9\\pandas\\tests\\io\\parser\n",
      "    copying pandas\\tests\\io\\parser\\test_comment.py -> build\\lib.win-amd64-3.9\\pandas\\tests\\io\\parser\n",
      "    copying pandas\\tests\\io\\parser\\test_common.py -> build\\lib.win-amd64-3.9\\pandas\\tests\\io\\parser\n",
      "    copying pandas\\tests\\io\\parser\\test_compression.py -> build\\lib.win-amd64-3.9\\pandas\\tests\\io\\parser\n",
      "    copying pandas\\tests\\io\\parser\\test_converters.py -> build\\lib.win-amd64-3.9\\pandas\\tests\\io\\parser\n",
      "    copying pandas\\tests\\io\\parser\\test_c_parser_only.py -> build\\lib.win-amd64-3.9\\pandas\\tests\\io\\parser\n",
      "    copying pandas\\tests\\io\\parser\\test_dialect.py -> build\\lib.win-amd64-3.9\\pandas\\tests\\io\\parser\n",
      "    copying pandas\\tests\\io\\parser\\test_dtypes.py -> build\\lib.win-amd64-3.9\\pandas\\tests\\io\\parser\n",
      "    copying pandas\\tests\\io\\parser\\test_header.py -> build\\lib.win-amd64-3.9\\pandas\\tests\\io\\parser\n",
      "    copying pandas\\tests\\io\\parser\\test_index_col.py -> build\\lib.win-amd64-3.9\\pandas\\tests\\io\\parser\n",
      "    copying pandas\\tests\\io\\parser\\test_mangle_dupes.py -> build\\lib.win-amd64-3.9\\pandas\\tests\\io\\parser\n",
      "    copying pandas\\tests\\io\\parser\\test_multi_thread.py -> build\\lib.win-amd64-3.9\\pandas\\tests\\io\\parser\n",
      "    copying pandas\\tests\\io\\parser\\test_na_values.py -> build\\lib.win-amd64-3.9\\pandas\\tests\\io\\parser\n",
      "    copying pandas\\tests\\io\\parser\\test_network.py -> build\\lib.win-amd64-3.9\\pandas\\tests\\io\\parser\n",
      "    copying pandas\\tests\\io\\parser\\test_parse_dates.py -> build\\lib.win-amd64-3.9\\pandas\\tests\\io\\parser\n",
      "    copying pandas\\tests\\io\\parser\\test_python_parser_only.py -> build\\lib.win-amd64-3.9\\pandas\\tests\\io\\parser\n",
      "    copying pandas\\tests\\io\\parser\\test_quoting.py -> build\\lib.win-amd64-3.9\\pandas\\tests\\io\\parser\n",
      "    copying pandas\\tests\\io\\parser\\test_read_fwf.py -> build\\lib.win-amd64-3.9\\pandas\\tests\\io\\parser\n",
      "    copying pandas\\tests\\io\\parser\\test_skiprows.py -> build\\lib.win-amd64-3.9\\pandas\\tests\\io\\parser\n",
      "    copying pandas\\tests\\io\\parser\\test_textreader.py -> build\\lib.win-amd64-3.9\\pandas\\tests\\io\\parser\n",
      "    copying pandas\\tests\\io\\parser\\test_unsupported.py -> build\\lib.win-amd64-3.9\\pandas\\tests\\io\\parser\n",
      "    copying pandas\\tests\\io\\parser\\test_usecols.py -> build\\lib.win-amd64-3.9\\pandas\\tests\\io\\parser\n",
      "    copying pandas\\tests\\io\\parser\\__init__.py -> build\\lib.win-amd64-3.9\\pandas\\tests\\io\\parser\n",
      "    creating build\\lib.win-amd64-3.9\\pandas\\tests\\io\\sas\n",
      "    copying pandas\\tests\\io\\sas\\test_sas.py -> build\\lib.win-amd64-3.9\\pandas\\tests\\io\\sas\n",
      "    copying pandas\\tests\\io\\sas\\test_sas7bdat.py -> build\\lib.win-amd64-3.9\\pandas\\tests\\io\\sas\n",
      "    copying pandas\\tests\\io\\sas\\test_xport.py -> build\\lib.win-amd64-3.9\\pandas\\tests\\io\\sas\n",
      "    copying pandas\\tests\\io\\sas\\__init__.py -> build\\lib.win-amd64-3.9\\pandas\\tests\\io\\sas\n",
      "    creating build\\lib.win-amd64-3.9\\pandas\\tests\\reshape\\merge\n",
      "    copying pandas\\tests\\reshape\\merge\\test_join.py -> build\\lib.win-amd64-3.9\\pandas\\tests\\reshape\\merge\n",
      "    copying pandas\\tests\\reshape\\merge\\test_merge.py -> build\\lib.win-amd64-3.9\\pandas\\tests\\reshape\\merge\n",
      "    copying pandas\\tests\\reshape\\merge\\test_merge_asof.py -> build\\lib.win-amd64-3.9\\pandas\\tests\\reshape\\merge\n",
      "    copying pandas\\tests\\reshape\\merge\\test_merge_index_as_string.py -> build\\lib.win-amd64-3.9\\pandas\\tests\\reshape\\merge\n",
      "    copying pandas\\tests\\reshape\\merge\\test_merge_ordered.py -> build\\lib.win-amd64-3.9\\pandas\\tests\\reshape\\merge\n",
      "    copying pandas\\tests\\reshape\\merge\\test_multi.py -> build\\lib.win-amd64-3.9\\pandas\\tests\\reshape\\merge\n",
      "    copying pandas\\tests\\reshape\\merge\\__init__.py -> build\\lib.win-amd64-3.9\\pandas\\tests\\reshape\\merge\n",
      "    creating build\\lib.win-amd64-3.9\\pandas\\tests\\scalar\\interval\n",
      "    copying pandas\\tests\\scalar\\interval\\test_interval.py -> build\\lib.win-amd64-3.9\\pandas\\tests\\scalar\\interval\n",
      "    copying pandas\\tests\\scalar\\interval\\test_ops.py -> build\\lib.win-amd64-3.9\\pandas\\tests\\scalar\\interval\n",
      "    copying pandas\\tests\\scalar\\interval\\__init__.py -> build\\lib.win-amd64-3.9\\pandas\\tests\\scalar\\interval\n",
      "    creating build\\lib.win-amd64-3.9\\pandas\\tests\\scalar\\period\n",
      "    copying pandas\\tests\\scalar\\period\\test_asfreq.py -> build\\lib.win-amd64-3.9\\pandas\\tests\\scalar\\period\n",
      "    copying pandas\\tests\\scalar\\period\\test_period.py -> build\\lib.win-amd64-3.9\\pandas\\tests\\scalar\\period\n",
      "    copying pandas\\tests\\scalar\\period\\__init__.py -> build\\lib.win-amd64-3.9\\pandas\\tests\\scalar\\period\n",
      "    creating build\\lib.win-amd64-3.9\\pandas\\tests\\scalar\\timedelta\n",
      "    copying pandas\\tests\\scalar\\timedelta\\test_arithmetic.py -> build\\lib.win-amd64-3.9\\pandas\\tests\\scalar\\timedelta\n",
      "    copying pandas\\tests\\scalar\\timedelta\\test_construction.py -> build\\lib.win-amd64-3.9\\pandas\\tests\\scalar\\timedelta\n",
      "    copying pandas\\tests\\scalar\\timedelta\\test_formats.py -> build\\lib.win-amd64-3.9\\pandas\\tests\\scalar\\timedelta\n",
      "    copying pandas\\tests\\scalar\\timedelta\\test_timedelta.py -> build\\lib.win-amd64-3.9\\pandas\\tests\\scalar\\timedelta\n",
      "    copying pandas\\tests\\scalar\\timedelta\\__init__.py -> build\\lib.win-amd64-3.9\\pandas\\tests\\scalar\\timedelta\n",
      "    creating build\\lib.win-amd64-3.9\\pandas\\tests\\scalar\\timestamp\n",
      "    copying pandas\\tests\\scalar\\timestamp\\test_arithmetic.py -> build\\lib.win-amd64-3.9\\pandas\\tests\\scalar\\timestamp\n",
      "    copying pandas\\tests\\scalar\\timestamp\\test_comparisons.py -> build\\lib.win-amd64-3.9\\pandas\\tests\\scalar\\timestamp\n",
      "    copying pandas\\tests\\scalar\\timestamp\\test_rendering.py -> build\\lib.win-amd64-3.9\\pandas\\tests\\scalar\\timestamp\n",
      "    copying pandas\\tests\\scalar\\timestamp\\test_timestamp.py -> build\\lib.win-amd64-3.9\\pandas\\tests\\scalar\\timestamp\n",
      "    copying pandas\\tests\\scalar\\timestamp\\test_timezones.py -> build\\lib.win-amd64-3.9\\pandas\\tests\\scalar\\timestamp\n",
      "    copying pandas\\tests\\scalar\\timestamp\\test_unary_ops.py -> build\\lib.win-amd64-3.9\\pandas\\tests\\scalar\\timestamp\n",
      "    copying pandas\\tests\\scalar\\timestamp\\__init__.py -> build\\lib.win-amd64-3.9\\pandas\\tests\\scalar\\timestamp\n",
      "    creating build\\lib.win-amd64-3.9\\pandas\\tests\\series\\indexing\n",
      "    copying pandas\\tests\\series\\indexing\\conftest.py -> build\\lib.win-amd64-3.9\\pandas\\tests\\series\\indexing\n",
      "    copying pandas\\tests\\series\\indexing\\test_alter_index.py -> build\\lib.win-amd64-3.9\\pandas\\tests\\series\\indexing\n",
      "    copying pandas\\tests\\series\\indexing\\test_boolean.py -> build\\lib.win-amd64-3.9\\pandas\\tests\\series\\indexing\n",
      "    copying pandas\\tests\\series\\indexing\\test_callable.py -> build\\lib.win-amd64-3.9\\pandas\\tests\\series\\indexing\n",
      "    copying pandas\\tests\\series\\indexing\\test_datetime.py -> build\\lib.win-amd64-3.9\\pandas\\tests\\series\\indexing\n",
      "    copying pandas\\tests\\series\\indexing\\test_iloc.py -> build\\lib.win-amd64-3.9\\pandas\\tests\\series\\indexing\n",
      "    copying pandas\\tests\\series\\indexing\\test_indexing.py -> build\\lib.win-amd64-3.9\\pandas\\tests\\series\\indexing\n",
      "    copying pandas\\tests\\series\\indexing\\test_loc.py -> build\\lib.win-amd64-3.9\\pandas\\tests\\series\\indexing\n",
      "    copying pandas\\tests\\series\\indexing\\test_numeric.py -> build\\lib.win-amd64-3.9\\pandas\\tests\\series\\indexing\n",
      "    copying pandas\\tests\\series\\indexing\\__init__.py -> build\\lib.win-amd64-3.9\\pandas\\tests\\series\\indexing\n",
      "    creating build\\lib.win-amd64-3.9\\pandas\\tests\\sparse\\frame\n",
      "    copying pandas\\tests\\sparse\\frame\\conftest.py -> build\\lib.win-amd64-3.9\\pandas\\tests\\sparse\\frame\n",
      "    copying pandas\\tests\\sparse\\frame\\test_analytics.py -> build\\lib.win-amd64-3.9\\pandas\\tests\\sparse\\frame\n",
      "    copying pandas\\tests\\sparse\\frame\\test_apply.py -> build\\lib.win-amd64-3.9\\pandas\\tests\\sparse\\frame\n",
      "    copying pandas\\tests\\sparse\\frame\\test_frame.py -> build\\lib.win-amd64-3.9\\pandas\\tests\\sparse\\frame\n",
      "    copying pandas\\tests\\sparse\\frame\\test_indexing.py -> build\\lib.win-amd64-3.9\\pandas\\tests\\sparse\\frame\n",
      "    copying pandas\\tests\\sparse\\frame\\test_to_csv.py -> build\\lib.win-amd64-3.9\\pandas\\tests\\sparse\\frame\n",
      "    copying pandas\\tests\\sparse\\frame\\test_to_from_scipy.py -> build\\lib.win-amd64-3.9\\pandas\\tests\\sparse\\frame\n",
      "    copying pandas\\tests\\sparse\\frame\\__init__.py -> build\\lib.win-amd64-3.9\\pandas\\tests\\sparse\\frame\n",
      "    creating build\\lib.win-amd64-3.9\\pandas\\tests\\sparse\\series\n",
      "    copying pandas\\tests\\sparse\\series\\test_indexing.py -> build\\lib.win-amd64-3.9\\pandas\\tests\\sparse\\series\n",
      "    copying pandas\\tests\\sparse\\series\\test_series.py -> build\\lib.win-amd64-3.9\\pandas\\tests\\sparse\\series\n",
      "    copying pandas\\tests\\sparse\\series\\__init__.py -> build\\lib.win-amd64-3.9\\pandas\\tests\\sparse\\series\n",
      "    creating build\\lib.win-amd64-3.9\\pandas\\tests\\tseries\\offsets\n",
      "    copying pandas\\tests\\tseries\\offsets\\common.py -> build\\lib.win-amd64-3.9\\pandas\\tests\\tseries\\offsets\n",
      "    copying pandas\\tests\\tseries\\offsets\\conftest.py -> build\\lib.win-amd64-3.9\\pandas\\tests\\tseries\\offsets\n",
      "    copying pandas\\tests\\tseries\\offsets\\test_fiscal.py -> build\\lib.win-amd64-3.9\\pandas\\tests\\tseries\\offsets\n",
      "    copying pandas\\tests\\tseries\\offsets\\test_offsets.py -> build\\lib.win-amd64-3.9\\pandas\\tests\\tseries\\offsets\n",
      "    copying pandas\\tests\\tseries\\offsets\\test_offsets_properties.py -> build\\lib.win-amd64-3.9\\pandas\\tests\\tseries\\offsets\n",
      "    copying pandas\\tests\\tseries\\offsets\\test_ticks.py -> build\\lib.win-amd64-3.9\\pandas\\tests\\tseries\\offsets\n",
      "    copying pandas\\tests\\tseries\\offsets\\test_yqm_offsets.py -> build\\lib.win-amd64-3.9\\pandas\\tests\\tseries\\offsets\n",
      "    copying pandas\\tests\\tseries\\offsets\\__init__.py -> build\\lib.win-amd64-3.9\\pandas\\tests\\tseries\\offsets\n",
      "    creating build\\lib.win-amd64-3.9\\pandas\\_libs\\tslibs\n",
      "    copying pandas\\_libs\\tslibs\\__init__.py -> build\\lib.win-amd64-3.9\\pandas\\_libs\\tslibs\n",
      "    creating build\\lib.win-amd64-3.9\\pandas\\io\\formats\\templates\n",
      "    copying pandas\\io\\formats\\templates\\html.tpl -> build\\lib.win-amd64-3.9\\pandas\\io\\formats\\templates\n",
      "    UPDATING build\\lib.win-amd64-3.9\\pandas/_version.py\n",
      "    set build\\lib.win-amd64-3.9\\pandas/_version.py to '0.24.2'\n",
      "    running build_ext\n",
      "    building 'pandas._libs.algos' extension\n",
      "    error: Microsoft Visual C++ 14.0 or greater is required. Get it with \"Microsoft C++ Build Tools\": https://visualstudio.microsoft.com/visual-cpp-build-tools/\n",
      "    ----------------------------------------\n",
      "ERROR: Command errored out with exit status 1: 'C:\\ProgramData\\Anaconda3\\python.exe' -u -c 'import io, os, sys, setuptools, tokenize; sys.argv[0] = '\"'\"'C:\\\\Users\\\\merve\\\\AppData\\\\Local\\\\Temp\\\\pip-install-2gfjzisu\\\\pandas_ccb4b316be4e49f7b86fdf9d14b48849\\\\setup.py'\"'\"'; __file__='\"'\"'C:\\\\Users\\\\merve\\\\AppData\\\\Local\\\\Temp\\\\pip-install-2gfjzisu\\\\pandas_ccb4b316be4e49f7b86fdf9d14b48849\\\\setup.py'\"'\"';f = getattr(tokenize, '\"'\"'open'\"'\"', open)(__file__) if os.path.exists(__file__) else io.StringIO('\"'\"'from setuptools import setup; setup()'\"'\"');code = f.read().replace('\"'\"'\\r\\n'\"'\"', '\"'\"'\\n'\"'\"');f.close();exec(compile(code, __file__, '\"'\"'exec'\"'\"'))' install --record 'C:\\Users\\merve\\AppData\\Local\\Temp\\pip-record-uxfd0dwa\\install-record.txt' --single-version-externally-managed --user --prefix= --compile --install-headers 'C:\\Users\\merve\\AppData\\Roaming\\Python\\Python39\\Include\\pandas' Check the logs for full command output.\n",
      "WARNING: Ignoring invalid distribution -ymongo (c:\\users\\merve\\appdata\\roaming\\python\\python39\\site-packages)\n",
      "WARNING: Ignoring invalid distribution -ymongo (c:\\users\\merve\\appdata\\roaming\\python\\python39\\site-packages)\n",
      "WARNING: Ignoring invalid distribution -ymongo (c:\\users\\merve\\appdata\\roaming\\python\\python39\\site-packages)\n"
     ]
    }
   ],
   "source": [
    "#Step1\n",
    "# from google.colab import files\n",
    "#files.upload()\n",
    "file = open(\"iNeuron.txt\", \"w+\")"
   ]
  },
  {
   "cell_type": "markdown",
   "metadata": {
    "colab_type": "text",
    "id": "sB8I0qJZJFoQ"
   },
   "source": [
    "- Here we declared file as a variable to open a file named iNeuron.txt.Open takes two arguemnets, first one is for the file we want to open and second one represents some kind of permissions or operation we want to do into that file.\n",
    "- Here we taken \"w\" letter as an arguemnt, which indicates write and will create a file if it is not exist in the library.\n",
    "- That \"+\" signs indicate both read and write.\n",
    "- The other option beside \"w\" are, \"r\" for read, and \"a\" for append."
   ]
  },
  {
   "cell_type": "code",
   "execution_count": 7,
   "metadata": {
    "colab": {},
    "colab_type": "code",
    "id": "hMV1s2uJJFoR"
   },
   "outputs": [],
   "source": [
    "#Step2\n",
    "\n",
    "for i in range(5):\n",
    "    file.write(\"Line number is %d\\r\\n\" % (i+1))"
   ]
  },
  {
   "cell_type": "markdown",
   "metadata": {
    "colab_type": "text",
    "id": "WQLPAlufJFoY"
   },
   "source": [
    "- We have a loop that runs over a range of 5 numbers.\n",
    "- Here using the **Write** function for entering data into the file.\n",
    "- The Output we want to iterate in the file is \"Line number is\", which we already declared with write function and then percent d(display integers)"
   ]
  },
  {
   "cell_type": "code",
   "execution_count": 8,
   "metadata": {
    "colab": {},
    "colab_type": "code",
    "id": "5QrhUv6UJFoZ"
   },
   "outputs": [],
   "source": [
    "#Step3\n",
    "\n",
    "file.close()"
   ]
  },
  {
   "cell_type": "markdown",
   "metadata": {
    "colab_type": "text",
    "id": "9hORzMbhJFoe"
   },
   "source": [
    "- This will close the instance of the file iNeuron.txt stored."
   ]
  },
  {
   "cell_type": "markdown",
   "metadata": {
    "colab_type": "text",
    "id": "51VhJCNcJFof"
   },
   "source": [
    "- Here is the result after the execution of code.\n",
    "<img src=\".\\Images\\8.png\">"
   ]
  },
  {
   "cell_type": "markdown",
   "metadata": {
    "colab_type": "text",
    "id": "ab7fXnrzJFog"
   },
   "source": [
    "### Append data to a file\n",
    "\n",
    "You can also append a new text inside the existing file or in a new file."
   ]
  },
  {
   "cell_type": "code",
   "execution_count": 9,
   "metadata": {
    "colab": {},
    "colab_type": "code",
    "id": "neAko5mCJFoh"
   },
   "outputs": [],
   "source": [
    "#Step1\n",
    "\n",
    "file = open(\"iNeuron.txt\", \"a+\")"
   ]
  },
  {
   "cell_type": "markdown",
   "metadata": {
    "colab_type": "text",
    "id": "dDqwN0C8JFon"
   },
   "source": [
    "Once again \"+\" sign is in the code which means if .txt file are not available, this plus sign will create a new file but here is not any requirement to create a new file."
   ]
  },
  {
   "cell_type": "code",
   "execution_count": 10,
   "metadata": {
    "colab": {},
    "colab_type": "code",
    "id": "Sd6xqwsaJFoo"
   },
   "outputs": [],
   "source": [
    "#Step2\n",
    "\n",
    "for i in range(3):\n",
    "    file.write(\"Appending Line number %d\\r\\n\" %(i+1))"
   ]
  },
  {
   "cell_type": "markdown",
   "metadata": {
    "colab_type": "text",
    "id": "-pCjkwMTJFos"
   },
   "source": [
    "This will write data into a file in append mode."
   ]
  },
  {
   "cell_type": "code",
   "execution_count": 11,
   "metadata": {
    "colab": {},
    "colab_type": "code",
    "id": "R9AfPxUSJFot"
   },
   "outputs": [],
   "source": [
    "#Step3\n",
    "\n",
    "file.close()"
   ]
  },
  {
   "cell_type": "markdown",
   "metadata": {
    "colab_type": "text",
    "id": "qrjwiS-3JFoz"
   },
   "source": [
    "We seen earlier this close function will close the instance of the file iNeuron.txt stored."
   ]
  },
  {
   "cell_type": "markdown",
   "metadata": {
    "colab_type": "text",
    "id": "8eggYmBhJFo0"
   },
   "source": [
    "### Read the files\n",
    "\n",
    "Not only you create .txt files in Python but you can also call .txt file in a \"read mode\"(r). "
   ]
  },
  {
   "cell_type": "code",
   "execution_count": 0,
   "metadata": {
    "colab": {},
    "colab_type": "code",
    "id": "NIXdViShJFo2"
   },
   "outputs": [],
   "source": [
    "#Step1. Open the file in read mode\n",
    "\n",
    "file = open(\"iNeuron.txt\", \"r\")"
   ]
  },
  {
   "cell_type": "code",
   "execution_count": 0,
   "metadata": {
    "colab": {},
    "colab_type": "code",
    "id": "pnItli4dJFo8"
   },
   "outputs": [],
   "source": [
    "#Step2. Here we'll check, is our file is open or not, if yes we proceed\n",
    "\n",
    "if file.mode == 'r':\n",
    "    content = file.read() #We used file.read() for reading the file data and store it in a variable."
   ]
  },
  {
   "cell_type": "code",
   "execution_count": 0,
   "metadata": {
    "colab": {
     "base_uri": "https://localhost:8080/",
     "height": 187
    },
    "colab_type": "code",
    "executionInfo": {
     "elapsed": 1107,
     "status": "ok",
     "timestamp": 1587308960824,
     "user": {
      "displayName": "Plaban Nayak",
      "photoUrl": "https://lh3.googleusercontent.com/a-/AOh14GhpiPuIKtntBPYdHxwHUqqujeyZU8kubjFK_d6IAg=s64",
      "userId": "08012991239448816971"
     },
     "user_tz": -330
    },
    "id": "4wXxT-0VJFpB",
    "outputId": "c6e6824e-1fa5-4a12-fc95-c7eca1465e3b"
   },
   "outputs": [
    {
     "name": "stdout",
     "output_type": "stream",
     "text": [
      "Line number is 1\n",
      "Line number is 2\n",
      "Line number is 3\n",
      "Line number is 4\n",
      "Line number is 5\n",
      "Appending Line number 1\n",
      "Appending Line number 2\n",
      "Appending Line number 3\n",
      "\n",
      "Here is the output!\n"
     ]
    }
   ],
   "source": [
    "#Step3. Printing the file\n",
    "print(content)\n",
    "print(\"Here is the output!\")"
   ]
  },
  {
   "cell_type": "markdown",
   "metadata": {
    "colab_type": "text",
    "id": "_KJH9VYvJFpF"
   },
   "source": [
    "### Files mode in Python\n",
    "\n",
    "<img src=\".\\Images\\9.png\">"
   ]
  },
  {
   "cell_type": "markdown",
   "metadata": {
    "colab_type": "text",
    "id": "GHWgkdgOJFpK"
   },
   "source": [
    "## Web Scraping with Python\n",
    "\n",
    "Suppose you have to pull large amount of data from websites and you want to fetch it as quickly as possible. How would you do it? Manually going to the website and collect those datas.It will be tedious work. So, \"web scrapping\" will help you out in this situation. Web scrapping just makes this job easier and faster.\n",
    "\n",
    "Here, we will do Web Scrapping with Python, starts with\n",
    "\n",
    "1. Why we do web scrapping?\n",
    "Web scrapping will be used to collect large amount of data from Websites.But why does someone have to collect such large amount of data from websites? To know about this, let's have to look at the applications of web scrapping:\n",
    "\n",
    "- __Price comaparison:__ Parsehub is providing such services to useweb scraping to collect data from some online shopping websites and use to comapre price of products from another.\n",
    "- __Gathering Emails:__ There are lots of companies that use emails as a medium for marketing, they use web scrapping to collect email id's and send bulk emails.\n",
    "- __Social media scrapping:__ Web scrapping is used to collect data from Social Media websites such as Twitter to find out what's trending in twitter.\n",
    "- __Research and Development:__ For reasearch purposes people do web scrapping to collect a large set of data(Statistics, General information, temperature,etc.) from websites, which are analyzed and used to carry out surveys or for R&D.\n",
    "\n",
    "\n",
    "2. What is Web scrapping and is it legal or not?\n",
    "Web scrapping is an automated to extract large amount of data from websites.And the websites data are unstructured most of the time.Web scrapping will help you out to collect those unstructured data and stored it in a structured form.There are different ways to scrape websites such as online services,APIs, or by writing your own code. Here, we'll see how to implementing the web scraping with python.\n",
    "\n",
    "Coming to the question, is scrapping legal or not? Some websites allow web scrapping and some not.To know whether website allows you to scrape it or not by website's \"robots.txt\" file. You can find this file just append \"/robots.txt\" to the URL that you want to scrape.Here, we're scrapping from Flipkart website.So, to see the \"robots.txt\" file, URL is www.flipkart.com/robots.txt. \n",
    "\n",
    "3. How does web scrapping work?\n",
    "\n",
    "When we run the code for web scraping, a request is sent to the URL that you have mentioned in the code. As a response to the request, the server send the data and allows you to read the HTML or XML page. Then our code will parses the HTML or XML page, find the data and extract it.\n",
    "\n",
    "To extract datas using web scraping with python, you need to follow these basic steps:\n",
    "\n",
    "  1.Find that URL that you mentioned in the code and want to scrape it.\n",
    "  \n",
    "  2.Inspect the Page for scraping.\n",
    " \n",
    "  3.Find those data you want to extract.\n",
    "  \n",
    "  4.Write the code for scrapping.\n",
    "  \n",
    "  5.Run the code and extract the data.\n",
    "  \n",
    "  6.Store the data in the required format.\n",
    "  \n",
    "Now lets see how to extract data from the flipkart website using Python.\n",
    "\n",
    "4. Libraries used for Web scrapping\n",
    "\n",
    "We already know, that python used for various applications and there are different libraries for different purposes.In this, we're using the following libraries:\n",
    "\n",
    "- **Selenium:** Selenium library is used for web testing. We will use to automate browser activities.\n",
    "- **BeautifulSoup4:** It is generally used for parsing HTML and XML documents.It creates a parse trees that is helpful to extract the datas easily.\n",
    "- **Pandas:** It is a Python library used for data manipulation and analysis.Pandas is used to extract data and stored it in the desired format.\n",
    "\n",
    "5. For Demo Purpose : Scrapping a Flipkart Website\n",
    "\n",
    "Pre-requisites:\n",
    "\n",
    " - Python 3.x with Selenium, Beautifulsoup4, Pandas library  installed.\n",
    " - Google Chrome Browser\n",
    " \n",
    "You can go through this [link](https://github.com/iNeuronai/webscrappper_text.git) for more details."
   ]
  },
  {
   "cell_type": "markdown",
   "metadata": {
    "colab_type": "text",
    "id": "AlPiVcIdJFpO"
   },
   "source": [
    "# Text Preprocessing\n",
    "\n",
    "Supose we have textual data available, we need to apply many of pre-processing steps to the data to transform those words into numerical features that work with machine learning algorithms.\n",
    "\n",
    "The pre-processing steps for the problem depend mainly on the domain and the problem itself.We don't need to apply all the steps for every problem.\n",
    "\n",
    "Here, we're going to see text preprocessing in Python. We'll use NLTK(Natural language toolkit) library here."
   ]
  },
  {
   "cell_type": "code",
   "execution_count": 12,
   "metadata": {
    "colab": {},
    "colab_type": "code",
    "id": "K4JGBS1TJFpP"
   },
   "outputs": [],
   "source": [
    "# import necessary libraries \n",
    "import nltk\n",
    "import string\n",
    "import re"
   ]
  },
  {
   "cell_type": "markdown",
   "metadata": {
    "colab_type": "text",
    "id": "FdD68bHhJFpT"
   },
   "source": [
    "### Text lowercase\n",
    "\n",
    "We do lowercase the text to reduce the size of the vocabulary of our text data."
   ]
  },
  {
   "cell_type": "code",
   "execution_count": 13,
   "metadata": {
    "colab": {
     "base_uri": "https://localhost:8080/",
     "height": 34
    },
    "colab_type": "code",
    "executionInfo": {
     "elapsed": 1310,
     "status": "ok",
     "timestamp": 1587309017005,
     "user": {
      "displayName": "Plaban Nayak",
      "photoUrl": "https://lh3.googleusercontent.com/a-/AOh14GhpiPuIKtntBPYdHxwHUqqujeyZU8kubjFK_d6IAg=s64",
      "userId": "08012991239448816971"
     },
     "user_tz": -330
    },
    "id": "YoXbKGUcJFpT",
    "outputId": "8980ae33-f59d-4f25-fabd-7a6c78061cf8"
   },
   "outputs": [
    {
     "data": {
      "text/plain": [
       "'weather is too cloudy.possiblity of rain is high,today!!'"
      ]
     },
     "execution_count": 13,
     "metadata": {},
     "output_type": "execute_result"
    }
   ],
   "source": [
    "def lowercase_text(text): \n",
    "    return text.lower() \n",
    "  \n",
    "input_str = \"Weather is too Cloudy.Possiblity of Rain is High,Today!!\"\n",
    "lowercase_text(input_str) "
   ]
  },
  {
   "cell_type": "markdown",
   "metadata": {
    "colab_type": "text",
    "id": "Kkx5nINIJFpa"
   },
   "source": [
    "### Remove numbers\n",
    "\n",
    "We should either remove the numbers or convert those numbers into textual representations.\n",
    "We use regular expressions(re) to remove the numbers."
   ]
  },
  {
   "cell_type": "code",
   "execution_count": 14,
   "metadata": {
    "colab": {
     "base_uri": "https://localhost:8080/",
     "height": 34
    },
    "colab_type": "code",
    "executionInfo": {
     "elapsed": 1091,
     "status": "ok",
     "timestamp": 1587309035442,
     "user": {
      "displayName": "Plaban Nayak",
      "photoUrl": "https://lh3.googleusercontent.com/a-/AOh14GhpiPuIKtntBPYdHxwHUqqujeyZU8kubjFK_d6IAg=s64",
      "userId": "08012991239448816971"
     },
     "user_tz": -330
    },
    "id": "rJxsrbYcJFpc",
    "outputId": "a6aefacb-c396-472d-ca86-3bbc8133b2e9"
   },
   "outputs": [
    {
     "data": {
      "text/plain": [
       "'You bought  candies from shop, and  candies are in home.'"
      ]
     },
     "execution_count": 14,
     "metadata": {},
     "output_type": "execute_result"
    }
   ],
   "source": [
    "# For Removing numbers \n",
    "def remove_num(text): \n",
    "    result = re.sub(r'\\d+', '', text) \n",
    "    return result \n",
    "  \n",
    "input_s = \"You bought 6 candies from shop, and 4 candies are in home.\"\n",
    "remove_num(input_s) "
   ]
  },
  {
   "cell_type": "markdown",
   "metadata": {
    "colab_type": "text",
    "id": "A2dGfGX2JFpg"
   },
   "source": [
    "As we mentioned above,you can also convert the numbers into words. This could be done by using the inflect library."
   ]
  },
  {
   "cell_type": "code",
   "execution_count": 16,
   "metadata": {
    "collapsed": true
   },
   "outputs": [
    {
     "name": "stdout",
     "output_type": "stream",
     "text": [
      "Defaulting to user installation because normal site-packages is not writeable\n",
      "Collecting inflect\n",
      "  Downloading inflect-7.0.0-py3-none-any.whl (34 kB)\n",
      "Requirement already satisfied: typing-extensions in c:\\programdata\\anaconda3\\lib\\site-packages (from inflect) (4.1.1)\n",
      "Requirement already satisfied: pydantic>=1.9.1 in c:\\users\\merve\\appdata\\roaming\\python\\python39\\site-packages (from inflect) (1.9.2)\n",
      "Installing collected packages: inflect\n",
      "Successfully installed inflect-7.0.0\n"
     ]
    },
    {
     "name": "stderr",
     "output_type": "stream",
     "text": [
      "WARNING: Ignoring invalid distribution -ymongo (c:\\users\\merve\\appdata\\roaming\\python\\python39\\site-packages)\n",
      "WARNING: Ignoring invalid distribution -ymongo (c:\\users\\merve\\appdata\\roaming\\python\\python39\\site-packages)\n",
      "WARNING: Ignoring invalid distribution -ymongo (c:\\users\\merve\\appdata\\roaming\\python\\python39\\site-packages)\n",
      "WARNING: Ignoring invalid distribution -ymongo (c:\\users\\merve\\appdata\\roaming\\python\\python39\\site-packages)\n",
      "WARNING: Ignoring invalid distribution -ymongo (c:\\users\\merve\\appdata\\roaming\\python\\python39\\site-packages)\n",
      "WARNING: Ignoring invalid distribution -ymongo (c:\\users\\merve\\appdata\\roaming\\python\\python39\\site-packages)\n",
      "WARNING: Ignoring invalid distribution -ymongo (c:\\users\\merve\\appdata\\roaming\\python\\python39\\site-packages)\n"
     ]
    }
   ],
   "source": [
    "!pip install inflect"
   ]
  },
  {
   "cell_type": "code",
   "execution_count": 18,
   "metadata": {
    "colab": {
     "base_uri": "https://localhost:8080/",
     "height": 34
    },
    "colab_type": "code",
    "executionInfo": {
     "elapsed": 1206,
     "status": "ok",
     "timestamp": 1587309127864,
     "user": {
      "displayName": "Plaban Nayak",
      "photoUrl": "https://lh3.googleusercontent.com/a-/AOh14GhpiPuIKtntBPYdHxwHUqqujeyZU8kubjFK_d6IAg=s64",
      "userId": "08012991239448816971"
     },
     "user_tz": -330
    },
    "id": "VafdwS3cJFph",
    "outputId": "f6ede2f6-6dcd-40b0-dbb9-72356824f1c1"
   },
   "outputs": [
    {
     "data": {
      "text/plain": [
       "'You bought six candies from shop, and four candies are in home.'"
      ]
     },
     "execution_count": 18,
     "metadata": {},
     "output_type": "execute_result"
    }
   ],
   "source": [
    "# import the library \n",
    "import inflect \n",
    "q = inflect.engine() \n",
    "  \n",
    "# convert number into text \n",
    "def convert_num(text): \n",
    "    # split strings into list of texts \n",
    "    temp_string = text.split() \n",
    "    # initialise empty list \n",
    "    new_str = [] \n",
    "  \n",
    "    for word in temp_string: \n",
    "        # if text is a digit, convert the digit \n",
    "        # to numbers and append into the new_str list \n",
    "        if word.isdigit(): \n",
    "            temp = q.number_to_words(word) \n",
    "            new_str.append(temp) \n",
    "  \n",
    "        # append the texts as it is \n",
    "        else: \n",
    "            new_str.append(word) \n",
    "  \n",
    "    # join the texts of new_str to form a string \n",
    "    temp_str = ' '.join(new_str) \n",
    "    return temp_str \n",
    "  \n",
    "input_str = 'You bought 6 candies from shop, and 4 candies are in home.'\n",
    "convert_num(input_str)"
   ]
  },
  {
   "cell_type": "code",
   "execution_count": 19,
   "metadata": {},
   "outputs": [
    {
     "data": {
      "text/plain": [
       "'one hundred and twenty-five'"
      ]
     },
     "execution_count": 19,
     "metadata": {},
     "output_type": "execute_result"
    }
   ],
   "source": [
    "q.number_to_words(125)"
   ]
  },
  {
   "cell_type": "code",
   "execution_count": 21,
   "metadata": {},
   "outputs": [
    {
     "data": {
      "text/plain": [
       "'zero'"
      ]
     },
     "execution_count": 21,
     "metadata": {},
     "output_type": "execute_result"
    }
   ],
   "source": [
    "q.number_to_words('merve')"
   ]
  },
  {
   "attachments": {
    "image.png": {
     "image/png": "[encoded data removed]"
    }
   },
   "cell_type": "markdown",
   "metadata": {
    "colab_type": "text",
    "id": "506D4NxOJFpk"
   },
   "source": [
    "### Remove Punctuation\n",
    "\n",
    "We remove punctuations because of that we don't have different form of the same word. If we don't remove punctuations, then been, been, and been! will be treated separately.\n",
    "\n",
    "The maketrans() method returns a mapping table that can be used with the translate() method to replace specified characters.\n",
    "\n",
    "![image.png](attachment:image.png)"
   ]
  },
  {
   "cell_type": "code",
   "execution_count": 22,
   "metadata": {},
   "outputs": [
    {
     "data": {
      "text/plain": [
       "'!\"#$%&\\'()*+,-./:;<=>?@[\\\\]^_`{|}~'"
      ]
     },
     "execution_count": 22,
     "metadata": {},
     "output_type": "execute_result"
    }
   ],
   "source": [
    "string.punctuation"
   ]
  },
  {
   "cell_type": "code",
   "execution_count": 0,
   "metadata": {
    "colab": {
     "base_uri": "https://localhost:8080/",
     "height": 34
    },
    "colab_type": "code",
    "executionInfo": {
     "elapsed": 1087,
     "status": "ok",
     "timestamp": 1587309460129,
     "user": {
      "displayName": "Plaban Nayak",
      "photoUrl": "https://lh3.googleusercontent.com/a-/AOh14GhpiPuIKtntBPYdHxwHUqqujeyZU8kubjFK_d6IAg=s64",
      "userId": "08012991239448816971"
     },
     "user_tz": -330
    },
    "id": "5B5eCetpJFpl",
    "outputId": "5e1d6c91-8e5f-4cda-935f-b81cf491316c"
   },
   "outputs": [
    {
     "data": {
      "text/plain": [
       "'Hey Are you excited After a week we will be in Shimla'"
      ]
     },
     "execution_count": 23,
     "metadata": {
      "tags": []
     },
     "output_type": "execute_result"
    }
   ],
   "source": [
    "# let's remove punctuation \n",
    "def rem_punct(text): \n",
    "    translator = str.maketrans('', '', string.punctuation) \n",
    "    return text.translate(translator) \n",
    "  \n",
    "input_str = \"Hey, Are you excited??, After a week, we will be in Shimla!!!\"\n",
    "rem_punct(input_str) "
   ]
  },
  {
   "cell_type": "markdown",
   "metadata": {
    "colab_type": "text",
    "id": "99YJy-_ZJFpo"
   },
   "source": [
    "### Remove default stopwords:\n",
    "\n",
    "Stopwords are words that do not contribute to the meaning of the sentence. Hence, they can be safely removed without causing any change in the meaning of a sentence. The NLTK(Natural Language Toolkit) library has the set of stopwords and we can use these to remove stopwords from our text and return a list of word tokens."
   ]
  },
  {
   "cell_type": "code",
   "execution_count": 0,
   "metadata": {
    "colab": {
     "base_uri": "https://localhost:8080/",
     "height": 102
    },
    "colab_type": "code",
    "executionInfo": {
     "elapsed": 1497,
     "status": "ok",
     "timestamp": 1587310240465,
     "user": {
      "displayName": "Plaban Nayak",
      "photoUrl": "https://lh3.googleusercontent.com/a-/AOh14GhpiPuIKtntBPYdHxwHUqqujeyZU8kubjFK_d6IAg=s64",
      "userId": "08012991239448816971"
     },
     "user_tz": -330
    },
    "id": "Zg0flBIrJFpp",
    "outputId": "db80011f-7277-476a-cfbd-3436f00a1e05"
   },
   "outputs": [
    {
     "name": "stdout",
     "output_type": "stream",
     "text": [
      "[nltk_data] Downloading package stopwords to /root/nltk_data...\n",
      "[nltk_data]   Package stopwords is already up-to-date!\n",
      "[nltk_data] Downloading package punkt to /root/nltk_data...\n",
      "[nltk_data]   Unzipping tokenizers/punkt.zip.\n"
     ]
    },
    {
     "data": {
      "text/plain": [
       "['Data', 'new', 'oil', '.', 'A.I', 'last', 'invention']"
      ]
     },
     "execution_count": 26,
     "metadata": {
      "tags": []
     },
     "output_type": "execute_result"
    }
   ],
   "source": [
    "# importing nltk library\n",
    "from nltk.corpus import stopwords \n",
    "from nltk.tokenize import word_tokenize \n",
    "\n",
    "nltk.download('stopwords')\n",
    "nltk.download('punkt')\n",
    "  \n",
    "# remove stopwords function \n",
    "def rem_stopwords(text): \n",
    "    stop_words = set(stopwords.words(\"english\")) \n",
    "    word_tokens = word_tokenize(text) \n",
    "    filtered_text = [word for word in word_tokens if word not in stop_words] \n",
    "    return filtered_text \n",
    "  \n",
    "ex_text = \"Data is the new oil. A.I is the last invention\"\n",
    "rem_stopwords(ex_text)"
   ]
  },
  {
   "cell_type": "code",
   "execution_count": 24,
   "metadata": {
    "collapsed": true
   },
   "outputs": [
    {
     "data": {
      "text/plain": [
       "{'acaba',\n",
       " 'ama',\n",
       " 'aslında',\n",
       " 'az',\n",
       " 'bazı',\n",
       " 'belki',\n",
       " 'biri',\n",
       " 'birkaç',\n",
       " 'birşey',\n",
       " 'biz',\n",
       " 'bu',\n",
       " 'da',\n",
       " 'daha',\n",
       " 'de',\n",
       " 'defa',\n",
       " 'diye',\n",
       " 'en',\n",
       " 'eğer',\n",
       " 'gibi',\n",
       " 'hem',\n",
       " 'hep',\n",
       " 'hepsi',\n",
       " 'her',\n",
       " 'hiç',\n",
       " 'ile',\n",
       " 'ise',\n",
       " 'için',\n",
       " 'kez',\n",
       " 'ki',\n",
       " 'kim',\n",
       " 'mu',\n",
       " 'mü',\n",
       " 'mı',\n",
       " 'nasıl',\n",
       " 'ne',\n",
       " 'neden',\n",
       " 'nerde',\n",
       " 'nerede',\n",
       " 'nereye',\n",
       " 'niye',\n",
       " 'niçin',\n",
       " 'o',\n",
       " 'sanki',\n",
       " 'siz',\n",
       " 'tüm',\n",
       " 've',\n",
       " 'veya',\n",
       " 'ya',\n",
       " 'yani',\n",
       " 'çok',\n",
       " 'çünkü',\n",
       " 'şey',\n",
       " 'şu'}"
      ]
     },
     "execution_count": 24,
     "metadata": {},
     "output_type": "execute_result"
    }
   ],
   "source": [
    "# set(stopwords.words(\"turkish\")) "
   ]
  },
  {
   "cell_type": "markdown",
   "metadata": {
    "colab_type": "text",
    "id": "uZMQOMO1JFps"
   },
   "source": [
    "### Stemming\n",
    "\n",
    "From Stemming we will process of getting the root form of a word. Root or Stem is the part to which inflextional affixes(like -ed, -ize, etc) are added. We would create the stem words by removing the prefix of suffix of a word. So, stemming a word may not result in actual words.\n",
    "\n",
    "For Example: Mangoes ---> Mango\n",
    "\n",
    "             Boys ---> Boy\n",
    "             \n",
    "             going ---> go\n",
    "             \n",
    "             \n",
    "If our sentences are not in tokens, then we need to convert it into tokens. After we converted strings of text into tokens, then we can convert those word tokens into their root form. These are the Porter stemmer, the snowball stemmer, and the Lancaster Stemmer. We usually use Porter stemmer among them."
   ]
  },
  {
   "cell_type": "code",
   "execution_count": 26,
   "metadata": {
    "colab": {
     "base_uri": "https://localhost:8080/",
     "height": 357
    },
    "colab_type": "code",
    "executionInfo": {
     "elapsed": 1440,
     "status": "ok",
     "timestamp": 1587310264948,
     "user": {
      "displayName": "Plaban Nayak",
      "photoUrl": "https://lh3.googleusercontent.com/a-/AOh14GhpiPuIKtntBPYdHxwHUqqujeyZU8kubjFK_d6IAg=s64",
      "userId": "08012991239448816971"
     },
     "user_tz": -330
    },
    "id": "iwP4-kAgJFpt",
    "outputId": "7e7650de-1794-4051-d383-516feac7acbd"
   },
   "outputs": [
    {
     "data": {
      "text/plain": [
       "['data',\n",
       " 'is',\n",
       " 'the',\n",
       " 'new',\n",
       " 'revolut',\n",
       " 'in',\n",
       " 'the',\n",
       " 'world',\n",
       " ',',\n",
       " 'in',\n",
       " 'a',\n",
       " 'day',\n",
       " 'one',\n",
       " 'individu',\n",
       " 'would',\n",
       " 'gener',\n",
       " 'terabyt',\n",
       " 'of',\n",
       " 'data',\n",
       " '.']"
      ]
     },
     "execution_count": 26,
     "metadata": {},
     "output_type": "execute_result"
    }
   ],
   "source": [
    "#importing nltk's porter stemmer \n",
    "from nltk.stem.porter import PorterStemmer \n",
    "from nltk.tokenize import word_tokenize \n",
    "stem1 = PorterStemmer() \n",
    "  \n",
    "# stem words in the list of tokenised words \n",
    "def stem_words(text): \n",
    "    word_tokens = word_tokenize(text) \n",
    "    stems = [stem1.stem(word) for word in word_tokens] \n",
    "    return stems \n",
    "  \n",
    "text = 'Data is the new revolution in the World, in a day one individual would generate terabytes of data.'\n",
    "stem_words(text)"
   ]
  },
  {
   "cell_type": "markdown",
   "metadata": {
    "colab_type": "text",
    "id": "J3auiVuIJFpw"
   },
   "source": [
    "### Lemmatization\n",
    "\n",
    "As stemming, lemmatization do the same but the only difference is that lemmatization ensures that root word belongs to the language. Because of the use of lemmatization we will get the valid words. In NLTK(Natural language Toolkit), we use WordLemmatizer to get the lemmas of words. We also need to provide a context for the lemmatization.So, we added pos(parts-of-speech) as a parameter. "
   ]
  },
  {
   "cell_type": "code",
   "execution_count": 0,
   "metadata": {
    "colab": {
     "base_uri": "https://localhost:8080/",
     "height": 391
    },
    "colab_type": "code",
    "executionInfo": {
     "elapsed": 3089,
     "status": "ok",
     "timestamp": 1587310431366,
     "user": {
      "displayName": "Plaban Nayak",
      "photoUrl": "https://lh3.googleusercontent.com/a-/AOh14GhpiPuIKtntBPYdHxwHUqqujeyZU8kubjFK_d6IAg=s64",
      "userId": "08012991239448816971"
     },
     "user_tz": -330
    },
    "id": "YavFewldJFpx",
    "outputId": "0bd98cf5-f60a-4008-dff0-23a09c4a8d7f"
   },
   "outputs": [
    {
     "name": "stdout",
     "output_type": "stream",
     "text": [
      "[nltk_data] Downloading package wordnet to /root/nltk_data...\n",
      "[nltk_data]   Unzipping corpora/wordnet.zip.\n"
     ]
    },
    {
     "data": {
      "text/plain": [
       "['Data',\n",
       " 'be',\n",
       " 'the',\n",
       " 'new',\n",
       " 'revolution',\n",
       " 'in',\n",
       " 'the',\n",
       " 'World',\n",
       " ',',\n",
       " 'in',\n",
       " 'a',\n",
       " 'day',\n",
       " 'one',\n",
       " 'individual',\n",
       " 'would',\n",
       " 'generate',\n",
       " 'terabytes',\n",
       " 'of',\n",
       " 'data',\n",
       " '.']"
      ]
     },
     "execution_count": 28,
     "metadata": {
      "tags": []
     },
     "output_type": "execute_result"
    }
   ],
   "source": [
    "from nltk.stem import wordnet \n",
    "from nltk.tokenize import word_tokenize \n",
    "lemma = wordnet.WordNetLemmatizer()\n",
    "nltk.download('wordnet')\n",
    "# lemmatize string \n",
    "def lemmatize_word(text): \n",
    "    word_tokens = word_tokenize(text) \n",
    "    # provide context i.e. part-of-speech(pos)\n",
    "    # v: will do leammatization for just verbs\n",
    "    # n : will do leammatization for just noun\n",
    "    lemmas = [lemma.lemmatize(word, pos ='v') for word in word_tokens] \n",
    "    return lemmas \n",
    "  \n",
    "text = 'Data is the new revolution in the World, in a day one individual would generate terabytes of data.'\n",
    "lemmatize_word(text)"
   ]
  },
  {
   "cell_type": "code",
   "execution_count": 0,
   "metadata": {
    "colab": {
     "base_uri": "https://localhost:8080/",
     "height": 68
    },
    "colab_type": "code",
    "executionInfo": {
     "elapsed": 1051,
     "status": "ok",
     "timestamp": 1587310594271,
     "user": {
      "displayName": "Plaban Nayak",
      "photoUrl": "https://lh3.googleusercontent.com/a-/AOh14GhpiPuIKtntBPYdHxwHUqqujeyZU8kubjFK_d6IAg=s64",
      "userId": "08012991239448816971"
     },
     "user_tz": -330
    },
    "id": "Vs9vYMcSQYu-",
    "outputId": "583d125c-d1a5-492e-c750-4b97599a3b30"
   },
   "outputs": [
    {
     "name": "stdout",
     "output_type": "stream",
     "text": [
      "[nltk_data] Downloading package punkt to /root/nltk_data...\n",
      "[nltk_data]   Package punkt is already up-to-date!\n"
     ]
    },
    {
     "data": {
      "text/plain": [
       "True"
      ]
     },
     "execution_count": 29,
     "metadata": {
      "tags": []
     },
     "output_type": "execute_result"
    }
   ],
   "source": [
    "import nltk\n",
    "nltk.download('punkt')"
   ]
  },
  {
   "cell_type": "markdown",
   "metadata": {
    "colab_type": "text",
    "id": "dt6ZYNpoJFp0"
   },
   "source": [
    "### Parts of Speech (POS) Tagging\n",
    "\n",
    "The pos(parts of speech) explain you how a word is used in a sentence. In the sentence, a word have different contexts and semantic meanings. The basic natural language processing(NLP) models like bag-of-words(bow) fails to identify these relation between the words. For that we use pos tagging to mark a word to its pos tag based on its context in the data. Pos is also used to extract rlationship between the words. "
   ]
  },
  {
   "cell_type": "code",
   "execution_count": 0,
   "metadata": {
    "colab": {
     "base_uri": "https://localhost:8080/",
     "height": 170
    },
    "colab_type": "code",
    "executionInfo": {
     "elapsed": 1079,
     "status": "ok",
     "timestamp": 1587310631873,
     "user": {
      "displayName": "Plaban Nayak",
      "photoUrl": "https://lh3.googleusercontent.com/a-/AOh14GhpiPuIKtntBPYdHxwHUqqujeyZU8kubjFK_d6IAg=s64",
      "userId": "08012991239448816971"
     },
     "user_tz": -330
    },
    "id": "hCjm73RLJFp1",
    "outputId": "3818ce9c-c85c-4105-baf3-2060350687b4",
    "scrolled": true
   },
   "outputs": [
    {
     "name": "stdout",
     "output_type": "stream",
     "text": [
      "[nltk_data] Downloading package averaged_perceptron_tagger to\n",
      "[nltk_data]     /root/nltk_data...\n",
      "[nltk_data]   Unzipping taggers/averaged_perceptron_tagger.zip.\n"
     ]
    },
    {
     "data": {
      "text/plain": [
       "[('Are', 'NNP'),\n",
       " ('you', 'PRP'),\n",
       " ('afraid', 'IN'),\n",
       " ('of', 'IN'),\n",
       " ('something', 'NN'),\n",
       " ('?', '.')]"
      ]
     },
     "execution_count": 31,
     "metadata": {
      "tags": []
     },
     "output_type": "execute_result"
    }
   ],
   "source": [
    "# importing tokenize library\n",
    "from nltk.tokenize import word_tokenize \n",
    "from nltk import pos_tag \n",
    "nltk.download('averaged_perceptron_tagger')\n",
    "  \n",
    "# convert text into word_tokens with their tags \n",
    "def pos_tagg(text): \n",
    "    word_tokens = word_tokenize(text) \n",
    "    return pos_tag(word_tokens) \n",
    "  \n",
    "pos_tagg('Are you afraid of something?') "
   ]
  },
  {
   "cell_type": "markdown",
   "metadata": {
    "colab_type": "text",
    "id": "JtdatdAsJFp4"
   },
   "source": [
    "In the above example NNP stands for Proper noun, PRP stands for personal noun, IN as Preposition. We can get all the details pos tags using the Penn Treebank tagset."
   ]
  },
  {
   "cell_type": "code",
   "execution_count": 0,
   "metadata": {
    "colab": {},
    "colab_type": "code",
    "id": "3Zv_rokfJFp5",
    "outputId": "04fbbb73-e494-40e1-8218-84c81d374ebe"
   },
   "outputs": [
    {
     "name": "stderr",
     "output_type": "stream",
     "text": [
      "[nltk_data] Downloading package tagsets to\n",
      "[nltk_data]     C:\\Users\\User\\AppData\\Roaming\\nltk_data...\n",
      "[nltk_data]   Unzipping help\\tagsets.zip.\n"
     ]
    },
    {
     "name": "stdout",
     "output_type": "stream",
     "text": [
      "PRP: pronoun, personal\n",
      "    hers herself him himself hisself it itself me myself one oneself ours\n",
      "    ourselves ownself self she thee theirs them themselves they thou thy us\n"
     ]
    }
   ],
   "source": [
    "# downloading the tagset  \n",
    "nltk.download('tagsets') \n",
    "  \n",
    "# extract information about the tag \n",
    "nltk.help.upenn_tagset('PRP')"
   ]
  },
  {
   "cell_type": "markdown",
   "metadata": {
    "colab_type": "text",
    "id": "tRBPHRjSJFp8"
   },
   "source": [
    "### Chunking\n",
    "\n",
    "Chunking is the process of extracting phrases from the Unstructured text and give them more structure to it. We also called them shallow parsing.We can do it on top of pos tagging. It groups words into chunks mainly for noun phrases. chunking we do by using regular expression. "
   ]
  },
  {
   "cell_type": "code",
   "execution_count": 0,
   "metadata": {
    "colab": {
     "base_uri": "https://localhost:8080/",
     "height": 153
    },
    "colab_type": "code",
    "executionInfo": {
     "elapsed": 1177,
     "status": "ok",
     "timestamp": 1587311091739,
     "user": {
      "displayName": "Plaban Nayak",
      "photoUrl": "https://lh3.googleusercontent.com/a-/AOh14GhpiPuIKtntBPYdHxwHUqqujeyZU8kubjFK_d6IAg=s64",
      "userId": "08012991239448816971"
     },
     "user_tz": -330
    },
    "id": "lzLmybEuJFp8",
    "outputId": "f88cb72f-e470-42e8-995b-6fd34d67e3bf"
   },
   "outputs": [
    {
     "name": "stdout",
     "output_type": "stream",
     "text": [
      "(S\n",
      "  (NP the/DT little/JJ red/JJ parrot/NN)\n",
      "  is/VBZ\n",
      "  flying/VBG\n",
      "  in/IN\n",
      "  (NP the/DT sky/NN))\n",
      "(NP the/DT little/JJ red/JJ parrot/NN)\n",
      "(NP the/DT sky/NN)\n"
     ]
    }
   ],
   "source": [
    "#importing libraries\n",
    "from nltk.tokenize import word_tokenize  \n",
    "from nltk import pos_tag \n",
    "  \n",
    "# here we define chunking function with text and regular \n",
    "# expressions representing grammar as parameter \n",
    "def chunking(text, grammar): \n",
    "    word_tokens = word_tokenize(text) \n",
    "  \n",
    "    # label words with pos \n",
    "    word_pos = pos_tag(word_tokens) \n",
    "  \n",
    "    # create chunk parser using grammar \n",
    "    chunkParser = nltk.RegexpParser(grammar) \n",
    "  \n",
    "    # test it on the list of word tokens with tagged pos \n",
    "    tree = chunkParser.parse(word_pos) \n",
    "      \n",
    "    for subtree in tree.subtrees(): \n",
    "        print(subtree) \n",
    "    #tree.draw() \n",
    "      \n",
    "sentence = 'the little red parrot is flying in the sky'\n",
    "grammar = \"NP: {<DT>?<JJ>*<NN>}\"\n",
    "chunking(sentence, grammar) "
   ]
  },
  {
   "cell_type": "markdown",
   "metadata": {
    "colab_type": "text",
    "id": "RYT9PqpwJFqA"
   },
   "source": [
    "In the above example, we defined the grammar by using the regular expression rule. This rule tells you that NP(noun phrase) chunk should be formed whenever the chunker find the optional determiner(DJ) followed by any no. of adjectives and then a NN(noun).\n",
    "\n",
    "Image after running above code.\n",
    "<img src=\".\\Images\\11.png\">\n",
    "\n",
    "Libraries like Spacy and TextBlob are best for chunking."
   ]
  },
  {
   "cell_type": "markdown",
   "metadata": {
    "colab_type": "text",
    "id": "E6faIGsRJFqB"
   },
   "source": [
    "### Named Entity Recognition\n",
    "\n",
    "It is used to extract information from unstructured text. It is used to classy the entities which is present in the text into categories like a person, organization, event, places, etc. This will give you a detail knowledge about the text and the relationship between the different entities."
   ]
  },
  {
   "cell_type": "code",
   "execution_count": 0,
   "metadata": {
    "colab": {
     "base_uri": "https://localhost:8080/",
     "height": 442
    },
    "colab_type": "code",
    "executionInfo": {
     "elapsed": 1282,
     "status": "ok",
     "timestamp": 1587311208086,
     "user": {
      "displayName": "Plaban Nayak",
      "photoUrl": "https://lh3.googleusercontent.com/a-/AOh14GhpiPuIKtntBPYdHxwHUqqujeyZU8kubjFK_d6IAg=s64",
      "userId": "08012991239448816971"
     },
     "user_tz": -330
    },
    "id": "QeA_JtIBJFqC",
    "outputId": "293ed047-f199-4841-8f5f-687e83ed15ff"
   },
   "outputs": [
    {
     "name": "stdout",
     "output_type": "stream",
     "text": [
      "[nltk_data] Downloading package maxent_ne_chunker to\n",
      "[nltk_data]     /root/nltk_data...\n",
      "[nltk_data]   Package maxent_ne_chunker is already up-to-date!\n",
      "[nltk_data] Downloading package words to /root/nltk_data...\n",
      "[nltk_data]   Unzipping corpora/words.zip.\n",
      "(S\n",
      "  (PERSON Brain/NNP)\n",
      "  (PERSON Lara/NNP)\n",
      "  scored/VBD\n",
      "  the/DT\n",
      "  highest/JJS\n",
      "  400/CD\n",
      "  runs/NNS\n",
      "  in/IN\n",
      "  a/DT\n",
      "  test/NN\n",
      "  match/NN\n",
      "  which/WDT\n",
      "  played/VBD\n",
      "  in/IN\n",
      "  between/IN\n",
      "  (ORGANIZATION WI/NNP)\n",
      "  and/CC\n",
      "  (GPE England/NNP)\n",
      "  ./.)\n"
     ]
    }
   ],
   "source": [
    "#Importing tokenization and chunk\n",
    "from nltk.tokenize import word_tokenize \n",
    "from nltk import pos_tag, ne_chunk \n",
    "nltk.download('maxent_ne_chunker')\n",
    "nltk.download('words')\n",
    "  \n",
    "def ner(text): \n",
    "    # tokenize the text \n",
    "    word_tokens = word_tokenize(text) \n",
    "  \n",
    "    # pos tagging of words \n",
    "    word_pos = pos_tag(word_tokens) \n",
    "  \n",
    "    # tree of word entities \n",
    "    print(ne_chunk(word_pos)) \n",
    "  \n",
    "text = 'Brain Lara scored the highest 400 runs in a test match which played in between WI and England.'\n",
    "ner(text) "
   ]
  },
  {
   "cell_type": "markdown",
   "metadata": {
    "colab_type": "text",
    "id": "F8QxWgIhJFqF"
   },
   "source": [
    "# Understanding Regex\n",
    "\n",
    "As you're a software developer, you have probably encountered regular expressions many times and got consufed many times with these daunting set of characters grouped together like this:\n",
    "\n",
    "<img src=\".\\Images\\12.png\">\n",
    "\n",
    "And you may wondered what this is all about?\n",
    "\n",
    "Regular Expressions(Regx or RegExp) are too useful in stepping up your algorithm game and this will make you a better problem solver. The structure of Regx can be intimidating at first, but it is very rewarding once you got all the patterns and implement them in your work properly.\n",
    "\n",
    "\n",
    "## What is RegEx and why is it important?\n",
    "\n",
    "A Regex or we called it as regular expression, it is a type of object will help you out to extract information from any string data by searching through text and find it out what you need.Whether it's punctuation, numbers, letters, or even white spaces, RegEx will allow you to check and match any of the character combination in strings.\n",
    "\n",
    "For example, suppose you need to match the format of a email addresses or security numbers. You can utilize RegEx to check the pattern inside the text strings and use it to replace another substring.\n",
    "\n",
    "For instance, a RegEx could tell the program to search for the specific text from the string and then to print out the output accordingly. Expressions can include Text matching, Repetition of words,Branching,pattern-composition.\n",
    "\n",
    "Python supports RegEx through libraries. In RegEx supports for various things like **Identifiers, Modifiers, and White Space.**\n",
    "<img src=\".\\Images\\13.png\">\n",
    "\n",
    "### RegEx Syntax\n",
    "\n",
    "    import re\n",
    "\n",
    "- *re* library in Python is used for string searching and manipulation.\n",
    "- We also used it frequently for web scraping.\n",
    "\n",
    "#### Example for w+ and ^ Expression\n",
    "\n",
    "- *^:* Here in this expression matches the start of a string.\n",
    "- *w+:* This expression matches for the alphanumeric characters from inside the string.\n",
    "\n",
    "Here, we will give one example of how you can use \"w+\" and \"^\" expressions in code. re.findall will cover in next parts,so just focus on the \"w+\" and \"^\" expression.\n",
    "\n",
    "Let's have an example \"iNeuron13, Data is a new fuel\", if we execute the code we will get \"iNeuron13\" as a result."
   ]
  },
  {
   "cell_type": "code",
   "execution_count": 0,
   "metadata": {
    "colab": {
     "base_uri": "https://localhost:8080/",
     "height": 34
    },
    "colab_type": "code",
    "executionInfo": {
     "elapsed": 1280,
     "status": "ok",
     "timestamp": 1587311572112,
     "user": {
      "displayName": "Plaban Nayak",
      "photoUrl": "https://lh3.googleusercontent.com/a-/AOh14GhpiPuIKtntBPYdHxwHUqqujeyZU8kubjFK_d6IAg=s64",
      "userId": "08012991239448816971"
     },
     "user_tz": -330
    },
    "id": "1Ll7r_1RJFqG",
    "outputId": "75ac4d5e-daee-4cf5-c235-8220144b152a"
   },
   "outputs": [
    {
     "name": "stdout",
     "output_type": "stream",
     "text": [
      "['iNeuron13']\n"
     ]
    }
   ],
   "source": [
    "import re\n",
    "sent = \"iNeuron13, Data is a new fuel\"\n",
    "r2 = re.findall(r\"^\\w+\",sent)\n",
    "print(r2)"
   ]
  },
  {
   "cell_type": "markdown",
   "metadata": {
    "colab_type": "text",
    "id": "eCDIypANJFqJ"
   },
   "source": [
    "*Note:* If we remove '+' sign from \\w, the output will change and it'll give only first character of the first letter, i.e [i]"
   ]
  },
  {
   "cell_type": "markdown",
   "metadata": {
    "colab_type": "text",
    "id": "aYONQsX4JFqJ"
   },
   "source": [
    "####  Example of \\s expression in re.split function\n",
    "\n",
    "- \"s:\" This expression we use for creating a space in the string.\n",
    "\n",
    "To understand better this expression we will use the split function in a simple example. In this example, we have to split each words using the \"re.split\" function and at the same time we have used \\s that allows to parse each word in the string seperately."
   ]
  },
  {
   "cell_type": "code",
   "execution_count": 0,
   "metadata": {
    "colab": {},
    "colab_type": "code",
    "id": "k8B4XnkyJFqL",
    "outputId": "4ce07e82-0e1b-44d9-e364-ba2a277d1255"
   },
   "outputs": [
    {
     "name": "stdout",
     "output_type": "stream",
     "text": [
      "['We', 'splited', 'this', 'sentence']\n"
     ]
    }
   ],
   "source": [
    "import re\n",
    "\n",
    "print((re.split(r'\\s','We splited this sentence')))"
   ]
  },
  {
   "cell_type": "markdown",
   "metadata": {
    "colab_type": "text",
    "id": "ebbuYB4GJFqO"
   },
   "source": [
    "As we can see above we got the output ['We', 'splited', 'this', 'sentence'] but what if we remove ' \\ ' from '\\s', it will give result like remove 's' from the entire sentences. Let's see in below example."
   ]
  },
  {
   "cell_type": "code",
   "execution_count": 0,
   "metadata": {
    "colab": {},
    "colab_type": "code",
    "id": "vOSeJ8heJFqP",
    "outputId": "4ca2a8bb-180d-4959-ae74-1790a25451de"
   },
   "outputs": [
    {
     "name": "stdout",
     "output_type": "stream",
     "text": [
      "['We ', 'plited thi', ' ', 'entence']\n"
     ]
    }
   ],
   "source": [
    "import re\n",
    "\n",
    "print((re.split(r's','We splited this sentence')))"
   ]
  },
  {
   "cell_type": "markdown",
   "metadata": {
    "colab_type": "text",
    "id": "Ucqcu5sEJFqS"
   },
   "source": [
    "Similarly, there are series of regular expression in Python that you can use in various ways like  \\d,\\D,$,\\.,\\b, etc."
   ]
  },
  {
   "cell_type": "markdown",
   "metadata": {
    "colab_type": "text",
    "id": "fsqRcZTBJFqS"
   },
   "source": [
    "## Use RegEx methods\n",
    "\n",
    "The \"re\" packages provide several methods to actually perform queries on an input string. We will see different methods which are\n",
    "\n",
    "    re.match()\n",
    "    re.search()\n",
    "    re.findall()\n",
    "    \n",
    "**Note:** Based on the RegEx, Python offers two different primitive operations. This match method checks for the match only at the begining of the string while search checks for a match anywhere in the string.\n",
    "\n",
    "### Using re.match()\n",
    "\n",
    "The match function is used to match the RegEx pattern to string with optional flag. Here, in this \"w+\" and \"\\W\" will match the words starting from \"i\" and thereafter ,anything which is not started with \"i\" is not identified. For checking match for each element in the list or string, we run the for loop."
   ]
  },
  {
   "cell_type": "code",
   "execution_count": 0,
   "metadata": {
    "colab": {
     "base_uri": "https://localhost:8080/",
     "height": 34
    },
    "colab_type": "code",
    "executionInfo": {
     "elapsed": 2006,
     "status": "ok",
     "timestamp": 1587311757332,
     "user": {
      "displayName": "Plaban Nayak",
      "photoUrl": "https://lh3.googleusercontent.com/a-/AOh14GhpiPuIKtntBPYdHxwHUqqujeyZU8kubjFK_d6IAg=s64",
      "userId": "08012991239448816971"
     },
     "user_tz": -330
    },
    "id": "9PwUHm80JFqT",
    "outputId": "c6be7161-c6e3-4a77-f90b-bd879c583671"
   },
   "outputs": [
    {
     "name": "stdout",
     "output_type": "stream",
     "text": [
      "('icecream', 'images')\n"
     ]
    }
   ],
   "source": [
    "import re\n",
    "\n",
    "lists = ['icecream images', 'i immitated', 'inner peace']\n",
    "\n",
    "for i in lists:\n",
    "    q = re.match(\"(i\\w+)\\W(i\\w+)\", i)\n",
    "    \n",
    "    if q:\n",
    "        print((q.groups()))"
   ]
  },
  {
   "cell_type": "markdown",
   "metadata": {
    "colab_type": "text",
    "id": "qgpCmaYRJFqW"
   },
   "source": [
    "### Finding Pattern in the text(re.search())\n",
    "\n",
    "A RegEx is commonly used to search for a pattern in the text. This method takes a RegEx pattern and a string and searches that pattern with the string.\n",
    "\n",
    "For using re.search() function, you need to import re first. The search() function takes the \"pattern\" and \"text\" to scan from our given string and returns the match object when the pattern found or else not match."
   ]
  },
  {
   "cell_type": "code",
   "execution_count": 0,
   "metadata": {
    "colab": {
     "base_uri": "https://localhost:8080/",
     "height": 51
    },
    "colab_type": "code",
    "executionInfo": {
     "elapsed": 1056,
     "status": "ok",
     "timestamp": 1587311837648,
     "user": {
      "displayName": "Plaban Nayak",
      "photoUrl": "https://lh3.googleusercontent.com/a-/AOh14GhpiPuIKtntBPYdHxwHUqqujeyZU8kubjFK_d6IAg=s64",
      "userId": "08012991239448816971"
     },
     "user_tz": -330
    },
    "id": "l-A3PluqJFqW",
    "outputId": "f8d99ecd-daed-4d8e-82af-4386c17f0afa"
   },
   "outputs": [
    {
     "name": "stdout",
     "output_type": "stream",
     "text": [
      "You're looking for 'playing' in 'Raju is playing outside.' Found match!\n",
      "You're looking for 'iNeuron' in 'Raju is playing outside.' no match found!\n"
     ]
    }
   ],
   "source": [
    "import re\n",
    "\n",
    "pattern = [\"playing\", \"iNeuron\"]\n",
    "text = \"Raju is playing outside.\"\n",
    "\n",
    "for p in pattern:\n",
    "    print(\"You're looking for '%s' in '%s'\" %(p, text), end = ' ')\n",
    "    \n",
    "    if re.search(p, text):\n",
    "        print('Found match!')\n",
    "        \n",
    "    else:\n",
    "        print(\"no match found!\")"
   ]
  },
  {
   "cell_type": "markdown",
   "metadata": {
    "colab_type": "text",
    "id": "QpDqwUlYJFqc"
   },
   "source": [
    "In the Above example, we look for two literal strings \"playing\", \"iNeuron\" and in text string we had taken \"Raju is playing outside.\". For \"playing\" we got the match and in the output we got \"Found Match\", while for the word \"iNeuron\" we didn't got any match. So,we got no match found for that word."
   ]
  },
  {
   "cell_type": "markdown",
   "metadata": {
    "colab_type": "text",
    "id": "7Ymvv2F0JFqd"
   },
   "source": [
    "## Using re.findall() for text\n",
    "\n",
    "We use re.findall() module is when you wnat to iterate over the lines of the file, it'll do like list all the matches in one go. Here in a example, we would like to fetch email address from the list and we want to fetch all emails from the list, we use re.findall() method."
   ]
  },
  {
   "cell_type": "code",
   "execution_count": 0,
   "metadata": {
    "colab": {
     "base_uri": "https://localhost:8080/",
     "height": 85
    },
    "colab_type": "code",
    "executionInfo": {
     "elapsed": 1177,
     "status": "ok",
     "timestamp": 1587311902154,
     "user": {
      "displayName": "Plaban Nayak",
      "photoUrl": "https://lh3.googleusercontent.com/a-/AOh14GhpiPuIKtntBPYdHxwHUqqujeyZU8kubjFK_d6IAg=s64",
      "userId": "08012991239448816971"
     },
     "user_tz": -330
    },
    "id": "oWqt1WHIJFqd",
    "outputId": "7d50adf6-d5b3-4c3f-92bc-0b27fed606c8"
   },
   "outputs": [
    {
     "name": "stdout",
     "output_type": "stream",
     "text": [
      "Gaurav@iNeuron.ai\n",
      "Nilesh@iNeuron.ai\n",
      "Jay@iNeuron.ai\n",
      "Vikash@iNeuron.ai\n"
     ]
    }
   ],
   "source": [
    "import re\n",
    "\n",
    "kgf = \"Gaurav@iNeuron.ai, Nilesh@iNeuron.ai, Jay@iNeuron.ai, Vikash@iNeuron.ai\"\n",
    "\n",
    "emails = re.findall(r'[\\w\\.-]+@[\\w\\.-]+', kgf)\n",
    "\n",
    "for e in emails:\n",
    "    print(e)"
   ]
  },
  {
   "cell_type": "markdown",
   "metadata": {
    "colab_type": "text",
    "id": "1Q1qIIAwJFqj"
   },
   "source": [
    "## Python Flags\n",
    "\n",
    "You see many Python RegEx methods and functions take an optional arguemnet flag.This flag can modify the meaning of the given regeEx pattern.\n",
    "\n",
    "Various flags used in python include.\n",
    "<img src=\".\\Images\\14.png\">"
   ]
  },
  {
   "cell_type": "markdown",
   "metadata": {
    "colab_type": "text",
    "id": "78xJQ7GUJFqk"
   },
   "source": [
    "## Let's look the example for re.M or Multiline Flags\n",
    "\n",
    "In the multiline flag the pattern character \"^\" matches the first character of the string and the begining of the each line. While the small \"w\" is used to mark the space with characters.When you run the code first variable \"q1\" prints out the character \"i\" only and while using the Multiline flag will give the result of all first character of all strings."
   ]
  },
  {
   "cell_type": "code",
   "execution_count": 0,
   "metadata": {
    "colab": {
     "base_uri": "https://localhost:8080/",
     "height": 51
    },
    "colab_type": "code",
    "executionInfo": {
     "elapsed": 1405,
     "status": "ok",
     "timestamp": 1587311981335,
     "user": {
      "displayName": "Plaban Nayak",
      "photoUrl": "https://lh3.googleusercontent.com/a-/AOh14GhpiPuIKtntBPYdHxwHUqqujeyZU8kubjFK_d6IAg=s64",
      "userId": "08012991239448816971"
     },
     "user_tz": -330
    },
    "id": "cA7gbHktJFql",
    "outputId": "fbba48a5-0204-448d-9479-9f81d5bd507b"
   },
   "outputs": [
    {
     "name": "stdout",
     "output_type": "stream",
     "text": [
      "['i']\n",
      "['i', 'M', 'L']\n"
     ]
    }
   ],
   "source": [
    "import re\n",
    "\n",
    "aa = \"\"\"iNeuron13\n",
    "Machine\n",
    "Learning\"\"\"\n",
    "\n",
    "q1 = re.findall(r\"^\\w\", aa)\n",
    "q2 = re.findall(r\"^\\w\", aa, re.MULTILINE)\n",
    "print(q1)\n",
    "print(q2)"
   ]
  },
  {
   "cell_type": "markdown",
   "metadata": {
    "colab_type": "text",
    "id": "tS3pw01wJFqr"
   },
   "source": [
    "Likewise, you can also use other Python flags like re.U (Unicode), re.L (Follow locale), re.X (Allow Comment), etc."
   ]
  },
  {
   "cell_type": "code",
   "execution_count": 0,
   "metadata": {
    "colab": {},
    "colab_type": "code",
    "id": "5V2BOSMhJFqy"
   },
   "outputs": [],
   "source": []
  },
  {
   "cell_type": "markdown",
   "metadata": {
    "colab_type": "text",
    "id": "BhQPEBIbJFq4"
   },
   "source": [
    "# Text normalization\n",
    "\n",
    "In the tect pre-processing highly overlooked step is text normalization. The text normalization means the process of transforming the text into the canonical(or standard) form. Like, \"ok\" and \"k\" can be transformed to \"okay\", its canonical form.And another example is mapping of near identical words such as \"preprocessing\", \"pre-processing\" and \"pre processing\" to just \"preprocessing\".\n",
    "\n",
    "Text normaliztion is too useful for noisy textssuch as social media comments, comment to blog posts, text messages, where abbreviations, misspellings, and the use out-of-vocabulary(oov) are prevalent.\n",
    "\n",
    "<img src=\".\\Images\\15.png\">\n",
    "\n",
    "### Effects of normalization\n",
    "\n",
    "Text normalization has even been effective for analyzing highly unstructured clinical texts where physicians take notes in non-standard ways. We have also found it useful for topic extraction where near synonyms and spelling differences are common (like 'topic modelling', 'topic modeling', 'topic-modeling', 'topic-modelling').\n",
    "\n",
    "Unlike stemming and lemmatization, there is not a standard way to normalize texts. It typically depends on the task. For e.g, the way you would normalize clinical texts would arguably be different from how you normalize text messages.\n",
    "\n",
    "Some of the common approaches to text normalization include dictionary mappings, statistical machine translation (SMT) and spelling-correction based approaches."
   ]
  },
  {
   "cell_type": "markdown",
   "metadata": {
    "colab_type": "text",
    "id": "o5JAXa2kJFq6"
   },
   "source": [
    "# Word Count\n",
    "\n",
    "I am assuming you have the understanding of tokenization,the first figure we can calculate is the word frequency.By *word frequency* we can find out how many times each tokens appear in the text. When talking about word frequency, we distinguished between *types* and *tokens*.Types are the distinct words in a corpus, whereas tokens are the words, including repeats. Let's see how this works in practice.\n",
    "\n",
    "Let's take an example for better understanding:\n",
    "\n",
    "“There is no need to panic. We need to work together, take small yet important measures to ensure self-protection,” the Prime Minister tweeted.\n",
    "\n",
    "How many tokens and types are there in above sentences?\n",
    "\n",
    "Let's use Python for calculating these figures. First, tokenize the sentence by using the tokenizer which uses the non-alphabetic characters as a separator."
   ]
  },
  {
   "cell_type": "code",
   "execution_count": 0,
   "metadata": {
    "colab": {},
    "colab_type": "code",
    "id": "0hCsVsvmJFq8"
   },
   "outputs": [],
   "source": [
    "from nltk.tokenize.regexp import WhitespaceTokenizer\n",
    "m = \"'There is no need to panic. We need to work together, take small yet important measures to ensure self-protection,' the Prime Minister tweeted.\""
   ]
  },
  {
   "cell_type": "markdown",
   "metadata": {
    "colab_type": "text",
    "id": "WOTpqJfwJFrG"
   },
   "source": [
    "Note in the above we had used a slightly different syntax for importing the module. You'll recognize by now the variable assignment."
   ]
  },
  {
   "cell_type": "code",
   "execution_count": 0,
   "metadata": {
    "colab": {
     "base_uri": "https://localhost:8080/",
     "height": 34
    },
    "colab_type": "code",
    "executionInfo": {
     "elapsed": 1928,
     "status": "ok",
     "timestamp": 1587312032791,
     "user": {
      "displayName": "Plaban Nayak",
      "photoUrl": "https://lh3.googleusercontent.com/a-/AOh14GhpiPuIKtntBPYdHxwHUqqujeyZU8kubjFK_d6IAg=s64",
      "userId": "08012991239448816971"
     },
     "user_tz": -330
    },
    "id": "4G1dj6KxJFrH",
    "outputId": "3bce4d68-3dd8-455d-ed24-eb55c2fc1bbd"
   },
   "outputs": [
    {
     "name": "stdout",
     "output_type": "stream",
     "text": [
      "23\n"
     ]
    }
   ],
   "source": [
    "tokens = WhitespaceTokenizer().tokenize(m)\n",
    "print(len(tokens))"
   ]
  },
  {
   "cell_type": "code",
   "execution_count": 0,
   "metadata": {
    "colab": {
     "base_uri": "https://localhost:8080/",
     "height": 408
    },
    "colab_type": "code",
    "executionInfo": {
     "elapsed": 658,
     "status": "ok",
     "timestamp": 1587312040488,
     "user": {
      "displayName": "Plaban Nayak",
      "photoUrl": "https://lh3.googleusercontent.com/a-/AOh14GhpiPuIKtntBPYdHxwHUqqujeyZU8kubjFK_d6IAg=s64",
      "userId": "08012991239448816971"
     },
     "user_tz": -330
    },
    "id": "_3UJdOSZK4Ny",
    "outputId": "c350f859-fc2f-4c75-f6b8-4df65bf8e1d1"
   },
   "outputs": [
    {
     "data": {
      "text/plain": [
       "[\"'There\",\n",
       " 'is',\n",
       " 'no',\n",
       " 'need',\n",
       " 'to',\n",
       " 'panic.',\n",
       " 'We',\n",
       " 'need',\n",
       " 'to',\n",
       " 'work',\n",
       " 'together,',\n",
       " 'take',\n",
       " 'small',\n",
       " 'yet',\n",
       " 'important',\n",
       " 'measures',\n",
       " 'to',\n",
       " 'ensure',\n",
       " \"self-protection,'\",\n",
       " 'the',\n",
       " 'Prime',\n",
       " 'Minister',\n",
       " 'tweeted.']"
      ]
     },
     "execution_count": 45,
     "metadata": {
      "tags": []
     },
     "output_type": "execute_result"
    }
   ],
   "source": [
    "tokens"
   ]
  },
  {
   "cell_type": "code",
   "execution_count": 0,
   "metadata": {
    "colab": {
     "base_uri": "https://localhost:8080/",
     "height": 34
    },
    "colab_type": "code",
    "executionInfo": {
     "elapsed": 1431,
     "status": "ok",
     "timestamp": 1587312070560,
     "user": {
      "displayName": "Plaban Nayak",
      "photoUrl": "https://lh3.googleusercontent.com/a-/AOh14GhpiPuIKtntBPYdHxwHUqqujeyZU8kubjFK_d6IAg=s64",
      "userId": "08012991239448816971"
     },
     "user_tz": -330
    },
    "id": "2bWUD3u9JFrM",
    "outputId": "de491e07-9175-4e8e-efdc-7dd3f49a48a1"
   },
   "outputs": [
    {
     "name": "stdout",
     "output_type": "stream",
     "text": [
      "23\n"
     ]
    }
   ],
   "source": [
    "my_vocab = set(tokens)\n",
    "print(len(tokens))"
   ]
  },
  {
   "cell_type": "code",
   "execution_count": 0,
   "metadata": {
    "colab": {
     "base_uri": "https://localhost:8080/",
     "height": 357
    },
    "colab_type": "code",
    "executionInfo": {
     "elapsed": 1507,
     "status": "ok",
     "timestamp": 1587312081943,
     "user": {
      "displayName": "Plaban Nayak",
      "photoUrl": "https://lh3.googleusercontent.com/a-/AOh14GhpiPuIKtntBPYdHxwHUqqujeyZU8kubjFK_d6IAg=s64",
      "userId": "08012991239448816971"
     },
     "user_tz": -330
    },
    "id": "-5ZjzPilLB5K",
    "outputId": "c3c7790a-9be2-43ce-f87a-06d070348ddd"
   },
   "outputs": [
    {
     "data": {
      "text/plain": [
       "{\"'There\",\n",
       " 'Minister',\n",
       " 'Prime',\n",
       " 'We',\n",
       " 'ensure',\n",
       " 'important',\n",
       " 'is',\n",
       " 'measures',\n",
       " 'need',\n",
       " 'no',\n",
       " 'panic.',\n",
       " \"self-protection,'\",\n",
       " 'small',\n",
       " 'take',\n",
       " 'the',\n",
       " 'to',\n",
       " 'together,',\n",
       " 'tweeted.',\n",
       " 'work',\n",
       " 'yet'}"
      ]
     },
     "execution_count": 47,
     "metadata": {
      "tags": []
     },
     "output_type": "execute_result"
    }
   ],
   "source": [
    "my_vocab"
   ]
  },
  {
   "cell_type": "markdown",
   "metadata": {
    "colab_type": "text",
    "id": "9JvxHE1AJFrY"
   },
   "source": [
    "Now we are going to perform the same operation but with the different tokenizer."
   ]
  },
  {
   "cell_type": "code",
   "execution_count": 0,
   "metadata": {
    "colab": {},
    "colab_type": "code",
    "id": "mnKq15I9JFrZ"
   },
   "outputs": [],
   "source": [
    "my_st = \"'There is no need to panic. We need to work together, take small yet important measures to ensure self-protection,' the Prime Minister tweeted.\""
   ]
  },
  {
   "cell_type": "markdown",
   "metadata": {
    "colab_type": "text",
    "id": "NcKmcRMIJFre"
   },
   "source": [
    "We'll import different tokenizer:"
   ]
  },
  {
   "cell_type": "code",
   "execution_count": 0,
   "metadata": {
    "colab": {},
    "colab_type": "code",
    "id": "43GUD6oFJFre"
   },
   "outputs": [],
   "source": [
    "from nltk.tokenize.regexp import WordPunctTokenizer"
   ]
  },
  {
   "cell_type": "markdown",
   "metadata": {
    "colab_type": "text",
    "id": "_vgFr9PCJFr_"
   },
   "source": [
    "Above tokenizer also split the words into tokens:"
   ]
  },
  {
   "cell_type": "code",
   "execution_count": 0,
   "metadata": {
    "colab": {
     "base_uri": "https://localhost:8080/",
     "height": 34
    },
    "colab_type": "code",
    "executionInfo": {
     "elapsed": 1106,
     "status": "ok",
     "timestamp": 1587312107875,
     "user": {
      "displayName": "Plaban Nayak",
      "photoUrl": "https://lh3.googleusercontent.com/a-/AOh14GhpiPuIKtntBPYdHxwHUqqujeyZU8kubjFK_d6IAg=s64",
      "userId": "08012991239448816971"
     },
     "user_tz": -330
    },
    "id": "b4icabaCJFsA",
    "outputId": "5977ba25-7325-4b44-d683-a24220ecd863"
   },
   "outputs": [
    {
     "name": "stdout",
     "output_type": "stream",
     "text": [
      "30\n"
     ]
    }
   ],
   "source": [
    "m_t = WordPunctTokenizer().tokenize(my_st)\n",
    "\n",
    "print(len(m_t))"
   ]
  },
  {
   "cell_type": "code",
   "execution_count": 0,
   "metadata": {
    "colab": {
     "base_uri": "https://localhost:8080/",
     "height": 527
    },
    "colab_type": "code",
    "executionInfo": {
     "elapsed": 1158,
     "status": "ok",
     "timestamp": 1587312132322,
     "user": {
      "displayName": "Plaban Nayak",
      "photoUrl": "https://lh3.googleusercontent.com/a-/AOh14GhpiPuIKtntBPYdHxwHUqqujeyZU8kubjFK_d6IAg=s64",
      "userId": "08012991239448816971"
     },
     "user_tz": -330
    },
    "id": "jQ-xXrPjLO-N",
    "outputId": "95ce845c-4703-44eb-c61c-a3d9d1750cc3"
   },
   "outputs": [
    {
     "data": {
      "text/plain": [
       "[\"'\",\n",
       " 'There',\n",
       " 'is',\n",
       " 'no',\n",
       " 'need',\n",
       " 'to',\n",
       " 'panic',\n",
       " '.',\n",
       " 'We',\n",
       " 'need',\n",
       " 'to',\n",
       " 'work',\n",
       " 'together',\n",
       " ',',\n",
       " 'take',\n",
       " 'small',\n",
       " 'yet',\n",
       " 'important',\n",
       " 'measures',\n",
       " 'to',\n",
       " 'ensure',\n",
       " 'self',\n",
       " '-',\n",
       " 'protection',\n",
       " \",'\",\n",
       " 'the',\n",
       " 'Prime',\n",
       " 'Minister',\n",
       " 'tweeted',\n",
       " '.']"
      ]
     },
     "execution_count": 51,
     "metadata": {
      "tags": []
     },
     "output_type": "execute_result"
    }
   ],
   "source": [
    "m_t"
   ]
  },
  {
   "cell_type": "code",
   "execution_count": 0,
   "metadata": {
    "colab": {
     "base_uri": "https://localhost:8080/",
     "height": 34
    },
    "colab_type": "code",
    "executionInfo": {
     "elapsed": 1874,
     "status": "ok",
     "timestamp": 1587312142240,
     "user": {
      "displayName": "Plaban Nayak",
      "photoUrl": "https://lh3.googleusercontent.com/a-/AOh14GhpiPuIKtntBPYdHxwHUqqujeyZU8kubjFK_d6IAg=s64",
      "userId": "08012991239448816971"
     },
     "user_tz": -330
    },
    "id": "0BV3-8s6JFsF",
    "outputId": "f1ecc738-c995-4a2a-94a3-1cbaaef1b46d"
   },
   "outputs": [
    {
     "name": "stdout",
     "output_type": "stream",
     "text": [
      "26\n"
     ]
    }
   ],
   "source": [
    "my_vocab = set(m_t)\n",
    "print(len(my_vocab))"
   ]
  },
  {
   "cell_type": "code",
   "execution_count": 0,
   "metadata": {
    "colab": {
     "base_uri": "https://localhost:8080/",
     "height": 459
    },
    "colab_type": "code",
    "executionInfo": {
     "elapsed": 1093,
     "status": "ok",
     "timestamp": 1587312168432,
     "user": {
      "displayName": "Plaban Nayak",
      "photoUrl": "https://lh3.googleusercontent.com/a-/AOh14GhpiPuIKtntBPYdHxwHUqqujeyZU8kubjFK_d6IAg=s64",
      "userId": "08012991239448816971"
     },
     "user_tz": -330
    },
    "id": "r68Ukj1NLWGC",
    "outputId": "3e6c08ba-1977-4d61-8d4a-bf967879f412"
   },
   "outputs": [
    {
     "data": {
      "text/plain": [
       "{\"'\",\n",
       " ',',\n",
       " \",'\",\n",
       " '-',\n",
       " '.',\n",
       " 'Minister',\n",
       " 'Prime',\n",
       " 'There',\n",
       " 'We',\n",
       " 'ensure',\n",
       " 'important',\n",
       " 'is',\n",
       " 'measures',\n",
       " 'need',\n",
       " 'no',\n",
       " 'panic',\n",
       " 'protection',\n",
       " 'self',\n",
       " 'small',\n",
       " 'take',\n",
       " 'the',\n",
       " 'to',\n",
       " 'together',\n",
       " 'tweeted',\n",
       " 'work',\n",
       " 'yet'}"
      ]
     },
     "execution_count": 53,
     "metadata": {
      "tags": []
     },
     "output_type": "execute_result"
    }
   ],
   "source": [
    "my_vocab         \n"
   ]
  },
  {
   "cell_type": "markdown",
   "metadata": {
    "colab_type": "text",
    "id": "b0gQRrsrJFsQ"
   },
   "source": [
    "What is the difference between the above approaches? In the first one, vocabulary ends up containing \"words\" and \"words.\" as two distinct words; whereas in second example \"words\" is a token type and \".\" (i.e. the dot) is split into a separate token and this results into a new token type in addition to \"words\"."
   ]
  },
  {
   "cell_type": "code",
   "execution_count": 0,
   "metadata": {
    "colab": {},
    "colab_type": "code",
    "id": "2mxx4rd7JFsR"
   },
   "outputs": [],
   "source": []
  },
  {
   "cell_type": "markdown",
   "metadata": {
    "colab_type": "text",
    "id": "PLpduZLSJFsU"
   },
   "source": [
    "# Frequency distribution\n",
    "\n",
    "What is Frequency distribution? This is basically counting words in your texts.To give a brief example of how it works,"
   ]
  },
  {
   "cell_type": "code",
   "execution_count": 0,
   "metadata": {
    "colab": {
     "base_uri": "https://localhost:8080/",
     "height": 102
    },
    "colab_type": "code",
    "executionInfo": {
     "elapsed": 2571,
     "status": "ok",
     "timestamp": 1587312457017,
     "user": {
      "displayName": "Plaban Nayak",
      "photoUrl": "https://lh3.googleusercontent.com/a-/AOh14GhpiPuIKtntBPYdHxwHUqqujeyZU8kubjFK_d6IAg=s64",
      "userId": "08012991239448816971"
     },
     "user_tz": -330
    },
    "id": "AQCKvtd1JFsV",
    "outputId": "a8eb4f22-f68b-4df3-e3c7-3bfc1a2b3d25"
   },
   "outputs": [
    {
     "name": "stdout",
     "output_type": "stream",
     "text": [
      "\n",
      "\n",
      "\n",
      "\n",
      "<FreqDist with 23 samples and 28 outcomes>\n"
     ]
    }
   ],
   "source": [
    "#from nltk.book import *\n",
    "import nltk\n",
    "#nltk.download('gutenberg')\n",
    "print(\"\\n\\n\\n\")\n",
    "text1 = \"'There is no need to panic. We need to work together, take small yet important measures to ensure self-protection,' the Prime Minister tweeted.\"\n",
    "freqDist = nltk.FreqDist(word_tokenize(text1))\n",
    "print(freqDist)"
   ]
  },
  {
   "cell_type": "markdown",
   "metadata": {
    "colab_type": "text",
    "id": "dWuKVZRuJFsZ"
   },
   "source": [
    "The class **FreqDist** works like a dictionary where keys are the words in the text and the values are count associated with that word. For example, if you want to see how many words \"person\" are in the text, you can type as:"
   ]
  },
  {
   "cell_type": "code",
   "execution_count": 0,
   "metadata": {
    "colab": {
     "base_uri": "https://localhost:8080/",
     "height": 34
    },
    "colab_type": "code",
    "executionInfo": {
     "elapsed": 1437,
     "status": "ok",
     "timestamp": 1587312390554,
     "user": {
      "displayName": "Plaban Nayak",
      "photoUrl": "https://lh3.googleusercontent.com/a-/AOh14GhpiPuIKtntBPYdHxwHUqqujeyZU8kubjFK_d6IAg=s64",
      "userId": "08012991239448816971"
     },
     "user_tz": -330
    },
    "id": "BiqNifrRJFsZ",
    "outputId": "da559715-88ce-4aac-d547-bd9d01182891"
   },
   "outputs": [
    {
     "name": "stdout",
     "output_type": "stream",
     "text": [
      "0\n"
     ]
    }
   ],
   "source": [
    "print(freqDist[\"person\"])"
   ]
  },
  {
   "cell_type": "markdown",
   "metadata": {
    "colab_type": "text",
    "id": "Dz7zeFg7JFsh"
   },
   "source": [
    "One of the most important function in **FreqDist** is the **.keys()** function. Let us see what will it give in a below code."
   ]
  },
  {
   "cell_type": "code",
   "execution_count": 0,
   "metadata": {
    "colab": {
     "base_uri": "https://localhost:8080/",
     "height": 34
    },
    "colab_type": "code",
    "executionInfo": {
     "elapsed": 1391,
     "status": "ok",
     "timestamp": 1587312399747,
     "user": {
      "displayName": "Plaban Nayak",
      "photoUrl": "https://lh3.googleusercontent.com/a-/AOh14GhpiPuIKtntBPYdHxwHUqqujeyZU8kubjFK_d6IAg=s64",
      "userId": "08012991239448816971"
     },
     "user_tz": -330
    },
    "id": "PnVYQ3n2JFsi",
    "outputId": "6de04e09-f684-4bf5-ab32-5c80e55d34ec"
   },
   "outputs": [
    {
     "name": "stdout",
     "output_type": "stream",
     "text": [
      "<class 'dict_keys'>\n"
     ]
    }
   ],
   "source": [
    "words = freqDist.keys()\n",
    "print(type(words))"
   ]
  },
  {
   "cell_type": "markdown",
   "metadata": {
    "colab_type": "text",
    "id": "oJT-YnW_JFsn"
   },
   "source": [
    "After running above code, it'll give as class 'dict_keys', in the other words, you get a list of all the words in your text."
   ]
  },
  {
   "cell_type": "markdown",
   "metadata": {
    "colab_type": "text",
    "id": "2GLyn8jPJFsn"
   },
   "source": [
    "And you want to see how many words are there in the text,"
   ]
  },
  {
   "cell_type": "code",
   "execution_count": 0,
   "metadata": {
    "colab": {
     "base_uri": "https://localhost:8080/",
     "height": 34
    },
    "colab_type": "code",
    "executionInfo": {
     "elapsed": 1597,
     "status": "ok",
     "timestamp": 1587312406723,
     "user": {
      "displayName": "Plaban Nayak",
      "photoUrl": "https://lh3.googleusercontent.com/a-/AOh14GhpiPuIKtntBPYdHxwHUqqujeyZU8kubjFK_d6IAg=s64",
      "userId": "08012991239448816971"
     },
     "user_tz": -330
    },
    "id": "67rPpn_BJFso",
    "outputId": "678b6ede-b063-48fd-bfbe-a851d81c40a9"
   },
   "outputs": [
    {
     "name": "stdout",
     "output_type": "stream",
     "text": [
      "29\n"
     ]
    }
   ],
   "source": [
    "print(len(words))"
   ]
  },
  {
   "cell_type": "markdown",
   "metadata": {
    "colab_type": "text",
    "id": "fwRAdGZ3JFst"
   },
   "source": [
    "In the class nltk.text.Text function do the same stuff, so what is the difference? The difference is that with FreqDist you can create your own texts without the necessity of converting your text to nltk.text.Text class.\n",
    "\n",
    "And the other usual functon is *plot*. Plot will do like it displays the most used words in your text. So, if you want to see 15 most used words in the text , For example like:"
   ]
  },
  {
   "cell_type": "code",
   "execution_count": 0,
   "metadata": {
    "colab": {
     "base_uri": "https://localhost:8080/",
     "height": 318
    },
    "colab_type": "code",
    "executionInfo": {
     "elapsed": 1530,
     "status": "ok",
     "timestamp": 1587312469912,
     "user": {
      "displayName": "Plaban Nayak",
      "photoUrl": "https://lh3.googleusercontent.com/a-/AOh14GhpiPuIKtntBPYdHxwHUqqujeyZU8kubjFK_d6IAg=s64",
      "userId": "08012991239448816971"
     },
     "user_tz": -330
    },
    "id": "ZZYHUCjCJFsu",
    "outputId": "5d339514-c2fe-453b-eff5-030d6b4f9fd7"
   },
   "outputs": [
    {
     "data": {
      "image/png": "[encoded data removed]",
      "text/plain": [
       "<Figure size 432x288 with 1 Axes>"
      ]
     },
     "metadata": {
      "needs_background": "light",
      "tags": []
     },
     "output_type": "display_data"
    }
   ],
   "source": [
    "freqDist.plot(15)"
   ]
  },
  {
   "cell_type": "markdown",
   "metadata": {
    "colab_type": "text",
    "id": "X18QF8fnJFsx"
   },
   "source": [
    "## Personal Frequency Distribution\n",
    "\n",
    "Suppose you want to do frequency distribution based on your own personal text. Let's get started,"
   ]
  },
  {
   "cell_type": "code",
   "execution_count": 0,
   "metadata": {
    "colab": {
     "base_uri": "https://localhost:8080/",
     "height": 34
    },
    "colab_type": "code",
    "executionInfo": {
     "elapsed": 1203,
     "status": "ok",
     "timestamp": 1587312484654,
     "user": {
      "displayName": "Plaban Nayak",
      "photoUrl": "https://lh3.googleusercontent.com/a-/AOh14GhpiPuIKtntBPYdHxwHUqqujeyZU8kubjFK_d6IAg=s64",
      "userId": "08012991239448816971"
     },
     "user_tz": -330
    },
    "id": "YC9Y6ypiJFsy",
    "outputId": "7ca2c9a0-d9e6-4f69-ce5a-b023f7c035f0"
   },
   "outputs": [
    {
     "name": "stdout",
     "output_type": "stream",
     "text": [
      "2\n"
     ]
    }
   ],
   "source": [
    "from nltk import FreqDist\n",
    " \n",
    "sent = \"'There is no need to panic. We need to work together, take small yet important measures to ensure self-protection,' the Prime Minister tweeted.\"\n",
    " \n",
    "text_list = sent.split(\" \")\n",
    " \n",
    "freqDist = FreqDist(text_list)\n",
    "words = list(freqDist.keys())\n",
    " \n",
    "print(freqDist['need'])"
   ]
  },
  {
   "cell_type": "code",
   "execution_count": 0,
   "metadata": {
    "colab": {
     "base_uri": "https://localhost:8080/",
     "height": 347
    },
    "colab_type": "code",
    "executionInfo": {
     "elapsed": 1976,
     "status": "ok",
     "timestamp": 1587312549302,
     "user": {
      "displayName": "Plaban Nayak",
      "photoUrl": "https://lh3.googleusercontent.com/a-/AOh14GhpiPuIKtntBPYdHxwHUqqujeyZU8kubjFK_d6IAg=s64",
      "userId": "08012991239448816971"
     },
     "user_tz": -330
    },
    "id": "YaDtGT2OMo2u",
    "outputId": "d6160eac-17f1-4b61-fdc1-9edfc821966f"
   },
   "outputs": [
    {
     "data": {
      "image/png": "[encoded data removed]",
      "text/plain": [
       "<Figure size 432x288 with 1 Axes>"
      ]
     },
     "metadata": {
      "needs_background": "light",
      "tags": []
     },
     "output_type": "display_data"
    }
   ],
   "source": [
    "freqDist.plot(20)"
   ]
  },
  {
   "cell_type": "markdown",
   "metadata": {
    "colab_type": "text",
    "id": "LnN_ncTgJFs2"
   },
   "source": [
    "In the first line, you don't have to import nltk.book to use the FreqDist class.\n",
    "\n",
    "We then declare sent and text_list variables. The variable *sent* is your custom text and the variable text_list is a list that contains all the words of your custom text.You can see that we used sent.split(\" \") to separate the words.\n",
    "\n",
    "Then you have the variable *freqDist* and words. freqDist is an object of the FreqDist class is for the text you have given and words is the list of all keys of freqDist.\n",
    "\n",
    "The last line of code is where you print your results. In this example, your code will print the count of the word “need”.\n",
    "\n",
    "If you replace “need” with “Prime”, you can see that it will return 1 instead of 2. This is because nltk indexing is case-sensitive. To avoid this, you can use the *.lower()* function in the variable text."
   ]
  },
  {
   "cell_type": "code",
   "execution_count": 0,
   "metadata": {
    "colab": {},
    "colab_type": "code",
    "id": "6Ar6ATbZJFs2"
   },
   "outputs": [],
   "source": []
  }
 ],
 "metadata": {
  "colab": {
   "name": "Text Processing in NLP.ipynb",
   "provenance": []
  },
  "kernelspec": {
   "display_name": "Python 3 (ipykernel)",
   "language": "python",
   "name": "python3"
  },
  "language_info": {
   "codemirror_mode": {
    "name": "ipython",
    "version": 3
   },
   "file_extension": ".py",
   "mimetype": "text/x-python",
   "name": "python",
   "nbconvert_exporter": "python",
   "pygments_lexer": "ipython3",
   "version": "3.9.12"
  }
 },
 "nbformat": 4,
 "nbformat_minor": 1
}
